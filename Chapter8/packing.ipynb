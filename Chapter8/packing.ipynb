{
 "cells": [
  {
   "cell_type": "code",
   "execution_count": 9,
   "id": "2f43a8cc",
   "metadata": {},
   "outputs": [],
   "source": [
    "# 패딩을 진행하지 않고도 packing을 통해 데이터를 배치별로 묶어줄 수 있다. \n",
    "# input (list of Tensor)는 길이에 따른 내림차순으로 정렬이 되어있어야 한다."
   ]
  },
  {
   "cell_type": "markdown",
   "id": "1e13f090",
   "metadata": {},
   "source": [
    "## packing"
   ]
  },
  {
   "cell_type": "code",
   "execution_count": 12,
   "id": "1f45f525",
   "metadata": {
    "scrolled": true
   },
   "outputs": [
    {
     "name": "stdout",
     "output_type": "stream",
     "text": [
      "1. packed 이전\n",
      "[tensor([1, 2, 3]), tensor([4, 5]), tensor([6])]\n",
      "2. packed 이후\n",
      "PackedSequence(data=tensor([1, 4, 6, 2, 5, 3]), batch_sizes=tensor([3, 2, 1]), sorted_indices=None, unsorted_indices=None)\n"
     ]
    }
   ],
   "source": [
    "import torch\n",
    "from torch.nn.utils.rnn import pack_sequence\n",
    "a = torch.tensor([1, 2, 3])\n",
    "b = torch.tensor([4, 5])\n",
    "c = torch.tensor([6])\n",
    "\n",
    "print(\"1. packed 이전\")\n",
    "print([a, b, c])\n",
    "print(\"2. packed 이후\")\n",
    "packed_sequences = pack_sequence([a, b, c])\n",
    "print(packed_sequences)"
   ]
  },
  {
   "cell_type": "markdown",
   "id": "d0c1b918",
   "metadata": {},
   "source": [
    "## unpacking"
   ]
  },
  {
   "cell_type": "code",
   "execution_count": 16,
   "id": "ae67400a",
   "metadata": {},
   "outputs": [
    {
     "name": "stdout",
     "output_type": "stream",
     "text": [
      "1. unpacked 이전\n",
      "PackedSequence(data=tensor([1, 4, 6, 2, 5, 3]), batch_sizes=tensor([3, 2, 1]), sorted_indices=None, unsorted_indices=None)\n",
      "2. unpacked 이후\n",
      "[tensor([1, 2, 3]), tensor([4, 5]), tensor([6])]\n"
     ]
    }
   ],
   "source": [
    "from torch.nn.utils.rnn import pack_sequence,unpack_sequence\n",
    "\n",
    "print(\"1. unpacked 이전\")\n",
    "print(packed_sequences)\n",
    "\n",
    "print(\"2. unpacked 이후\")\n",
    "unpacked_sequences = unpack_sequence(packed_sequences)\n",
    "\n",
    "print(unpacked_sequences)"
   ]
  },
  {
   "cell_type": "code",
   "execution_count": null,
   "id": "08839b3f",
   "metadata": {},
   "outputs": [],
   "source": []
  }
 ],
 "metadata": {
  "kernelspec": {
   "display_name": "nlp",
   "language": "python",
   "name": "nlp"
  },
  "language_info": {
   "codemirror_mode": {
    "name": "ipython",
    "version": 3
   },
   "file_extension": ".py",
   "mimetype": "text/x-python",
   "name": "python",
   "nbconvert_exporter": "python",
   "pygments_lexer": "ipython3",
   "version": "3.8.17"
  }
 },
 "nbformat": 4,
 "nbformat_minor": 5
}
