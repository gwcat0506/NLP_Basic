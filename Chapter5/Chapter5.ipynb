{
 "cells": [
  {
   "cell_type": "markdown",
   "id": "a306a3da",
   "metadata": {},
   "source": [
    "### 사전학습된 임베딩 들고오기 "
   ]
  },
  {
   "cell_type": "code",
   "execution_count": 17,
   "id": "684546a4",
   "metadata": {},
   "outputs": [],
   "source": [
    "import numpy as np\n",
    "from annoy import AnnoyIndex"
   ]
  },
  {
   "cell_type": "code",
   "execution_count": 18,
   "id": "316b7ca4",
   "metadata": {},
   "outputs": [
    {
     "name": "stdout",
     "output_type": "stream",
     "text": [
      "the -0.038194 -0.24487 0.72812 -0.39961 0.083172 0.043953 -0.39141 0.3344 -0.57545 0.087459 0.28787 -0.06731 0.30906 -0.26384 -0.13231 -0.20757 0.33395 -0.33848 -0.31743 -0.48336 0.1464 -0.37304 0.34577 0.052041 0.44946 -0.46971 0.02628 -0.54155 -0.15518 -0.14107 -0.039722 0.28277 0.14393 0.23464 -0.31021 0.086173 0.20397 0.52624 0.17164 -0.082378 -0.71787 -0.41531 0.20335 -0.12763 0.41367 0.55187 0.57908 -0.33477 -0.36559 -0.54857 -0.062892 0.26584 0.30205 0.99775 -0.80481 -3.0243 0.01254 -0.36942 2.2167 0.72201 -0.24978 0.92136 0.034514 0.46745 1.1079 -0.19358 -0.074575 0.23353 -0.052062 -0.22044 0.057162 -0.15806 -0.30798 -0.41625 0.37972 0.15006 -0.53212 -0.2055 -1.2526 0.071624 0.70565 0.49744 -0.42063 0.26148 -1.538 -0.30223 -0.073438 -0.28312 0.37104 -0.25217 0.016215 -0.017099 -0.38984 0.87424 -0.72569 -0.51058 -0.52028 -0.1459 0.8278 0.27062\n",
      "\n"
     ]
    }
   ],
   "source": [
    "with open('../../data/glove.6B.100d.txt') as f:\n",
    "    for line in f.readlines():\n",
    "        print(line)\n",
    "        break"
   ]
  },
  {
   "cell_type": "code",
   "execution_count": 19,
   "id": "9f267e9a",
   "metadata": {},
   "outputs": [
    {
     "name": "stdout",
     "output_type": "stream",
     "text": [
      "400000\n"
     ]
    }
   ],
   "source": [
    "with open('../../data/glove.6B.100d.txt') as f:\n",
    "    print(len(f.readlines()))"
   ]
  },
  {
   "cell_type": "code",
   "execution_count": 20,
   "id": "6f5fcffc",
   "metadata": {},
   "outputs": [
    {
     "name": "stdout",
     "output_type": "stream",
     "text": [
      "the -0.038194 -0.24487 0.72812 -0.39961 0.083172 0.043953 -0.39141 0.3344 -0.57545 0.087459 0.28787 -0.06731 0.30906 -0.26384 -0.13231 -0.20757 0.33395 -0.33848 -0.31743 -0.48336 0.1464 -0.37304 0.34577 0.052041 0.44946 -0.46971 0.02628 -0.54155 -0.15518 -0.14107 -0.039722 0.28277 0.14393 0.23464 -0.31021 0.086173 0.20397 0.52624 0.17164 -0.082378 -0.71787 -0.41531 0.20335 -0.12763 0.41367 0.55187 0.57908 -0.33477 -0.36559 -0.54857 -0.062892 0.26584 0.30205 0.99775 -0.80481 -3.0243 0.01254 -0.36942 2.2167 0.72201 -0.24978 0.92136 0.034514 0.46745 1.1079 -0.19358 -0.074575 0.23353 -0.052062 -0.22044 0.057162 -0.15806 -0.30798 -0.41625 0.37972 0.15006 -0.53212 -0.2055 -1.2526 0.071624 0.70565 0.49744 -0.42063 0.26148 -1.538 -0.30223 -0.073438 -0.28312 0.37104 -0.25217 0.016215 -0.017099 -0.38984 0.87424 -0.72569 -0.51058 -0.52028 -0.1459 0.8278 0.27062\n",
      "\n",
      "{'the': 0}\n",
      "[array([-0.038194, -0.24487 ,  0.72812 , -0.39961 ,  0.083172,  0.043953,\n",
      "       -0.39141 ,  0.3344  , -0.57545 ,  0.087459,  0.28787 , -0.06731 ,\n",
      "        0.30906 , -0.26384 , -0.13231 , -0.20757 ,  0.33395 , -0.33848 ,\n",
      "       -0.31743 , -0.48336 ,  0.1464  , -0.37304 ,  0.34577 ,  0.052041,\n",
      "        0.44946 , -0.46971 ,  0.02628 , -0.54155 , -0.15518 , -0.14107 ,\n",
      "       -0.039722,  0.28277 ,  0.14393 ,  0.23464 , -0.31021 ,  0.086173,\n",
      "        0.20397 ,  0.52624 ,  0.17164 , -0.082378, -0.71787 , -0.41531 ,\n",
      "        0.20335 , -0.12763 ,  0.41367 ,  0.55187 ,  0.57908 , -0.33477 ,\n",
      "       -0.36559 , -0.54857 , -0.062892,  0.26584 ,  0.30205 ,  0.99775 ,\n",
      "       -0.80481 , -3.0243  ,  0.01254 , -0.36942 ,  2.2167  ,  0.72201 ,\n",
      "       -0.24978 ,  0.92136 ,  0.034514,  0.46745 ,  1.1079  , -0.19358 ,\n",
      "       -0.074575,  0.23353 , -0.052062, -0.22044 ,  0.057162, -0.15806 ,\n",
      "       -0.30798 , -0.41625 ,  0.37972 ,  0.15006 , -0.53212 , -0.2055  ,\n",
      "       -1.2526  ,  0.071624,  0.70565 ,  0.49744 , -0.42063 ,  0.26148 ,\n",
      "       -1.538   , -0.30223 , -0.073438, -0.28312 ,  0.37104 , -0.25217 ,\n",
      "        0.016215, -0.017099, -0.38984 ,  0.87424 , -0.72569 , -0.51058 ,\n",
      "       -0.52028 , -0.1459  ,  0.8278  ,  0.27062 ])]\n"
     ]
    }
   ],
   "source": [
    "# 일부만 출력해서 확인하기 \n",
    "word_to_index = {}\n",
    "word_vectors = []\n",
    "\n",
    "with open('../../data/glove.6B.100d.txt') as f:\n",
    "    for line in f.readlines():\n",
    "        print(line)\n",
    "        line = line.split(\" \") # ex) the -0.038194 -0.24487 0.72812 -0.39961 .....\n",
    "        word = line[0] # ex) the\n",
    "        vec = np.array([float(x) for x in line[1:]]) # ex) -0.038194 -0.24487 0.72812 .....\n",
    "\n",
    "        word_to_index[word] = len(word_to_index) # 딕셔너리에 할당, ex) {'the': 0}\n",
    "        word_vectors.append(vec) # ex) [-0.038194 -0.24487 0.72812 ..... ]\n",
    "        \n",
    "        print(word_to_index)\n",
    "        print(word_vectors)\n",
    "        break"
   ]
  },
  {
   "cell_type": "code",
   "execution_count": 21,
   "id": "625b680c",
   "metadata": {},
   "outputs": [],
   "source": [
    "word_to_index = {}\n",
    "word_vectors = []\n",
    "\n",
    "with open('../../data/glove.6B.100d.txt') as f:\n",
    "    for line in f.readlines():\n",
    "#         print(line)\n",
    "        line = line.split(\" \") # ex) the -0.038194 -0.24487 0.72812 -0.39961 .....\n",
    "        word = line[0] # ex) the\n",
    "        vec = np.array([float(x) for x in line[1:]]) # ex) -0.038194 -0.24487 0.72812 .....\n",
    "\n",
    "        word_to_index[word] = len(word_to_index) # 딕셔너리에 할당, ex) {'the': 0}\n",
    "        word_vectors.append(vec) # ex) [-0.038194 -0.24487 0.72812 ..... ]\n",
    "                    \n",
    "#         print(word_to_index)\n",
    "#         print(word_vectors)"
   ]
  },
  {
   "cell_type": "code",
   "execution_count": 22,
   "id": "f69bf6f8",
   "metadata": {},
   "outputs": [
    {
     "name": "stdout",
     "output_type": "stream",
     "text": [
      "[ 0.90715   0.064843  1.1566   -0.3465    0.14296  -0.27646  -0.017816\n",
      " -0.12121  -1.3285   -0.09812   0.87256  -0.16852   0.047454 -0.33343\n",
      " -0.27088   0.28921   0.33383  -0.05773   0.18968   0.53989   0.68687\n",
      "  0.56052   0.52556   0.53909   0.34341  -0.61371  -0.26548  -0.42634\n",
      "  0.49248  -0.54542  -0.29126  -0.092725  0.046827  0.84663  -0.48321\n",
      "  0.17015  -0.6567    0.23944  -0.55302   0.091274  0.25736  -0.27976\n",
      " -0.013608  0.065933  0.3542   -0.75957   0.51267  -1.1732    0.15933\n",
      " -1.6229    0.56459  -0.26746   0.45518   1.0818    0.47754  -2.7297\n",
      " -0.072848  0.25136   1.4372    1.0144   -0.36866  -0.44527  -0.35746\n",
      "  0.081572 -0.043148 -0.17133   0.57359   0.48109   0.64189  -0.35552\n",
      " -0.03176   0.8223   -0.44467   0.47329   0.028232  0.057876 -0.42354\n",
      " -0.71167  -0.60101  -0.12724   0.70369   0.5142   -0.058689  0.08078\n",
      " -0.7596   -0.31802   0.21919  -0.41005  -0.092171  0.80333  -0.37917\n",
      "  0.77842  -0.3825   -0.36406  -0.38988  -0.29918  -0.75252  -0.11745\n",
      "  0.61162  -0.30405 ]\n"
     ]
    }
   ],
   "source": [
    "# 어떤 단어에 대한 vector 출력하는 함수\n",
    "def get_embedding(word):\n",
    "    return word_vectors[word_to_index[word]]\n",
    "\n",
    "print(get_embedding('record'))"
   ]
  },
  {
   "cell_type": "code",
   "execution_count": 23,
   "id": "d9ec4321",
   "metadata": {},
   "outputs": [
    {
     "name": "stdout",
     "output_type": "stream",
     "text": [
      "{'the': 0, ',': 1, '.': 2, 'of': 3, 'to': 4}\n"
     ]
    }
   ],
   "source": [
    "print(dict(list(word_to_index.items())[:5]))"
   ]
  },
  {
   "cell_type": "code",
   "execution_count": 24,
   "id": "af1bd48a",
   "metadata": {},
   "outputs": [
    {
     "data": {
      "text/plain": [
       "True"
      ]
     },
     "execution_count": 24,
     "metadata": {},
     "output_type": "execute_result"
    }
   ],
   "source": [
    "# 단어 임베딩을 Annoy 인덱스에 추가하고 해당 인덱스를 구축하여 검색을 위한 준비\n",
    "\n",
    "index = AnnoyIndex(len(word_vectors[0]),metric='euclidean')\n",
    "\n",
    "for _, i in word_to_index.items():\n",
    "    index.add_item(i, word_vectors[i])\n",
    "index.build(50)"
   ]
  },
  {
   "cell_type": "code",
   "execution_count": 25,
   "id": "2ffa84f6",
   "metadata": {},
   "outputs": [
    {
     "name": "stdout",
     "output_type": "stream",
     "text": [
      "{0: 'the', 1: ',', 2: '.', 3: 'of', 4: 'to'}\n"
     ]
    }
   ],
   "source": [
    "index_to_word = {v:k for k,v in word_to_index.items()}\n",
    "\n",
    "print(dict(list(index_to_word.items())[:5]))"
   ]
  },
  {
   "cell_type": "code",
   "execution_count": 26,
   "id": "e9e1b798",
   "metadata": {},
   "outputs": [
    {
     "name": "stdout",
     "output_type": "stream",
     "text": [
      "['js03', 'bulletinyyy', '65stk', 'mo95', 'bdb94']\n"
     ]
    }
   ],
   "source": [
    "example_vector = [0.1, 0.2, -0.3, 0.4, -0.1,\n",
    "                 0.1, 0.2, -0.3, 0.4, -0.1,\n",
    "                 0.1, 0.2, -0.3, 0.4, -0.1,\n",
    "                 0.1, 0.2, -0.3, 0.4, -0.1,\n",
    "                 0.1, 0.2, -0.3, 0.4, -0.1,\n",
    "                 0.1, 0.2, -0.3, 0.4, -0.1,\n",
    "                 0.1, 0.2, -0.3, 0.4, -0.1,\n",
    "                 0.1, 0.2, -0.3, 0.4, -0.1,\n",
    "                 0.1, 0.2, -0.3, 0.4, -0.1,\n",
    "                 0.1, 0.2, -0.3, 0.4, -0.1,\n",
    "                 0.1, 0.2, -0.3, 0.4, -0.1,\n",
    "                 0.1, 0.2, -0.3, 0.4, -0.1,\n",
    "                 0.1, 0.2, -0.3, 0.4, -0.1,\n",
    "                 0.1, 0.2, -0.3, 0.4, -0.1,\n",
    "                 0.1, 0.2, -0.3, 0.4, -0.1,\n",
    "                 0.1, 0.2, -0.3, 0.4, -0.1,\n",
    "                 0.1, 0.2, -0.3, 0.4, -0.1,\n",
    "                 0.1, 0.2, -0.3, 0.4, -0.1,\n",
    "                 0.1, 0.2, -0.3, 0.4, -0.1,\n",
    "                 0.1, 0.2, -0.3, 0.4, -0.1]\n",
    "\n",
    "def get_closet_to_vector(vector, n=1):\n",
    "    \"\"\"벡터가 주어지면 최근접 이웃을 n개 반환한다. \"\"\"\n",
    "    nn_indices = index.get_nns_by_vector(vector, n)\n",
    "    return [index_to_word[neighbor] for neighbor in nn_indices]\n",
    "\n",
    "print(get_closet_to_vector(example_vector,5))"
   ]
  },
  {
   "cell_type": "code",
   "execution_count": 27,
   "id": "2e4a0c36",
   "metadata": {},
   "outputs": [],
   "source": [
    "def compute_and_print_analogy(word1,word2,word3):\n",
    "    \n",
    "    vec1 = get_embedding(word1)\n",
    "    vec2 = get_embedding(word2)\n",
    "    vec3 = get_embedding(word3)\n",
    "    \n",
    "#     단순 가정 : 이 유추는 공간적 관계입니다. \n",
    "    spatial_relationship = vec2 - vec1\n",
    "    vec4 = vec3 + spatial_relationship\n",
    "    \n",
    "    closest_words = get_closet_to_vector(vec4,n=4)\n",
    "    existing_words = ([word1,word2,word3])\n",
    "    closest_words = [ word for word in closest_words \n",
    "                             if word not in existing_words]\n",
    "    \n",
    "    if len(closest_words)==0:\n",
    "        print(\"계산된 벡터와 가장 가까운 이웃을 찾을 수 없습니다.\")\n",
    "        return \n",
    "    \n",
    "    for word4 in closest_words:\n",
    "        print(\"{} : {} :: {} : {}\".format(word1,word2,word3,word4))"
   ]
  },
  {
   "cell_type": "markdown",
   "id": "14b343cd",
   "metadata": {},
   "source": [
    "### word4를 추론하기"
   ]
  },
  {
   "cell_type": "code",
   "execution_count": 28,
   "id": "c864f131",
   "metadata": {
    "scrolled": true
   },
   "outputs": [
    {
     "name": "stdout",
     "output_type": "stream",
     "text": [
      "man : he :: woman : she\n",
      "man : he :: woman : never\n"
     ]
    }
   ],
   "source": [
    "# 관계 1 : 성별 명사와 대명사의 관계\n",
    "compute_and_print_analogy('man', 'he', 'woman')"
   ]
  },
  {
   "cell_type": "code",
   "execution_count": 29,
   "id": "e0849621",
   "metadata": {},
   "outputs": [
    {
     "name": "stdout",
     "output_type": "stream",
     "text": [
      "fly : plane :: sail : ship\n",
      "fly : plane :: sail : vessel\n"
     ]
    }
   ],
   "source": [
    "# 관계 2 : 동사-명사 관계 \n",
    "compute_and_print_analogy('fly', 'plane', 'sail')"
   ]
  },
  {
   "cell_type": "code",
   "execution_count": 30,
   "id": "ae583fee",
   "metadata": {},
   "outputs": [
    {
     "name": "stdout",
     "output_type": "stream",
     "text": [
      "cat : kitten :: dog : puppy\n",
      "cat : kitten :: dog : puppies\n",
      "cat : kitten :: dog : panting\n"
     ]
    }
   ],
   "source": [
    "# 관계 3 : 명사-명사 관계 \n",
    "compute_and_print_analogy('cat', 'kitten', 'dog')"
   ]
  },
  {
   "cell_type": "code",
   "execution_count": 31,
   "id": "4a0269f1",
   "metadata": {},
   "outputs": [
    {
     "name": "stdout",
     "output_type": "stream",
     "text": [
      "blue : color :: dog : cat\n",
      "blue : color :: dog : animal\n",
      "blue : color :: dog : breed\n"
     ]
    }
   ],
   "source": [
    "# 관계 4 : 상위어 관계 \n",
    "compute_and_print_analogy('blue', 'color', 'dog')"
   ]
  },
  {
   "cell_type": "code",
   "execution_count": 32,
   "id": "6ef7463f",
   "metadata": {},
   "outputs": [
    {
     "name": "stdout",
     "output_type": "stream",
     "text": [
      "toe : foot :: finger : hand\n",
      "toe : foot :: finger : kept\n"
     ]
    }
   ],
   "source": [
    "# 관계 5 : 부분-전체 관계 \n",
    "compute_and_print_analogy('toe', 'foot', 'finger')"
   ]
  },
  {
   "cell_type": "code",
   "execution_count": 33,
   "id": "ba100d57",
   "metadata": {},
   "outputs": [
    {
     "name": "stdout",
     "output_type": "stream",
     "text": [
      "talk : communicate :: read : typed\n",
      "talk : communicate :: read : correctly\n"
     ]
    }
   ],
   "source": [
    "# 관계 6 : 방식 차이\n",
    "compute_and_print_analogy('talk', 'communicate', 'read')"
   ]
  },
  {
   "cell_type": "code",
   "execution_count": 34,
   "id": "ea061ac0",
   "metadata": {},
   "outputs": [
    {
     "name": "stdout",
     "output_type": "stream",
     "text": [
      "blue : democrat :: red : republican\n",
      "blue : democrat :: red : congressman\n",
      "blue : democrat :: red : senator\n"
     ]
    }
   ],
   "source": [
    "# 관계 7 : 전체 의미 표현(관습 /인물)\n",
    "compute_and_print_analogy('blue', 'democrat', 'red')"
   ]
  },
  {
   "cell_type": "code",
   "execution_count": 35,
   "id": "ed0caaad",
   "metadata": {},
   "outputs": [
    {
     "name": "stdout",
     "output_type": "stream",
     "text": [
      "fast : fastest :: young : youngest\n",
      "fast : fastest :: young : sixth\n",
      "fast : fastest :: young : fifth\n",
      "fast : fastest :: young : fourth\n"
     ]
    }
   ],
   "source": [
    "# 관계 8 : 비교급\n",
    "compute_and_print_analogy('fast', 'fastest', 'young')"
   ]
  },
  {
   "cell_type": "markdown",
   "id": "a91717cc",
   "metadata": {},
   "source": [
    "### 잘못된 출력"
   ]
  },
  {
   "cell_type": "code",
   "execution_count": 36,
   "id": "3c694c51",
   "metadata": {},
   "outputs": [
    {
     "name": "stdout",
     "output_type": "stream",
     "text": [
      "man : king :: woman : queen\n",
      "man : king :: woman : monarch\n",
      "man : king :: woman : throne\n"
     ]
    }
   ],
   "source": [
    "compute_and_print_analogy('man', 'king', 'woman')"
   ]
  },
  {
   "cell_type": "code",
   "execution_count": 37,
   "id": "44915938",
   "metadata": {},
   "outputs": [
    {
     "name": "stdout",
     "output_type": "stream",
     "text": [
      "man : doctor :: woman : nurse\n",
      "man : doctor :: woman : physician\n"
     ]
    }
   ],
   "source": [
    "compute_and_print_analogy('man', 'doctor', 'woman')"
   ]
  },
  {
   "cell_type": "code",
   "execution_count": null,
   "id": "d63d2c1b",
   "metadata": {},
   "outputs": [],
   "source": []
  }
 ],
 "metadata": {
  "kernelspec": {
   "display_name": "nlp",
   "language": "python",
   "name": "nlp"
  },
  "language_info": {
   "codemirror_mode": {
    "name": "ipython",
    "version": 3
   },
   "file_extension": ".py",
   "mimetype": "text/x-python",
   "name": "python",
   "nbconvert_exporter": "python",
   "pygments_lexer": "ipython3",
   "version": "3.8.17"
  }
 },
 "nbformat": 4,
 "nbformat_minor": 5
}
