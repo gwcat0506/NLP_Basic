{
 "cells": [
  {
   "cell_type": "markdown",
   "metadata": {},
   "source": [
    "### 데이터 로드 및 split"
   ]
  },
  {
   "cell_type": "code",
   "execution_count": null,
   "metadata": {},
   "outputs": [],
   "source": [
    "import collections\n",
    "import re\n",
    "\n",
    "import pandas as pd\n",
    "import numpy as np\n",
    "import argparse\n",
    "\n",
    "\n",
    "# set up arguments\n",
    "parser = argparse.ArgumentParser(description='Split DataSet Arguments.')\n",
    "parser.add_argument('--seed', dest='seed', type=int, help='seed argument')\n",
    "parser.add_argument('--train', dest='train_propostion', type=float, help='seed argument', default=\"0.7\")\n",
    "parser.add_argument('--val', dest='val_propostion', type=float, help='seed argument', default=\"0.2\")\n",
    "parser.add_argument('--test', dest='test_propostion', type=float, help='seed argument', default=\"0.1\")\n",
    "\n",
    "args = parser.parse_args()\n",
    "\n",
    "# Yelp 데이터 로드\n",
    "csv_file = \"../data/raw_train.csv\"\n",
    "review_subset = pd.read_csv(csv_file, delimiter=',')\n",
    "\n",
    "by_rating = collections.defaultdict(list)\n",
    "\n",
    "for _, row in review_subset.iterrows():\n",
    "    by_rating[row.rating].append(row.to_dict())\n",
    "\n",
    "final_list = []\n",
    "# 고정된 숫자로 설정\n",
    "np.random.seed(args.seed)\n",
    "\n",
    "# 분할 데이터 만들기 \n",
    "for _, item_list in sorted(by_rating.items()):\n",
    "    np.random.shuffle(item_list)\n",
    "\n",
    "    n_total = len(item_list)\n",
    "    n_train = int(args.train_propostion * n_total) # 0.7\n",
    "    n_val = int(args.val_propostion * n_total) # 0.2\n",
    "    n_test = int(args.test_propostion * n_total) # 0.1\n",
    "\n",
    "    # 데이터 나누기\n",
    "    for item in item_list[:n_train]:\n",
    "        item['split'] = 'train'\n",
    "\n",
    "    for item in item_list[n_train:n_train+n_val]:\n",
    "        item['split'] = 'val'\n",
    "\n",
    "    for item in item_list[n_train+n_val:n_train+n_val+n_test]:\n",
    "        item['split'] = 'test'\n",
    "\n",
    "    final_list.extend(item_list)\n",
    "    \n",
    "# 최종 데이터 \n",
    "final_reviews = pd.DataFrame(final_list)\n",
    "\n",
    "# 데이터 정제\n",
    "def preprocess_text(text):\n",
    "    text = text.lower()\n",
    "    text = re.sub(r\"([.,!?])\", r\" \\1 \", text)\n",
    "    text = re.sub(r\"[^a-zA-Z.,!?]\", r\" \", text)\n",
    "    return text\n",
    "\n",
    "# 데이터 정제 적용하기\n",
    "final_reviews.text = final_reviews.text.apply(preprocess_text)\n",
    "\n",
    "# 데이터 csv로 저장하기\n",
    "final_reviews.to_csv (r'../data/raw_split.csv', index = True, header=True)\n"
   ]
  }
 ],
 "metadata": {
  "kernelspec": {
   "display_name": "Python 3 (ipykernel)",
   "language": "python",
   "name": "python3"
  },
  "language_info": {
   "codemirror_mode": {
    "name": "ipython",
    "version": 3
   },
   "file_extension": ".py",
   "mimetype": "text/x-python",
   "name": "python",
   "nbconvert_exporter": "python",
   "pygments_lexer": "ipython3",
   "version": "3.9.12"
  }
 },
 "nbformat": 4,
 "nbformat_minor": 2
}
