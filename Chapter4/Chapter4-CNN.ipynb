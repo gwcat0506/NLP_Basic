{
 "cells": [
  {
   "cell_type": "markdown",
   "id": "9a0c5d8d",
   "metadata": {},
   "source": [
    "### CNN 모델"
   ]
  },
  {
   "cell_type": "code",
   "execution_count": 1,
   "id": "d590ed71",
   "metadata": {},
   "outputs": [
    {
     "name": "stdout",
     "output_type": "stream",
     "text": [
      "torch.Size([2, 10, 7])\n",
      "torch.Size([2, 16, 5])\n"
     ]
    }
   ],
   "source": [
    "import torch\n",
    "import torch.nn as nn\n",
    "\n",
    "batch_size = 2\n",
    "one_hot_size = 10\n",
    "sequence_width = 7\n",
    "\n",
    "data = torch.randn(batch_size, one_hot_size, sequence_width)\n",
    "conv1 = nn.Conv1d(in_channels=one_hot_size, out_channels=16,\n",
    "              kernel_size=3)\n",
    "intermediate1 = conv1(data)\n",
    "print(data.size())\n",
    "print(intermediate1.size())"
   ]
  },
  {
   "cell_type": "code",
   "execution_count": 2,
   "id": "1023199f",
   "metadata": {},
   "outputs": [
    {
     "name": "stdout",
     "output_type": "stream",
     "text": [
      "torch.Size([2, 32, 3])\n",
      "torch.Size([2, 64, 1])\n"
     ]
    }
   ],
   "source": [
    "conv2 = nn.Conv1d(in_channels=16, out_channels=32,kernel_size=3)\n",
    "conv3 = nn.Conv1d(in_channels=32, out_channels=64,kernel_size=3)\n",
    "\n",
    "intermediate2 = conv2(intermediate1)\n",
    "intermediate3 = conv3(intermediate2)\n",
    "\n",
    "print(intermediate2.size())\n",
    "print(intermediate3.size())"
   ]
  },
  {
   "cell_type": "code",
   "execution_count": 3,
   "id": "39de8aeb",
   "metadata": {},
   "outputs": [
    {
     "name": "stdout",
     "output_type": "stream",
     "text": [
      "torch.Size([2, 64])\n"
     ]
    }
   ],
   "source": [
    "y_output = intermediate3.squeeze()\n",
    "print(y_output.size())"
   ]
  },
  {
   "cell_type": "code",
   "execution_count": 4,
   "id": "bfac2dbf",
   "metadata": {},
   "outputs": [
    {
     "name": "stdout",
     "output_type": "stream",
     "text": [
      "torch.Size([2, 80])\n",
      "torch.Size([2, 16])\n"
     ]
    }
   ],
   "source": [
    "# 특성 벡터를 줄이는 방법 1\n",
    "print(intermediate1.view(batch_size,-1).size())\n",
    "\n",
    "# 특성 벡터를 줄이는 방법 2\n",
    "print(torch.mean(intermediate1,dim=2).size())\n"
   ]
  },
  {
   "cell_type": "markdown",
   "id": "ccbb0140",
   "metadata": {},
   "source": [
    "### 데이터 로드"
   ]
  },
  {
   "cell_type": "code",
   "execution_count": 5,
   "id": "962715ae",
   "metadata": {},
   "outputs": [
    {
     "data": {
      "text/html": [
       "<div>\n",
       "<style scoped>\n",
       "    .dataframe tbody tr th:only-of-type {\n",
       "        vertical-align: middle;\n",
       "    }\n",
       "\n",
       "    .dataframe tbody tr th {\n",
       "        vertical-align: top;\n",
       "    }\n",
       "\n",
       "    .dataframe thead th {\n",
       "        text-align: right;\n",
       "    }\n",
       "</style>\n",
       "<table border=\"1\" class=\"dataframe\">\n",
       "  <thead>\n",
       "    <tr style=\"text-align: right;\">\n",
       "      <th></th>\n",
       "      <th>nationality</th>\n",
       "      <th>nationality_index</th>\n",
       "      <th>split</th>\n",
       "      <th>surname</th>\n",
       "    </tr>\n",
       "  </thead>\n",
       "  <tbody>\n",
       "    <tr>\n",
       "      <th>0</th>\n",
       "      <td>Arabic</td>\n",
       "      <td>15</td>\n",
       "      <td>train</td>\n",
       "      <td>Totah</td>\n",
       "    </tr>\n",
       "    <tr>\n",
       "      <th>1</th>\n",
       "      <td>Arabic</td>\n",
       "      <td>15</td>\n",
       "      <td>train</td>\n",
       "      <td>Abboud</td>\n",
       "    </tr>\n",
       "    <tr>\n",
       "      <th>2</th>\n",
       "      <td>Arabic</td>\n",
       "      <td>15</td>\n",
       "      <td>train</td>\n",
       "      <td>Fakhoury</td>\n",
       "    </tr>\n",
       "    <tr>\n",
       "      <th>3</th>\n",
       "      <td>Arabic</td>\n",
       "      <td>15</td>\n",
       "      <td>train</td>\n",
       "      <td>Srour</td>\n",
       "    </tr>\n",
       "    <tr>\n",
       "      <th>4</th>\n",
       "      <td>Arabic</td>\n",
       "      <td>15</td>\n",
       "      <td>train</td>\n",
       "      <td>Sayegh</td>\n",
       "    </tr>\n",
       "    <tr>\n",
       "      <th>...</th>\n",
       "      <td>...</td>\n",
       "      <td>...</td>\n",
       "      <td>...</td>\n",
       "      <td>...</td>\n",
       "    </tr>\n",
       "    <tr>\n",
       "      <th>10975</th>\n",
       "      <td>Vietnamese</td>\n",
       "      <td>11</td>\n",
       "      <td>test</td>\n",
       "      <td>Dinh</td>\n",
       "    </tr>\n",
       "    <tr>\n",
       "      <th>10976</th>\n",
       "      <td>Vietnamese</td>\n",
       "      <td>11</td>\n",
       "      <td>test</td>\n",
       "      <td>Phung</td>\n",
       "    </tr>\n",
       "    <tr>\n",
       "      <th>10977</th>\n",
       "      <td>Vietnamese</td>\n",
       "      <td>11</td>\n",
       "      <td>test</td>\n",
       "      <td>Quang</td>\n",
       "    </tr>\n",
       "    <tr>\n",
       "      <th>10978</th>\n",
       "      <td>Vietnamese</td>\n",
       "      <td>11</td>\n",
       "      <td>test</td>\n",
       "      <td>Vu</td>\n",
       "    </tr>\n",
       "    <tr>\n",
       "      <th>10979</th>\n",
       "      <td>Vietnamese</td>\n",
       "      <td>11</td>\n",
       "      <td>test</td>\n",
       "      <td>Ha</td>\n",
       "    </tr>\n",
       "  </tbody>\n",
       "</table>\n",
       "<p>10980 rows × 4 columns</p>\n",
       "</div>"
      ],
      "text/plain": [
       "      nationality  nationality_index  split   surname\n",
       "0          Arabic                 15  train     Totah\n",
       "1          Arabic                 15  train    Abboud\n",
       "2          Arabic                 15  train  Fakhoury\n",
       "3          Arabic                 15  train     Srour\n",
       "4          Arabic                 15  train    Sayegh\n",
       "...           ...                ...    ...       ...\n",
       "10975  Vietnamese                 11   test      Dinh\n",
       "10976  Vietnamese                 11   test     Phung\n",
       "10977  Vietnamese                 11   test     Quang\n",
       "10978  Vietnamese                 11   test        Vu\n",
       "10979  Vietnamese                 11   test        Ha\n",
       "\n",
       "[10980 rows x 4 columns]"
      ]
     },
     "execution_count": 5,
     "metadata": {},
     "output_type": "execute_result"
    }
   ],
   "source": [
    "import pandas as pd\n",
    "\n",
    "df = pd.read_csv(\"surnames_with_splits.csv\")\n",
    "df\n"
   ]
  },
  {
   "cell_type": "code",
   "execution_count": 6,
   "id": "29b1afc9",
   "metadata": {},
   "outputs": [
    {
     "data": {
      "text/plain": [
       "nationality\n",
       "English       2972\n",
       "Russian       2373\n",
       "Arabic        1603\n",
       "Japanese       775\n",
       "Italian        600\n",
       "German         576\n",
       "Czech          414\n",
       "Spanish        258\n",
       "Dutch          236\n",
       "French         229\n",
       "Chinese        220\n",
       "Irish          183\n",
       "Greek          156\n",
       "Polish         120\n",
       "Korean          77\n",
       "Scottish        75\n",
       "Vietnamese      58\n",
       "Portuguese      55\n",
       "Name: count, dtype: int64"
      ]
     },
     "execution_count": 6,
     "metadata": {},
     "output_type": "execute_result"
    }
   ],
   "source": [
    "df['nationality'].value_counts()"
   ]
  },
  {
   "cell_type": "code",
   "execution_count": 7,
   "id": "f706d137",
   "metadata": {},
   "outputs": [
    {
     "data": {
      "text/plain": [
       "split\n",
       "train    7680\n",
       "test     1660\n",
       "val      1640\n",
       "Name: count, dtype: int64"
      ]
     },
     "execution_count": 7,
     "metadata": {},
     "output_type": "execute_result"
    }
   ],
   "source": [
    "df['split'].value_counts()"
   ]
  },
  {
   "cell_type": "markdown",
   "id": "69f63e53",
   "metadata": {},
   "source": [
    "### 데이터 split(train/valid/test)"
   ]
  },
  {
   "cell_type": "code",
   "execution_count": 8,
   "id": "2795b1c9",
   "metadata": {},
   "outputs": [],
   "source": [
    "# 데이터를 다시 train/valid/test로 나눠줌\n",
    "\n",
    "# train 데이터 \n",
    "train_df = df[df.split=='train']\n",
    "train_size = len(train_df)\n",
    "\n",
    "# valid 데이터 \n",
    "val_df = df[df.split=='val']\n",
    "val_size = len(val_df)\n",
    "\n",
    "# test 데이터 \n",
    "test_df = df[df.split=='test']\n",
    "test_size = len(test_df)"
   ]
  },
  {
   "cell_type": "markdown",
   "id": "5cf85816",
   "metadata": {},
   "source": [
    "### 2. Vocabulary"
   ]
  },
  {
   "cell_type": "code",
   "execution_count": 9,
   "id": "9498e793",
   "metadata": {
    "scrolled": false
   },
   "outputs": [],
   "source": [
    "from collections import Counter\n",
    "import string\n",
    "\n",
    "# Counter()를 통해 어떤 단어가 얼만큼의 횟수로 들어있는지를 알 수 있다.\n",
    "word_counts = Counter()\n",
    "for name_text in df.surname:\n",
    "#     print(review)\n",
    "    for word in name_text.split(\" \"):\n",
    "        # word가 .(구두점,punctuation)이 아닐 경우 word에 추가\n",
    "        if word not in string.punctuation:\n",
    "            word_counts[word] += 1\n",
    "\n",
    "# word_counts"
   ]
  },
  {
   "cell_type": "code",
   "execution_count": 10,
   "id": "1141fa3a",
   "metadata": {},
   "outputs": [],
   "source": [
    "# add_unk=True를 하면 '<UNK>': 0 토큰을 추가해줌 !\n",
    "\n",
    "class Vocabulary:\n",
    "    def __init__(self, add_unk=False):\n",
    "        self.token_to_idx = {}\n",
    "        self.idx_to_token = {}\n",
    "    \n",
    "#         \"UNK\" 토큰이 추가되지 않는 경우에는 -1로 설정,\n",
    "        self.unk_index = -1\n",
    "        if add_unk:\n",
    "#         \"UNK\" 토큰이 추가될 경우에는 UNK에 해당하는 인덱스로 설정,\n",
    "            self.unk_index = self.add_token('<UNK>') \n",
    "\n",
    "    def add_token(self, token):\n",
    "        \n",
    "#       만약 해당 토큰이 있으면 토큰 idx만 return\n",
    "        if token in self.token_to_idx:\n",
    "            index = self.token_to_idx[token]\n",
    "            \n",
    "#       만약 해당 토큰이 없으면 새로운 토큰 만들어줌\n",
    "        else:\n",
    "            index = len(self.token_to_idx)\n",
    "            self.token_to_idx[token] = index\n",
    "            self.idx_to_token[index] = token\n",
    "        return index"
   ]
  },
  {
   "cell_type": "code",
   "execution_count": 11,
   "id": "ac347e1a",
   "metadata": {},
   "outputs": [],
   "source": [
    "# cutoff 보다 수가 많은 단어만 vocab에 추가\n",
    "cutoff = 0\n",
    "\n",
    "# Vocabulary 객체 생성\n",
    "# cutoff보다 작으면 unk토큰으로 지정해줄 것이기 때문에 True\n",
    "charater_vocab = Vocabulary(add_unk=True)\n",
    "nation_vocab = Vocabulary(add_unk=False)\n",
    "\n",
    "max_surname_length = 0\n",
    "\n",
    "for index, row in df.iterrows():\n",
    "    max_surname_length = max(max_surname_length,len(row.surname))\n",
    "    for alpha in row.surname:\n",
    "        charater_vocab.add_token(alpha)\n",
    "    nation_vocab.add_token(row.nationality)\n",
    "    "
   ]
  },
  {
   "cell_type": "code",
   "execution_count": 12,
   "id": "676502f9",
   "metadata": {},
   "outputs": [
    {
     "data": {
      "text/plain": [
       "17"
      ]
     },
     "execution_count": 12,
     "metadata": {},
     "output_type": "execute_result"
    }
   ],
   "source": [
    "max_surname_length"
   ]
  },
  {
   "cell_type": "code",
   "execution_count": 13,
   "id": "d51f439e",
   "metadata": {},
   "outputs": [
    {
     "data": {
      "text/plain": [
       "{'<UNK>': 0,\n",
       " 'T': 1,\n",
       " 'o': 2,\n",
       " 't': 3,\n",
       " 'a': 4,\n",
       " 'h': 5,\n",
       " 'A': 6,\n",
       " 'b': 7,\n",
       " 'u': 8,\n",
       " 'd': 9,\n",
       " 'F': 10,\n",
       " 'k': 11,\n",
       " 'r': 12,\n",
       " 'y': 13,\n",
       " 'S': 14,\n",
       " 'e': 15,\n",
       " 'g': 16,\n",
       " 'C': 17,\n",
       " 'm': 18,\n",
       " 'H': 19,\n",
       " 'i': 20,\n",
       " 'K': 21,\n",
       " 'n': 22,\n",
       " 'W': 23,\n",
       " 's': 24,\n",
       " 'f': 25,\n",
       " 'G': 26,\n",
       " 'M': 27,\n",
       " 'l': 28,\n",
       " 'B': 29,\n",
       " 'z': 30,\n",
       " 'N': 31,\n",
       " 'I': 32,\n",
       " 'w': 33,\n",
       " 'D': 34,\n",
       " 'Q': 35,\n",
       " 'j': 36,\n",
       " 'E': 37,\n",
       " 'R': 38,\n",
       " 'Z': 39,\n",
       " 'c': 40,\n",
       " 'Y': 41,\n",
       " 'J': 42,\n",
       " 'L': 43,\n",
       " 'O': 44,\n",
       " '-': 45,\n",
       " 'P': 46,\n",
       " 'X': 47,\n",
       " 'p': 48,\n",
       " ':': 49,\n",
       " 'v': 50,\n",
       " 'U': 51,\n",
       " '1': 52,\n",
       " 'V': 53,\n",
       " 'x': 54,\n",
       " '/': 55,\n",
       " 'q': 56,\n",
       " 'é': 57,\n",
       " 'É': 58,\n",
       " \"'\": 59,\n",
       " 'ç': 60,\n",
       " 'ê': 61,\n",
       " 'ß': 62,\n",
       " 'ö': 63,\n",
       " 'ä': 64,\n",
       " 'ü': 65,\n",
       " 'ú': 66,\n",
       " 'à': 67,\n",
       " 'ò': 68,\n",
       " 'è': 69,\n",
       " 'ó': 70,\n",
       " 'ù': 71,\n",
       " 'ì': 72,\n",
       " 'Ś': 73,\n",
       " 'ą': 74,\n",
       " 'ń': 75,\n",
       " 'á': 76,\n",
       " 'ż': 77,\n",
       " 'Ż': 78,\n",
       " 'ł': 79,\n",
       " 'õ': 80,\n",
       " 'ã': 81,\n",
       " 'í': 82,\n",
       " 'ñ': 83,\n",
       " 'Á': 84}"
      ]
     },
     "execution_count": 13,
     "metadata": {},
     "output_type": "execute_result"
    }
   ],
   "source": [
    "charater_vocab.token_to_idx"
   ]
  },
  {
   "cell_type": "code",
   "execution_count": 14,
   "id": "b4659251",
   "metadata": {
    "scrolled": false
   },
   "outputs": [
    {
     "data": {
      "text/plain": [
       "{0: '<UNK>',\n",
       " 1: 'T',\n",
       " 2: 'o',\n",
       " 3: 't',\n",
       " 4: 'a',\n",
       " 5: 'h',\n",
       " 6: 'A',\n",
       " 7: 'b',\n",
       " 8: 'u',\n",
       " 9: 'd',\n",
       " 10: 'F',\n",
       " 11: 'k',\n",
       " 12: 'r',\n",
       " 13: 'y',\n",
       " 14: 'S',\n",
       " 15: 'e',\n",
       " 16: 'g',\n",
       " 17: 'C',\n",
       " 18: 'm',\n",
       " 19: 'H',\n",
       " 20: 'i',\n",
       " 21: 'K',\n",
       " 22: 'n',\n",
       " 23: 'W',\n",
       " 24: 's',\n",
       " 25: 'f',\n",
       " 26: 'G',\n",
       " 27: 'M',\n",
       " 28: 'l',\n",
       " 29: 'B',\n",
       " 30: 'z',\n",
       " 31: 'N',\n",
       " 32: 'I',\n",
       " 33: 'w',\n",
       " 34: 'D',\n",
       " 35: 'Q',\n",
       " 36: 'j',\n",
       " 37: 'E',\n",
       " 38: 'R',\n",
       " 39: 'Z',\n",
       " 40: 'c',\n",
       " 41: 'Y',\n",
       " 42: 'J',\n",
       " 43: 'L',\n",
       " 44: 'O',\n",
       " 45: '-',\n",
       " 46: 'P',\n",
       " 47: 'X',\n",
       " 48: 'p',\n",
       " 49: ':',\n",
       " 50: 'v',\n",
       " 51: 'U',\n",
       " 52: '1',\n",
       " 53: 'V',\n",
       " 54: 'x',\n",
       " 55: '/',\n",
       " 56: 'q',\n",
       " 57: 'é',\n",
       " 58: 'É',\n",
       " 59: \"'\",\n",
       " 60: 'ç',\n",
       " 61: 'ê',\n",
       " 62: 'ß',\n",
       " 63: 'ö',\n",
       " 64: 'ä',\n",
       " 65: 'ü',\n",
       " 66: 'ú',\n",
       " 67: 'à',\n",
       " 68: 'ò',\n",
       " 69: 'è',\n",
       " 70: 'ó',\n",
       " 71: 'ù',\n",
       " 72: 'ì',\n",
       " 73: 'Ś',\n",
       " 74: 'ą',\n",
       " 75: 'ń',\n",
       " 76: 'á',\n",
       " 77: 'ż',\n",
       " 78: 'Ż',\n",
       " 79: 'ł',\n",
       " 80: 'õ',\n",
       " 81: 'ã',\n",
       " 82: 'í',\n",
       " 83: 'ñ',\n",
       " 84: 'Á'}"
      ]
     },
     "execution_count": 14,
     "metadata": {},
     "output_type": "execute_result"
    }
   ],
   "source": [
    "charater_vocab.idx_to_token"
   ]
  },
  {
   "cell_type": "markdown",
   "id": "2e172eee",
   "metadata": {},
   "source": [
    "### 국적 Vocabulary"
   ]
  },
  {
   "cell_type": "code",
   "execution_count": 15,
   "id": "9bb67a2b",
   "metadata": {},
   "outputs": [
    {
     "data": {
      "text/plain": [
       "{'Arabic': 0,\n",
       " 'Chinese': 1,\n",
       " 'Czech': 2,\n",
       " 'Dutch': 3,\n",
       " 'English': 4,\n",
       " 'French': 5,\n",
       " 'German': 6,\n",
       " 'Greek': 7,\n",
       " 'Irish': 8,\n",
       " 'Italian': 9,\n",
       " 'Japanese': 10,\n",
       " 'Korean': 11,\n",
       " 'Polish': 12,\n",
       " 'Portuguese': 13,\n",
       " 'Russian': 14,\n",
       " 'Scottish': 15,\n",
       " 'Spanish': 16,\n",
       " 'Vietnamese': 17}"
      ]
     },
     "execution_count": 15,
     "metadata": {},
     "output_type": "execute_result"
    }
   ],
   "source": [
    "nation_vocab.token_to_idx"
   ]
  },
  {
   "cell_type": "code",
   "execution_count": 16,
   "id": "caf7746c",
   "metadata": {},
   "outputs": [
    {
     "data": {
      "text/plain": [
       "{0: 'Arabic',\n",
       " 1: 'Chinese',\n",
       " 2: 'Czech',\n",
       " 3: 'Dutch',\n",
       " 4: 'English',\n",
       " 5: 'French',\n",
       " 6: 'German',\n",
       " 7: 'Greek',\n",
       " 8: 'Irish',\n",
       " 9: 'Italian',\n",
       " 10: 'Japanese',\n",
       " 11: 'Korean',\n",
       " 12: 'Polish',\n",
       " 13: 'Portuguese',\n",
       " 14: 'Russian',\n",
       " 15: 'Scottish',\n",
       " 16: 'Spanish',\n",
       " 17: 'Vietnamese'}"
      ]
     },
     "execution_count": 16,
     "metadata": {},
     "output_type": "execute_result"
    }
   ],
   "source": [
    "nation_vocab.idx_to_token"
   ]
  },
  {
   "cell_type": "markdown",
   "id": "0bd30e80",
   "metadata": {},
   "source": [
    "## 3. Vectorizer"
   ]
  },
  {
   "cell_type": "code",
   "execution_count": 17,
   "id": "0720a192",
   "metadata": {},
   "outputs": [],
   "source": [
    "# 주어진 토큰에 대응하는 인덱스 반환\n",
    "\n",
    "def lookup_token(vocabulary_class,token):\n",
    "\n",
    "# UNK 토큰이 있을 경우\n",
    "    if vocabulary_class.unk_index >= 0:\n",
    "#           토큰을 찾아보고 없으면 unk_index 반환, 있으면 해당 토큰의 idx를 반환\n",
    "        return vocabulary_class.token_to_idx.get(token, vocabulary_class.unk_index)\n",
    "    else:\n",
    "        return vocabulary_class.token_to_idx[token]\n",
    "    "
   ]
  },
  {
   "cell_type": "code",
   "execution_count": 18,
   "id": "d025329e",
   "metadata": {},
   "outputs": [],
   "source": [
    "# 주어진 인덱스에 대응하는 토큰 반환\n",
    "\n",
    "def lookup_index(vocabulary_class, index):\n",
    "        if index not in vocabulary_class.idx_to_token:\n",
    "            raise KeyError(\"the index (%d) is not in the Vocabulary\" % index)\n",
    "        return vocabulary_class.idx_to_token[index]\n",
    "    "
   ]
  },
  {
   "cell_type": "code",
   "execution_count": 19,
   "id": "4c1e5e6c",
   "metadata": {},
   "outputs": [
    {
     "data": {
      "text/plain": [
       "17"
      ]
     },
     "execution_count": 19,
     "metadata": {},
     "output_type": "execute_result"
    }
   ],
   "source": [
    "max_surname_length"
   ]
  },
  {
   "cell_type": "code",
   "execution_count": 20,
   "id": "e09e6111",
   "metadata": {},
   "outputs": [
    {
     "name": "stdout",
     "output_type": "stream",
     "text": [
      "토큰의 수: 85\n"
     ]
    }
   ],
   "source": [
    "vocab_length = len(charater_vocab.token_to_idx)\n",
    "print(\"토큰의 수:\", vocab_length)"
   ]
  },
  {
   "cell_type": "markdown",
   "id": "d11824f7",
   "metadata": {},
   "source": [
    "### 텍스트(surname)에 대한 원 핫 인코딩"
   ]
  },
  {
   "cell_type": "code",
   "execution_count": 21,
   "id": "1e375f01",
   "metadata": {},
   "outputs": [
    {
     "name": "stdout",
     "output_type": "stream",
     "text": [
      "예시\n",
      "[[0. 0. 0. ... 0. 0. 0.]\n",
      " [0. 0. 0. ... 0. 0. 0.]\n",
      " [0. 0. 1. ... 0. 0. 0.]\n",
      " ...\n",
      " [0. 0. 0. ... 0. 0. 0.]\n",
      " [0. 0. 0. ... 0. 0. 0.]\n",
      " [0. 0. 0. ... 0. 0. 0.]]\n",
      "85\n",
      "17\n"
     ]
    }
   ],
   "source": [
    "import numpy as np \n",
    "\n",
    "def vectorize(voca, max_surname_length,surname):\n",
    "\n",
    "#     전체 85(character Voca 크기)*17(최대단어길이) 사이즈만큼을 미리 0으로 채워둠\n",
    "    one_hot_matrix_size = (len(voca.token_to_idx), max_surname_length)\n",
    "    one_hot_matrix = np.zeros(one_hot_matrix_size, dtype=np.float32)\n",
    "#     print(\"one_hot\",one_hot_matrix)\n",
    "    \n",
    "    for position_index, character in enumerate(surname):\n",
    "        chracter_index = lookup_token(voca,character)\n",
    "        one_hot_matrix[chracter_index][position_index]=1\n",
    "    \n",
    "    return one_hot_matrix\n",
    "\n",
    "print(\"예시\")\n",
    "example = vectorize(charater_vocab,max_surname_length,\"Choi\")\n",
    "print(example)\n",
    "print(len(example))\n",
    "print(len(example[0]))"
   ]
  },
  {
   "cell_type": "markdown",
   "id": "42b49a42",
   "metadata": {},
   "source": [
    "### CNN Dataset class"
   ]
  },
  {
   "cell_type": "code",
   "execution_count": 22,
   "id": "7320e89a",
   "metadata": {},
   "outputs": [],
   "source": [
    "import torch\n",
    "from torch.utils.data import Dataset\n",
    "\n",
    "class NameDataset(Dataset):\n",
    "    def __init__(self, names, nations):\n",
    "        self.names = names\n",
    "        self.nations = nations\n",
    "\n",
    "    def __len__(self):\n",
    "        return len(self.names)\n",
    "\n",
    "    def __getitem__(self, index):\n",
    "        name = self.names[index]\n",
    "        nation = self.nations[index]\n",
    "        \n",
    "#         여기다가 vectorize함수 사용해서 charater return\n",
    "        vectorized_name = vectorize(charater_vocab,max_surname_length,name)\n",
    "#       nation 숫자로 return\n",
    "        vectorized_nation = lookup_token(nation_vocab,nation)\n",
    "    \n",
    "        return {\n",
    "            'surname': vectorized_name,\n",
    "            'nationality': vectorized_nation\n",
    "        }"
   ]
  },
  {
   "cell_type": "markdown",
   "id": "26cae239",
   "metadata": {},
   "source": [
    "### 데이터셋 class"
   ]
  },
  {
   "cell_type": "code",
   "execution_count": 23,
   "id": "14c6c27b",
   "metadata": {},
   "outputs": [
    {
     "data": {
      "text/plain": [
       "<__main__.NameDataset at 0x7fb530ecd580>"
      ]
     },
     "execution_count": 23,
     "metadata": {},
     "output_type": "execute_result"
    }
   ],
   "source": [
    "# 데이터셋을 인스턴스화 해주어야 로더에 넣어줄 수 있다. \n",
    "\n",
    "train_dataset = NameDataset(train_df[\"surname\"].values, train_df[\"nationality\"].values)\n",
    "train_dataset\n",
    "\n",
    "valid_dataset = NameDataset(val_df[\"surname\"].values, val_df[\"nationality\"].values)\n",
    "valid_dataset\n",
    "\n",
    "test_dataset = NameDataset(test_df[\"surname\"].values, test_df[\"nationality\"].values)\n",
    "test_dataset\n"
   ]
  },
  {
   "cell_type": "code",
   "execution_count": 24,
   "id": "f9514135",
   "metadata": {},
   "outputs": [],
   "source": [
    "# 데이터 로더 설정\n",
    "from torch.utils.data import DataLoader\n",
    "\n",
    "# drop_last=True -> 배치 사이즈보다 over하면 drop\n",
    "\n",
    "Traindataloader = DataLoader(dataset=train_dataset, batch_size=512,\n",
    "                            shuffle=True, drop_last=True)\n",
    "\n",
    "Validdataloader = DataLoader(dataset=valid_dataset, batch_size=512,\n",
    "                            shuffle=True, drop_last=True)\n",
    "\n",
    "Testdataloader = DataLoader(dataset=test_dataset, batch_size=512,\n",
    "                            shuffle=True, drop_last=True)\n"
   ]
  },
  {
   "cell_type": "code",
   "execution_count": 25,
   "id": "2e8a9d61",
   "metadata": {},
   "outputs": [
    {
     "name": "stdout",
     "output_type": "stream",
     "text": [
      "7680 15\n"
     ]
    }
   ],
   "source": [
    "print(len(train_dataset),len(Traindataloader))"
   ]
  },
  {
   "cell_type": "code",
   "execution_count": 26,
   "id": "daefd63b",
   "metadata": {},
   "outputs": [
    {
     "name": "stdout",
     "output_type": "stream",
     "text": [
      "{'surname': tensor([[[0., 0., 0.,  ..., 0., 0., 0.],\n",
      "         [0., 0., 0.,  ..., 0., 0., 0.],\n",
      "         [0., 0., 0.,  ..., 0., 0., 0.],\n",
      "         ...,\n",
      "         [0., 0., 0.,  ..., 0., 0., 0.],\n",
      "         [0., 0., 0.,  ..., 0., 0., 0.],\n",
      "         [0., 0., 0.,  ..., 0., 0., 0.]],\n",
      "\n",
      "        [[0., 0., 0.,  ..., 0., 0., 0.],\n",
      "         [0., 0., 0.,  ..., 0., 0., 0.],\n",
      "         [0., 0., 0.,  ..., 0., 0., 0.],\n",
      "         ...,\n",
      "         [0., 0., 0.,  ..., 0., 0., 0.],\n",
      "         [0., 0., 0.,  ..., 0., 0., 0.],\n",
      "         [0., 0., 0.,  ..., 0., 0., 0.]],\n",
      "\n",
      "        [[0., 0., 0.,  ..., 0., 0., 0.],\n",
      "         [0., 0., 0.,  ..., 0., 0., 0.],\n",
      "         [0., 0., 0.,  ..., 0., 0., 0.],\n",
      "         ...,\n",
      "         [0., 0., 0.,  ..., 0., 0., 0.],\n",
      "         [0., 0., 0.,  ..., 0., 0., 0.],\n",
      "         [0., 0., 0.,  ..., 0., 0., 0.]],\n",
      "\n",
      "        ...,\n",
      "\n",
      "        [[0., 0., 0.,  ..., 0., 0., 0.],\n",
      "         [0., 0., 0.,  ..., 0., 0., 0.],\n",
      "         [0., 0., 0.,  ..., 0., 0., 0.],\n",
      "         ...,\n",
      "         [0., 0., 0.,  ..., 0., 0., 0.],\n",
      "         [0., 0., 0.,  ..., 0., 0., 0.],\n",
      "         [0., 0., 0.,  ..., 0., 0., 0.]],\n",
      "\n",
      "        [[0., 0., 0.,  ..., 0., 0., 0.],\n",
      "         [0., 0., 0.,  ..., 0., 0., 0.],\n",
      "         [0., 1., 0.,  ..., 0., 0., 0.],\n",
      "         ...,\n",
      "         [0., 0., 0.,  ..., 0., 0., 0.],\n",
      "         [0., 0., 0.,  ..., 0., 0., 0.],\n",
      "         [0., 0., 0.,  ..., 0., 0., 0.]],\n",
      "\n",
      "        [[0., 0., 0.,  ..., 0., 0., 0.],\n",
      "         [0., 0., 0.,  ..., 0., 0., 0.],\n",
      "         [0., 0., 0.,  ..., 0., 0., 0.],\n",
      "         ...,\n",
      "         [0., 0., 0.,  ..., 0., 0., 0.],\n",
      "         [0., 0., 0.,  ..., 0., 0., 0.],\n",
      "         [0., 0., 0.,  ..., 0., 0., 0.]]]), 'nationality': tensor([ 0,  0,  8,  4, 10,  4,  0,  4, 10,  4,  4,  4,  4,  4, 14,  4,  9,  0,\n",
      "         3, 14,  4, 14,  1,  4, 14,  4,  1,  6,  4,  0,  4,  4,  4,  0, 14, 14,\n",
      "         4,  8, 10, 14,  4,  2,  9, 16, 15,  4, 10,  0, 14,  0,  0,  0,  4,  9,\n",
      "        14,  8,  6, 14,  2, 10,  0,  4,  6,  3, 14,  6,  9,  4,  2,  4,  2,  0,\n",
      "         2,  0,  6, 14,  3,  4,  4,  4, 14,  4, 14, 10, 10,  2,  4, 10, 14, 14,\n",
      "         9,  4,  1, 14, 14,  2,  4, 11, 10,  4,  4,  4, 10,  4, 10, 10,  9,  4,\n",
      "         1,  4,  4,  4,  4,  0, 15, 11, 14,  4,  2, 10,  4, 14,  6,  4, 14, 17,\n",
      "         2, 14, 10,  0,  4,  4, 10, 14, 14, 14,  4,  9, 12,  9, 14,  0, 14, 10,\n",
      "         3,  6,  4,  0,  2,  4,  4,  4, 17, 10, 16,  0,  2,  4,  4,  5,  0,  0,\n",
      "         3, 14,  6,  0,  4,  4,  8, 14,  4,  4,  4,  6,  2,  9,  9,  4, 14,  1,\n",
      "         4, 14, 16,  0,  4,  8, 14,  4,  4,  4,  2,  4,  9, 12,  9, 16,  4,  4,\n",
      "         4,  4,  4, 14, 14, 14,  4, 14,  4,  4,  0,  0,  4,  4, 14, 10, 14, 12,\n",
      "         6,  0,  4,  4,  4,  0, 14, 14,  4, 14, 10,  9, 10, 14, 10,  0,  4, 10,\n",
      "        14, 12, 14,  4, 16, 14,  4,  6,  4, 14,  4,  0, 14,  1,  0, 14,  4,  9,\n",
      "         9, 14,  4, 14,  4, 10, 14,  6, 14,  0,  0,  1,  4,  9,  2,  9, 16, 10,\n",
      "         9,  0, 14,  0,  6,  0,  0,  0, 10, 11,  4,  4,  7,  4,  4,  4,  4, 16,\n",
      "         4, 10,  4,  2, 14, 10,  6, 14,  4, 14,  4,  7,  4,  0, 14, 10,  0, 10,\n",
      "         0,  9, 14, 14,  4, 10,  4, 14, 14,  0,  7,  6,  6,  4, 10, 14,  4,  4,\n",
      "         4,  0,  4,  4,  6,  4, 14, 14, 14,  0,  4,  0,  0, 14, 14, 10,  4, 14,\n",
      "         5,  4, 10, 10,  0, 10, 14,  7,  4,  0,  0, 14,  6,  0,  6,  4,  4,  0,\n",
      "         4,  4,  0, 14,  4,  4,  4,  4,  4, 14,  6, 17,  4, 14, 14,  4,  4,  0,\n",
      "         2, 14, 14,  9, 16,  4,  0,  4, 14,  4,  4,  0,  0,  6,  1,  3,  9,  4,\n",
      "         8,  0,  9, 14,  2, 14,  0,  4, 17,  0,  4,  0,  4, 14, 14,  8,  1,  9,\n",
      "         4, 14,  4,  9, 14,  4,  4, 14,  3, 10, 10,  6,  4,  4,  4,  9,  0,  4,\n",
      "         3,  4,  9,  4, 16,  4,  4,  4, 14, 14, 14,  4,  4,  2, 14, 13,  9, 14,\n",
      "        14,  4, 14,  0, 14,  4, 14, 10,  9, 10, 14, 14, 16,  4,  4, 14,  4, 16,\n",
      "        16,  9, 14, 10,  4,  0,  0,  4, 17, 10,  0,  8,  7,  4,  0,  7, 10,  4,\n",
      "         4,  2, 14, 14,  8,  0,  5, 11,  2,  4,  4, 16, 14,  0,  4, 14,  8, 14,\n",
      "        10, 17,  1, 14, 14, 16,  9,  4])}\n"
     ]
    }
   ],
   "source": [
    "for batch_index, batch_dict in enumerate(Traindataloader):\n",
    "#     print(batch_index)\n",
    "    print(batch_dict)\n",
    "    \n",
    "    break\n",
    "    "
   ]
  },
  {
   "cell_type": "markdown",
   "id": "58ecfdb1",
   "metadata": {},
   "source": [
    "### CNN모델 정의 및 옵티마이저, loss func 설정"
   ]
  },
  {
   "cell_type": "markdown",
   "id": "33f87bef",
   "metadata": {},
   "source": [
    "### 모델정의 NameClassifier"
   ]
  },
  {
   "cell_type": "code",
   "execution_count": 27,
   "id": "0278b930",
   "metadata": {},
   "outputs": [],
   "source": [
    "# nn은 neural network로 torch의 신경망 모듈이다.\n",
    "# CNN사용 \n",
    "import torch.nn as nn\n",
    "import torch.nn.functional as F\n",
    "\n",
    "class NameClassifier(nn.Module):\n",
    "    \n",
    "    def __init__(self, initial_num_channels, num_classes, num_channels):\n",
    "        \"\"\"\n",
    "        initial_num_channels : 입력 특성 벡터의 크기 -> character Voca size(85)\n",
    "        num_classes : 출력 예측 벡터의 크기 -> 국가 Voca size(18)\n",
    "        num_channels : 신경망 전체에 사용될 채널 크기 -> 32, 64... 지정 \n",
    "        \"\"\"\n",
    "#       torch.nn.Module의 초기화 메서드를 실행하여 해당 클래스의 기능을 상속받음\n",
    "        super(NameClassifier, self).__init__()\n",
    "        \n",
    "        self.convnet = nn.Sequential(\n",
    "            nn.Conv1d(in_channels=initial_num_channels,\n",
    "                     out_channels=num_channels,kernel_size=3),\n",
    "            nn.ELU(),\n",
    "            nn.Conv1d(in_channels=num_channels, out_channels=num_channels,\n",
    "                     kernel_size=3, stride=2),\n",
    "            nn.ELU(),\n",
    "            nn.Conv1d(in_channels=num_channels, out_channels=num_channels,\n",
    "                     kernel_size=3, stride=2),\n",
    "            nn.ELU(),\n",
    "            nn.Conv1d(in_channels=num_channels, out_channels=num_channels,\n",
    "                     kernel_size=3),\n",
    "            nn.ELU()\n",
    "        )\n",
    "        self.fc = nn.Linear(num_channels, num_classes)\n",
    "    \n",
    "    \n",
    "    def forward(self, x_in, apply_softmax=False):\n",
    "        \"\"\"\n",
    "        x_in.shape => batch, initial_num_channels(85), max_surname_length(17)이다. \n",
    "        \"\"\"\n",
    "        \n",
    "        features = self.convnet(x_in).squeeze(dim=2) #2차원 출력을 1차원으로 변환해서 펴주기\n",
    "        predition_vector = self.fc(features)\n",
    "        \n",
    "        if apply_softmax:\n",
    "            predition_vector = F.softmax(predition_vector,dim=1)\n",
    "        \n",
    "        return predition_vector\n",
    "        "
   ]
  },
  {
   "cell_type": "code",
   "execution_count": 28,
   "id": "bf8c0292",
   "metadata": {},
   "outputs": [
    {
     "data": {
      "text/plain": [
       "85"
      ]
     },
     "execution_count": 28,
     "metadata": {},
     "output_type": "execute_result"
    }
   ],
   "source": [
    "len(charater_vocab.token_to_idx)"
   ]
  },
  {
   "cell_type": "code",
   "execution_count": 29,
   "id": "3521990e",
   "metadata": {},
   "outputs": [
    {
     "data": {
      "text/plain": [
       "18"
      ]
     },
     "execution_count": 29,
     "metadata": {},
     "output_type": "execute_result"
    }
   ],
   "source": [
    "len(nation_vocab.token_to_idx)"
   ]
  },
  {
   "cell_type": "code",
   "execution_count": 30,
   "id": "37fcc4ea",
   "metadata": {},
   "outputs": [
    {
     "data": {
      "text/plain": [
       "NameClassifier(\n",
       "  (convnet): Sequential(\n",
       "    (0): Conv1d(85, 64, kernel_size=(3,), stride=(1,))\n",
       "    (1): ELU(alpha=1.0)\n",
       "    (2): Conv1d(64, 64, kernel_size=(3,), stride=(2,))\n",
       "    (3): ELU(alpha=1.0)\n",
       "    (4): Conv1d(64, 64, kernel_size=(3,), stride=(2,))\n",
       "    (5): ELU(alpha=1.0)\n",
       "    (6): Conv1d(64, 64, kernel_size=(3,), stride=(1,))\n",
       "    (7): ELU(alpha=1.0)\n",
       "  )\n",
       "  (fc): Linear(in_features=64, out_features=18, bias=True)\n",
       ")"
      ]
     },
     "execution_count": 30,
     "metadata": {},
     "output_type": "execute_result"
    }
   ],
   "source": [
    "classifier = NameClassifier(initial_num_channels=len(charater_vocab.token_to_idx), # 분류할 것(85)\n",
    "                            num_classes=len(nation_vocab.token_to_idx), # 분류하려는 것(18)\n",
    "                           num_channels=64) # 출력 채널 수 (32,64,128) 지정 가능\n",
    "classifier"
   ]
  },
  {
   "cell_type": "markdown",
   "id": "fd0d622c",
   "metadata": {},
   "source": [
    "### 옵티마이저, loss function"
   ]
  },
  {
   "cell_type": "code",
   "execution_count": 31,
   "id": "330f6821",
   "metadata": {},
   "outputs": [],
   "source": [
    "lr = 0.001\n",
    "num_epochs = 100"
   ]
  },
  {
   "cell_type": "code",
   "execution_count": 32,
   "id": "59b5517c",
   "metadata": {},
   "outputs": [
    {
     "data": {
      "text/plain": [
       "Adam (\n",
       "Parameter Group 0\n",
       "    amsgrad: False\n",
       "    betas: (0.9, 0.999)\n",
       "    capturable: False\n",
       "    eps: 1e-08\n",
       "    foreach: None\n",
       "    lr: 0.001\n",
       "    maximize: False\n",
       "    weight_decay: 0\n",
       ")"
      ]
     },
     "execution_count": 32,
     "metadata": {},
     "output_type": "execute_result"
    }
   ],
   "source": [
    "# 옵티마이저\n",
    "import torch.optim as optim\n",
    "\n",
    "optimizer = optim.Adam(classifier.parameters(), lr = lr)\n",
    "optimizer\n"
   ]
  },
  {
   "cell_type": "code",
   "execution_count": 33,
   "id": "065a7109",
   "metadata": {},
   "outputs": [
    {
     "data": {
      "text/plain": [
       "nationality\n",
       "English       2972\n",
       "Russian       2373\n",
       "Arabic        1603\n",
       "Japanese       775\n",
       "Italian        600\n",
       "German         576\n",
       "Czech          414\n",
       "Spanish        258\n",
       "Dutch          236\n",
       "French         229\n",
       "Chinese        220\n",
       "Irish          183\n",
       "Greek          156\n",
       "Polish         120\n",
       "Korean          77\n",
       "Scottish        75\n",
       "Vietnamese      58\n",
       "Portuguese      55\n",
       "Name: count, dtype: int64"
      ]
     },
     "execution_count": 33,
     "metadata": {},
     "output_type": "execute_result"
    }
   ],
   "source": [
    "df['nationality'].value_counts()"
   ]
  },
  {
   "cell_type": "code",
   "execution_count": 34,
   "id": "f0def7e5",
   "metadata": {},
   "outputs": [
    {
     "data": {
      "text/plain": [
       "tensor([0.7293, 0.7839, 0.8540, 0.9294, 0.9454, 0.9475, 0.9623, 0.9765, 0.9785,\n",
       "        0.9791, 0.9800, 0.9833, 0.9858, 0.9891, 0.9930, 0.9932, 0.9947, 0.9950])"
      ]
     },
     "execution_count": 34,
     "metadata": {},
     "output_type": "execute_result"
    }
   ],
   "source": [
    "numSample_list = df['nationality'].value_counts().tolist()\n",
    "numSample_list\n",
    "# weights 계산\n",
    "weights = [1 - (x / sum(numSample_list)) for x in numSample_list]\n",
    "\n",
    "# weights를 torch.FloatTensor로 변환\n",
    "weights = torch.FloatTensor(weights)\n",
    "weights"
   ]
  },
  {
   "cell_type": "code",
   "execution_count": 35,
   "id": "b56190b3",
   "metadata": {},
   "outputs": [
    {
     "data": {
      "text/plain": [
       "CrossEntropyLoss()"
      ]
     },
     "execution_count": 35,
     "metadata": {},
     "output_type": "execute_result"
    }
   ],
   "source": [
    "# loss function\n",
    "#  dataset.class_weights -> 각 클래스에 대해 다른 가중치를 적용할 수 있음(데이터 불균형시에)\n",
    "# 소수의 클래스가 다수의 클래스보다 훨씬 적은 수의 샘플을 가지고 있는 경우, \n",
    "# 소수 클래스에 더 높은 가중치를 부여하여 모델이 불균형한 데이터에 대해 더 잘 학습\n",
    "\n",
    "# loss_func = nn.CrossEntropyLoss(weights)\n",
    "loss_func = nn.CrossEntropyLoss()\n",
    "loss_func\n"
   ]
  },
  {
   "cell_type": "markdown",
   "id": "3781e8c8",
   "metadata": {},
   "source": [
    "### Train"
   ]
  },
  {
   "cell_type": "code",
   "execution_count": 36,
   "id": "e515293e",
   "metadata": {},
   "outputs": [],
   "source": [
    "def compute_accuracy(y_pred, y_target):\n",
    "#      예측값과 타겟값을 비교하여 일치하는 개수를 계산\n",
    "    _, y_pred_indices = y_pred.max(dim=1)\n",
    "    n_correct = torch.eq(y_pred_indices, y_target).sum().item()\n",
    "    return n_correct / len(y_pred_indices) * 100\n",
    "   "
   ]
  },
  {
   "cell_type": "code",
   "execution_count": 37,
   "id": "8427c454",
   "metadata": {},
   "outputs": [],
   "source": [
    "# Train state 초기화 \n",
    "def make_train_state():\n",
    "    return {\n",
    "        'stop_early':False,\n",
    "        'early_stopping_step':0,\n",
    "        'early_stopping_best_val':1e8,\n",
    "        'early_stopping_criteria' : 10,\n",
    "        'epoch_index' : 0,\n",
    "        'train_loss': [], \n",
    "        'train_acc' :[], \n",
    "        'val_loss' : [],\n",
    "        'val_acc' : [], \n",
    "        'test_loss' : [],\n",
    "        'test_acc' : [],\n",
    "         \n",
    "#       모델 저장파일\n",
    "        'model_filename' : 'model.pth'\n",
    "    } \n",
    "\n",
    "\n",
    "# Train update \n",
    "def update_train_state(model, train_state):\n",
    "    \n",
    "#   학습시작하면 초기에 모델 저장하기 \n",
    "    \n",
    "    if train_state['epoch_index'] == 0:\n",
    "        torch.save(model.state_dict(),train_state['model_filename'])\n",
    "        \n",
    "#   모델 성능이 향상되면 모델 저장(valid loss가 더 낮아지면)\n",
    "    elif train_state['epoch_index'] >=1 :\n",
    "        loss_t = train_state['val_loss'][-1]\n",
    "#        loss가 나빠지면 early stop step 업데이트\n",
    "        if loss_t >= train_state['early_stopping_best_val']:\n",
    "            train_state['early_stopping_step']+=1\n",
    "            \n",
    "#        loss가 좋아지면   \n",
    "        else:\n",
    "#            early stop step 0으로 다시 초기화        \n",
    "            train_state['early_stopping_step']=0\n",
    "    \n",
    "#           최저 loss이면 모델 저장 \n",
    "            if loss_t < train_state['early_stopping_best_val']:\n",
    "                train_state['early_stopping_best_val'] = loss_t\n",
    "                torch.save(model.state_dict(),train_state['model_filename'])\n",
    "\n",
    "#       기준점 넘으면 early stop \n",
    "        if train_state['early_stopping_step'] >= train_state['early_stopping_criteria']:\n",
    "            train_state['stop_early'] = True\n",
    "        \n",
    "        return train_state\n"
   ]
  },
  {
   "cell_type": "code",
   "execution_count": 38,
   "id": "87458bb8",
   "metadata": {},
   "outputs": [
    {
     "data": {
      "text/plain": [
       "{'stop_early': False,\n",
       " 'early_stopping_step': 0,\n",
       " 'early_stopping_best_val': 100000000.0,\n",
       " 'early_stopping_criteria': 10,\n",
       " 'epoch_index': 0,\n",
       " 'train_loss': [],\n",
       " 'train_acc': [],\n",
       " 'val_loss': [],\n",
       " 'val_acc': [],\n",
       " 'test_loss': [],\n",
       " 'test_acc': [],\n",
       " 'model_filename': 'model.pth'}"
      ]
     },
     "execution_count": 38,
     "metadata": {},
     "output_type": "execute_result"
    }
   ],
   "source": [
    "# 모델 진행 상황 함수 초기화\n",
    "train_state = make_train_state()\n",
    "train_state"
   ]
  },
  {
   "cell_type": "code",
   "execution_count": 39,
   "id": "550eb7a7",
   "metadata": {},
   "outputs": [
    {
     "name": "stderr",
     "output_type": "stream",
     "text": [
      "  1%|▍                                          | 1/100 [00:01<02:05,  1.27s/it]"
     ]
    },
    {
     "name": "stdout",
     "output_type": "stream",
     "text": [
      "val_loss 2.2941468556722007\n",
      "val_acc 26.953125\n"
     ]
    },
    {
     "name": "stderr",
     "output_type": "stream",
     "text": [
      "\r",
      "  2%|▊                                          | 2/100 [00:02<01:42,  1.05s/it]"
     ]
    },
    {
     "name": "stdout",
     "output_type": "stream",
     "text": [
      "val_loss 2.2031826972961426\n",
      "val_acc 27.278645833333332\n"
     ]
    },
    {
     "name": "stderr",
     "output_type": "stream",
     "text": [
      "\r",
      "  3%|█▎                                         | 3/100 [00:03<01:37,  1.00s/it]"
     ]
    },
    {
     "name": "stdout",
     "output_type": "stream",
     "text": [
      "val_loss 2.1640730698903403\n",
      "val_acc 35.286458333333336\n"
     ]
    },
    {
     "name": "stderr",
     "output_type": "stream",
     "text": [
      "\r",
      "  4%|█▋                                         | 4/100 [00:04<01:43,  1.08s/it]"
     ]
    },
    {
     "name": "stdout",
     "output_type": "stream",
     "text": [
      "val_loss 2.080089489618937\n",
      "val_acc 37.434895833333336\n"
     ]
    },
    {
     "name": "stderr",
     "output_type": "stream",
     "text": [
      "\r",
      "  5%|██▏                                        | 5/100 [00:05<01:36,  1.02s/it]"
     ]
    },
    {
     "name": "stdout",
     "output_type": "stream",
     "text": [
      "val_loss 1.9209178288777669\n",
      "val_acc 42.903645833333336\n"
     ]
    },
    {
     "name": "stderr",
     "output_type": "stream",
     "text": [
      "\r",
      "  6%|██▌                                        | 6/100 [00:06<01:32,  1.02it/s]"
     ]
    },
    {
     "name": "stdout",
     "output_type": "stream",
     "text": [
      "val_loss 1.7434579531351726\n",
      "val_acc 50.520833333333336\n"
     ]
    },
    {
     "name": "stderr",
     "output_type": "stream",
     "text": [
      "\r",
      "  7%|███                                        | 7/100 [00:07<01:30,  1.03it/s]"
     ]
    },
    {
     "name": "stdout",
     "output_type": "stream",
     "text": [
      "val_loss 1.6590429941813152\n",
      "val_acc 52.669270833333336\n"
     ]
    },
    {
     "name": "stderr",
     "output_type": "stream",
     "text": [
      "\r",
      "  8%|███▍                                       | 8/100 [00:07<01:27,  1.06it/s]"
     ]
    },
    {
     "name": "stdout",
     "output_type": "stream",
     "text": [
      "val_loss 1.5907117923100789\n",
      "val_acc 54.947916666666664\n"
     ]
    },
    {
     "name": "stderr",
     "output_type": "stream",
     "text": [
      "\r",
      "  9%|███▊                                       | 9/100 [00:08<01:26,  1.06it/s]"
     ]
    },
    {
     "name": "stdout",
     "output_type": "stream",
     "text": [
      "val_loss 1.5388100147247314\n",
      "val_acc 56.119791666666664\n"
     ]
    },
    {
     "name": "stderr",
     "output_type": "stream",
     "text": [
      "\r",
      " 10%|████▏                                     | 10/100 [00:09<01:25,  1.05it/s]"
     ]
    },
    {
     "name": "stdout",
     "output_type": "stream",
     "text": [
      "val_loss 1.5057705243428547\n",
      "val_acc 56.966145833333336\n"
     ]
    },
    {
     "name": "stderr",
     "output_type": "stream",
     "text": [
      "\r",
      " 11%|████▌                                     | 11/100 [00:11<01:30,  1.02s/it]"
     ]
    },
    {
     "name": "stdout",
     "output_type": "stream",
     "text": [
      "val_loss 1.4711943070093791\n",
      "val_acc 57.942708333333336\n"
     ]
    },
    {
     "name": "stderr",
     "output_type": "stream",
     "text": [
      "\r",
      " 12%|█████                                     | 12/100 [00:12<01:44,  1.19s/it]"
     ]
    },
    {
     "name": "stdout",
     "output_type": "stream",
     "text": [
      "val_loss 1.4463011423746746\n",
      "val_acc 58.919270833333336\n"
     ]
    },
    {
     "name": "stderr",
     "output_type": "stream",
     "text": [
      "\r",
      " 13%|█████▍                                    | 13/100 [00:13<01:46,  1.22s/it]"
     ]
    },
    {
     "name": "stdout",
     "output_type": "stream",
     "text": [
      "val_loss 1.439347743988037\n",
      "val_acc 58.333333333333336\n"
     ]
    },
    {
     "name": "stderr",
     "output_type": "stream",
     "text": [
      "\r",
      " 14%|█████▉                                    | 14/100 [00:15<02:05,  1.46s/it]"
     ]
    },
    {
     "name": "stdout",
     "output_type": "stream",
     "text": [
      "val_loss 1.4116290012995403\n",
      "val_acc 59.765625\n"
     ]
    },
    {
     "name": "stderr",
     "output_type": "stream",
     "text": [
      "\r",
      " 15%|██████▎                                   | 15/100 [00:17<01:57,  1.38s/it]"
     ]
    },
    {
     "name": "stdout",
     "output_type": "stream",
     "text": [
      "val_loss 1.3848724762598674\n",
      "val_acc 60.15625\n"
     ]
    },
    {
     "name": "stderr",
     "output_type": "stream",
     "text": [
      "\r",
      " 16%|██████▋                                   | 16/100 [00:18<01:46,  1.27s/it]"
     ]
    },
    {
     "name": "stdout",
     "output_type": "stream",
     "text": [
      "val_loss 1.351871093114217\n",
      "val_acc 62.174479166666664\n"
     ]
    },
    {
     "name": "stderr",
     "output_type": "stream",
     "text": [
      "\r",
      " 17%|███████▏                                  | 17/100 [00:19<01:50,  1.33s/it]"
     ]
    },
    {
     "name": "stdout",
     "output_type": "stream",
     "text": [
      "val_loss 1.3333966334660847\n",
      "val_acc 61.848958333333336\n"
     ]
    },
    {
     "name": "stderr",
     "output_type": "stream",
     "text": [
      "\r",
      " 18%|███████▌                                  | 18/100 [00:20<01:49,  1.33s/it]"
     ]
    },
    {
     "name": "stdout",
     "output_type": "stream",
     "text": [
      "val_loss 1.2968440850575764\n",
      "val_acc 62.174479166666664\n"
     ]
    },
    {
     "name": "stderr",
     "output_type": "stream",
     "text": [
      "\r",
      " 19%|███████▉                                  | 19/100 [00:22<01:45,  1.30s/it]"
     ]
    },
    {
     "name": "stdout",
     "output_type": "stream",
     "text": [
      "val_loss 1.2819708983103435\n",
      "val_acc 62.955729166666664\n"
     ]
    },
    {
     "name": "stderr",
     "output_type": "stream",
     "text": [
      "\r",
      " 20%|████████▍                                 | 20/100 [00:23<01:55,  1.44s/it]"
     ]
    },
    {
     "name": "stdout",
     "output_type": "stream",
     "text": [
      "val_loss 1.240401268005371\n",
      "val_acc 63.606770833333336\n"
     ]
    },
    {
     "name": "stderr",
     "output_type": "stream",
     "text": [
      "\r",
      " 21%|████████▊                                 | 21/100 [00:25<01:45,  1.34s/it]"
     ]
    },
    {
     "name": "stdout",
     "output_type": "stream",
     "text": [
      "val_loss 1.2250923713048298\n",
      "val_acc 64.453125\n"
     ]
    },
    {
     "name": "stderr",
     "output_type": "stream",
     "text": [
      "\r",
      " 22%|█████████▏                                | 22/100 [00:26<01:39,  1.27s/it]"
     ]
    },
    {
     "name": "stdout",
     "output_type": "stream",
     "text": [
      "val_loss 1.2027342716852825\n",
      "val_acc 66.2109375\n"
     ]
    },
    {
     "name": "stderr",
     "output_type": "stream",
     "text": [
      "\r",
      " 23%|█████████▋                                | 23/100 [00:27<01:33,  1.21s/it]"
     ]
    },
    {
     "name": "stdout",
     "output_type": "stream",
     "text": [
      "val_loss 1.192394455273946\n",
      "val_acc 65.69010416666667\n"
     ]
    },
    {
     "name": "stderr",
     "output_type": "stream",
     "text": [
      "\r",
      " 24%|██████████                                | 24/100 [00:28<01:25,  1.13s/it]"
     ]
    },
    {
     "name": "stdout",
     "output_type": "stream",
     "text": [
      "val_loss 1.1770106951395671\n",
      "val_acc 66.40625\n"
     ]
    },
    {
     "name": "stderr",
     "output_type": "stream",
     "text": [
      "\r",
      " 25%|██████████▌                               | 25/100 [00:29<01:20,  1.07s/it]"
     ]
    },
    {
     "name": "stdout",
     "output_type": "stream",
     "text": [
      "val_loss 1.1697304248809814\n",
      "val_acc 66.6015625\n"
     ]
    },
    {
     "name": "stderr",
     "output_type": "stream",
     "text": [
      "\r",
      " 26%|██████████▉                               | 26/100 [00:30<01:16,  1.04s/it]"
     ]
    },
    {
     "name": "stdout",
     "output_type": "stream",
     "text": [
      "val_loss 1.1684833367665608\n",
      "val_acc 66.66666666666667\n"
     ]
    },
    {
     "name": "stderr",
     "output_type": "stream",
     "text": [
      "\r",
      " 27%|███████████▎                              | 27/100 [00:30<01:13,  1.00s/it]"
     ]
    },
    {
     "name": "stdout",
     "output_type": "stream",
     "text": [
      "val_loss 1.1270057360331218\n",
      "val_acc 68.48958333333333\n"
     ]
    },
    {
     "name": "stderr",
     "output_type": "stream",
     "text": [
      "\r",
      " 28%|███████████▊                              | 28/100 [00:31<01:10,  1.01it/s]"
     ]
    },
    {
     "name": "stdout",
     "output_type": "stream",
     "text": [
      "val_loss 1.116470495859782\n",
      "val_acc 68.42447916666667\n"
     ]
    },
    {
     "name": "stderr",
     "output_type": "stream",
     "text": [
      "\r",
      " 29%|████████████▏                             | 29/100 [00:32<01:10,  1.00it/s]"
     ]
    },
    {
     "name": "stdout",
     "output_type": "stream",
     "text": [
      "val_loss 1.1222044626871746\n",
      "val_acc 68.1640625\n"
     ]
    },
    {
     "name": "stderr",
     "output_type": "stream",
     "text": [
      "\r",
      " 30%|████████████▌                             | 30/100 [00:33<01:08,  1.03it/s]"
     ]
    },
    {
     "name": "stdout",
     "output_type": "stream",
     "text": [
      "val_loss 1.102547526359558\n",
      "val_acc 69.01041666666667\n"
     ]
    },
    {
     "name": "stderr",
     "output_type": "stream",
     "text": [
      "\r",
      " 31%|█████████████                             | 31/100 [00:34<01:05,  1.06it/s]"
     ]
    },
    {
     "name": "stdout",
     "output_type": "stream",
     "text": [
      "val_loss 1.0906385978062947\n",
      "val_acc 69.40104166666667\n"
     ]
    },
    {
     "name": "stderr",
     "output_type": "stream",
     "text": [
      "\r",
      " 32%|█████████████▍                            | 32/100 [00:35<01:04,  1.05it/s]"
     ]
    },
    {
     "name": "stdout",
     "output_type": "stream",
     "text": [
      "val_loss 1.092143177986145\n",
      "val_acc 69.3359375\n"
     ]
    },
    {
     "name": "stderr",
     "output_type": "stream",
     "text": [
      "\r",
      " 33%|█████████████▊                            | 33/100 [00:36<01:02,  1.06it/s]"
     ]
    },
    {
     "name": "stdout",
     "output_type": "stream",
     "text": [
      "val_loss 1.0988272825876872\n",
      "val_acc 68.1640625\n"
     ]
    },
    {
     "name": "stderr",
     "output_type": "stream",
     "text": [
      "\r",
      " 34%|██████████████▎                           | 34/100 [00:37<01:01,  1.07it/s]"
     ]
    },
    {
     "name": "stdout",
     "output_type": "stream",
     "text": [
      "val_loss 1.0755671461423237\n",
      "val_acc 69.66145833333333\n"
     ]
    },
    {
     "name": "stderr",
     "output_type": "stream",
     "text": [
      "\r",
      " 35%|██████████████▋                           | 35/100 [00:38<01:03,  1.02it/s]"
     ]
    },
    {
     "name": "stdout",
     "output_type": "stream",
     "text": [
      "val_loss 1.0658969084421794\n",
      "val_acc 70.5078125\n"
     ]
    },
    {
     "name": "stderr",
     "output_type": "stream",
     "text": [
      "\r",
      " 36%|███████████████                           | 36/100 [00:39<01:01,  1.05it/s]"
     ]
    },
    {
     "name": "stdout",
     "output_type": "stream",
     "text": [
      "val_loss 1.0569876829783122\n",
      "val_acc 70.37760416666667\n"
     ]
    },
    {
     "name": "stderr",
     "output_type": "stream",
     "text": [
      "\r",
      " 37%|███████████████▌                          | 37/100 [00:40<00:59,  1.06it/s]"
     ]
    },
    {
     "name": "stdout",
     "output_type": "stream",
     "text": [
      "val_loss 1.0730501413345337\n",
      "val_acc 69.59635416666667\n"
     ]
    },
    {
     "name": "stderr",
     "output_type": "stream",
     "text": [
      "\r",
      " 38%|███████████████▉                          | 38/100 [00:41<00:57,  1.07it/s]"
     ]
    },
    {
     "name": "stdout",
     "output_type": "stream",
     "text": [
      "val_loss 1.06015145778656\n",
      "val_acc 69.7265625\n"
     ]
    },
    {
     "name": "stderr",
     "output_type": "stream",
     "text": [
      "\r",
      " 39%|████████████████▍                         | 39/100 [00:42<00:56,  1.08it/s]"
     ]
    },
    {
     "name": "stdout",
     "output_type": "stream",
     "text": [
      "val_loss 1.0604577859242756\n",
      "val_acc 70.05208333333333\n"
     ]
    },
    {
     "name": "stderr",
     "output_type": "stream",
     "text": [
      "\r",
      " 40%|████████████████▊                         | 40/100 [00:43<00:54,  1.10it/s]"
     ]
    },
    {
     "name": "stdout",
     "output_type": "stream",
     "text": [
      "val_loss 1.0662401914596558\n",
      "val_acc 69.46614583333333\n"
     ]
    },
    {
     "name": "stderr",
     "output_type": "stream",
     "text": [
      "\r",
      " 41%|█████████████████▏                        | 41/100 [00:44<00:54,  1.09it/s]"
     ]
    },
    {
     "name": "stdout",
     "output_type": "stream",
     "text": [
      "val_loss 1.064160664876302\n",
      "val_acc 69.20572916666667\n"
     ]
    },
    {
     "name": "stderr",
     "output_type": "stream",
     "text": [
      "\r",
      " 42%|█████████████████▋                        | 42/100 [00:45<00:53,  1.09it/s]"
     ]
    },
    {
     "name": "stdout",
     "output_type": "stream",
     "text": [
      "val_loss 1.0468943516413372\n",
      "val_acc 69.921875\n"
     ]
    },
    {
     "name": "stderr",
     "output_type": "stream",
     "text": [
      "\r",
      " 43%|██████████████████                        | 43/100 [00:45<00:52,  1.09it/s]"
     ]
    },
    {
     "name": "stdout",
     "output_type": "stream",
     "text": [
      "val_loss 1.0348653594652812\n",
      "val_acc 70.24739583333333\n"
     ]
    },
    {
     "name": "stderr",
     "output_type": "stream",
     "text": [
      "\r",
      " 44%|██████████████████▍                       | 44/100 [00:46<00:53,  1.04it/s]"
     ]
    },
    {
     "name": "stdout",
     "output_type": "stream",
     "text": [
      "val_loss 1.0292507608731587\n",
      "val_acc 70.18229166666667\n"
     ]
    },
    {
     "name": "stderr",
     "output_type": "stream",
     "text": [
      "\r",
      " 45%|██████████████████▉                       | 45/100 [00:48<00:54,  1.01it/s]"
     ]
    },
    {
     "name": "stdout",
     "output_type": "stream",
     "text": [
      "val_loss 1.0218332211176555\n",
      "val_acc 70.18229166666667\n"
     ]
    },
    {
     "name": "stderr",
     "output_type": "stream",
     "text": [
      "\r",
      " 46%|███████████████████▎                      | 46/100 [00:49<00:55,  1.04s/it]"
     ]
    },
    {
     "name": "stdout",
     "output_type": "stream",
     "text": [
      "val_loss 1.0221168796221416\n",
      "val_acc 70.3125\n"
     ]
    },
    {
     "name": "stderr",
     "output_type": "stream",
     "text": [
      "\r",
      " 47%|███████████████████▋                      | 47/100 [00:50<00:54,  1.04s/it]"
     ]
    },
    {
     "name": "stdout",
     "output_type": "stream",
     "text": [
      "val_loss 1.0502192775408428\n",
      "val_acc 69.46614583333333\n"
     ]
    },
    {
     "name": "stderr",
     "output_type": "stream",
     "text": [
      "\r",
      " 48%|████████████████████▏                     | 48/100 [00:51<00:52,  1.02s/it]"
     ]
    },
    {
     "name": "stdout",
     "output_type": "stream",
     "text": [
      "val_loss 1.019181231657664\n",
      "val_acc 71.15885416666667\n"
     ]
    },
    {
     "name": "stderr",
     "output_type": "stream",
     "text": [
      "\r",
      " 49%|████████████████████▌                     | 49/100 [00:52<00:51,  1.01s/it]"
     ]
    },
    {
     "name": "stdout",
     "output_type": "stream",
     "text": [
      "val_loss 1.022276798884074\n",
      "val_acc 70.1171875\n"
     ]
    },
    {
     "name": "stderr",
     "output_type": "stream",
     "text": [
      "\r",
      " 50%|█████████████████████                     | 50/100 [00:53<00:50,  1.00s/it]"
     ]
    },
    {
     "name": "stdout",
     "output_type": "stream",
     "text": [
      "val_loss 1.007240653038025\n",
      "val_acc 70.44270833333333\n"
     ]
    },
    {
     "name": "stderr",
     "output_type": "stream",
     "text": [
      "\r",
      " 51%|█████████████████████▍                    | 51/100 [00:54<00:47,  1.03it/s]"
     ]
    },
    {
     "name": "stdout",
     "output_type": "stream",
     "text": [
      "val_loss 1.026952823003133\n",
      "val_acc 70.8984375\n"
     ]
    },
    {
     "name": "stderr",
     "output_type": "stream",
     "text": [
      "\r",
      " 52%|█████████████████████▊                    | 52/100 [00:55<00:47,  1.01it/s]"
     ]
    },
    {
     "name": "stdout",
     "output_type": "stream",
     "text": [
      "val_loss 1.0062974492708843\n",
      "val_acc 71.74479166666667\n"
     ]
    },
    {
     "name": "stderr",
     "output_type": "stream",
     "text": [
      "\r",
      " 53%|██████████████████████▎                   | 53/100 [00:56<00:45,  1.03it/s]"
     ]
    },
    {
     "name": "stdout",
     "output_type": "stream",
     "text": [
      "val_loss 1.0101464192072551\n",
      "val_acc 71.02864583333333\n"
     ]
    },
    {
     "name": "stderr",
     "output_type": "stream",
     "text": [
      "\r",
      " 54%|██████████████████████▋                   | 54/100 [00:56<00:44,  1.04it/s]"
     ]
    },
    {
     "name": "stdout",
     "output_type": "stream",
     "text": [
      "val_loss 1.0179474353790283\n",
      "val_acc 70.5078125\n"
     ]
    },
    {
     "name": "stderr",
     "output_type": "stream",
     "text": [
      "\r",
      " 55%|███████████████████████                   | 55/100 [00:58<00:45,  1.01s/it]"
     ]
    },
    {
     "name": "stdout",
     "output_type": "stream",
     "text": [
      "val_loss 0.9937800168991089\n",
      "val_acc 71.74479166666667\n"
     ]
    },
    {
     "name": "stderr",
     "output_type": "stream",
     "text": [
      "\r",
      " 56%|███████████████████████▌                  | 56/100 [00:59<00:47,  1.08s/it]"
     ]
    },
    {
     "name": "stdout",
     "output_type": "stream",
     "text": [
      "val_loss 1.0029486219088237\n",
      "val_acc 71.484375\n"
     ]
    },
    {
     "name": "stderr",
     "output_type": "stream",
     "text": [
      "\r",
      " 57%|███████████████████████▉                  | 57/100 [01:00<00:48,  1.12s/it]"
     ]
    },
    {
     "name": "stdout",
     "output_type": "stream",
     "text": [
      "val_loss 0.9977965354919434\n",
      "val_acc 71.41927083333333\n"
     ]
    },
    {
     "name": "stderr",
     "output_type": "stream",
     "text": [
      "\r",
      " 58%|████████████████████████▎                 | 58/100 [01:01<00:47,  1.13s/it]"
     ]
    },
    {
     "name": "stdout",
     "output_type": "stream",
     "text": [
      "val_loss 1.0039403637250264\n",
      "val_acc 70.96354166666667\n"
     ]
    },
    {
     "name": "stderr",
     "output_type": "stream",
     "text": [
      "\r",
      " 59%|████████████████████████▊                 | 59/100 [01:02<00:44,  1.08s/it]"
     ]
    },
    {
     "name": "stdout",
     "output_type": "stream",
     "text": [
      "val_loss 1.0075672467549641\n",
      "val_acc 71.15885416666667\n"
     ]
    },
    {
     "name": "stderr",
     "output_type": "stream",
     "text": [
      "\r",
      " 60%|█████████████████████████▏                | 60/100 [01:03<00:41,  1.03s/it]"
     ]
    },
    {
     "name": "stdout",
     "output_type": "stream",
     "text": [
      "val_loss 1.0233927567799885\n",
      "val_acc 70.57291666666667\n"
     ]
    },
    {
     "name": "stderr",
     "output_type": "stream",
     "text": [
      "\r",
      " 61%|█████████████████████████▌                | 61/100 [01:04<00:39,  1.00s/it]"
     ]
    },
    {
     "name": "stdout",
     "output_type": "stream",
     "text": [
      "val_loss 1.002232591311137\n",
      "val_acc 71.74479166666667\n"
     ]
    },
    {
     "name": "stderr",
     "output_type": "stream",
     "text": [
      "\r",
      " 62%|██████████████████████████                | 62/100 [01:05<00:37,  1.03it/s]"
     ]
    },
    {
     "name": "stdout",
     "output_type": "stream",
     "text": [
      "val_loss 0.9899790485699972\n",
      "val_acc 72.0703125\n"
     ]
    },
    {
     "name": "stderr",
     "output_type": "stream",
     "text": [
      "\r",
      " 63%|██████████████████████████▍               | 63/100 [01:06<00:35,  1.04it/s]"
     ]
    },
    {
     "name": "stdout",
     "output_type": "stream",
     "text": [
      "val_loss 0.9939115246136984\n",
      "val_acc 71.74479166666667\n"
     ]
    },
    {
     "name": "stderr",
     "output_type": "stream",
     "text": [
      "\r",
      " 64%|██████████████████████████▉               | 64/100 [01:07<00:34,  1.04it/s]"
     ]
    },
    {
     "name": "stdout",
     "output_type": "stream",
     "text": [
      "val_loss 0.9867205818494161\n",
      "val_acc 72.59114583333333\n"
     ]
    },
    {
     "name": "stderr",
     "output_type": "stream",
     "text": [
      "\r",
      " 65%|███████████████████████████▎              | 65/100 [01:08<00:37,  1.07s/it]"
     ]
    },
    {
     "name": "stdout",
     "output_type": "stream",
     "text": [
      "val_loss 1.0019646286964417\n",
      "val_acc 71.875\n"
     ]
    },
    {
     "name": "stderr",
     "output_type": "stream",
     "text": [
      "\r",
      " 66%|███████████████████████████▋              | 66/100 [01:09<00:36,  1.07s/it]"
     ]
    },
    {
     "name": "stdout",
     "output_type": "stream",
     "text": [
      "val_loss 1.0090186198552449\n",
      "val_acc 71.484375\n"
     ]
    },
    {
     "name": "stderr",
     "output_type": "stream",
     "text": [
      "\r",
      " 67%|████████████████████████████▏             | 67/100 [01:10<00:34,  1.05s/it]"
     ]
    },
    {
     "name": "stdout",
     "output_type": "stream",
     "text": [
      "val_loss 1.0121209621429443\n",
      "val_acc 71.09375\n"
     ]
    },
    {
     "name": "stderr",
     "output_type": "stream",
     "text": [
      "\r",
      " 68%|████████████████████████████▌             | 68/100 [01:11<00:33,  1.04s/it]"
     ]
    },
    {
     "name": "stdout",
     "output_type": "stream",
     "text": [
      "val_loss 1.0076925158500671\n",
      "val_acc 72.0703125\n"
     ]
    },
    {
     "name": "stderr",
     "output_type": "stream",
     "text": [
      "\r",
      " 69%|████████████████████████████▉             | 69/100 [01:12<00:31,  1.01s/it]"
     ]
    },
    {
     "name": "stdout",
     "output_type": "stream",
     "text": [
      "val_loss 1.002161681652069\n",
      "val_acc 72.00520833333333\n"
     ]
    },
    {
     "name": "stderr",
     "output_type": "stream",
     "text": [
      "\r",
      " 70%|█████████████████████████████▍            | 70/100 [01:13<00:29,  1.02it/s]"
     ]
    },
    {
     "name": "stdout",
     "output_type": "stream",
     "text": [
      "val_loss 0.9887951612472534\n",
      "val_acc 72.39583333333333\n"
     ]
    },
    {
     "name": "stderr",
     "output_type": "stream",
     "text": [
      "\r",
      " 71%|█████████████████████████████▊            | 71/100 [01:14<00:27,  1.04it/s]"
     ]
    },
    {
     "name": "stdout",
     "output_type": "stream",
     "text": [
      "val_loss 1.0070250630378723\n",
      "val_acc 71.41927083333333\n"
     ]
    },
    {
     "name": "stderr",
     "output_type": "stream",
     "text": [
      "\r",
      " 72%|██████████████████████████████▏           | 72/100 [01:15<00:26,  1.04it/s]"
     ]
    },
    {
     "name": "stdout",
     "output_type": "stream",
     "text": [
      "val_loss 0.9835207263628641\n",
      "val_acc 72.65625\n"
     ]
    },
    {
     "name": "stderr",
     "output_type": "stream",
     "text": [
      "\r",
      " 73%|██████████████████████████████▋           | 73/100 [01:16<00:25,  1.06it/s]"
     ]
    },
    {
     "name": "stdout",
     "output_type": "stream",
     "text": [
      "val_loss 1.0136265556017559\n",
      "val_acc 73.17708333333333\n"
     ]
    },
    {
     "name": "stderr",
     "output_type": "stream",
     "text": [
      "\r",
      " 74%|███████████████████████████████           | 74/100 [01:17<00:24,  1.05it/s]"
     ]
    },
    {
     "name": "stdout",
     "output_type": "stream",
     "text": [
      "val_loss 1.0162049531936646\n",
      "val_acc 72.4609375\n"
     ]
    },
    {
     "name": "stderr",
     "output_type": "stream",
     "text": [
      "\r",
      " 75%|███████████████████████████████▌          | 75/100 [01:18<00:24,  1.02it/s]"
     ]
    },
    {
     "name": "stdout",
     "output_type": "stream",
     "text": [
      "val_loss 0.9984452923138937\n",
      "val_acc 73.11197916666667\n"
     ]
    },
    {
     "name": "stderr",
     "output_type": "stream",
     "text": [
      "\r",
      " 76%|███████████████████████████████▉          | 76/100 [01:19<00:24,  1.03s/it]"
     ]
    },
    {
     "name": "stdout",
     "output_type": "stream",
     "text": [
      "val_loss 1.0084959864616394\n",
      "val_acc 72.13541666666667\n"
     ]
    },
    {
     "name": "stderr",
     "output_type": "stream",
     "text": [
      "\r",
      " 77%|████████████████████████████████▎         | 77/100 [01:20<00:22,  1.00it/s]"
     ]
    },
    {
     "name": "stdout",
     "output_type": "stream",
     "text": [
      "val_loss 1.017244021097819\n",
      "val_acc 71.54947916666667\n"
     ]
    },
    {
     "name": "stderr",
     "output_type": "stream",
     "text": [
      "\r",
      " 78%|████████████████████████████████▊         | 78/100 [01:21<00:22,  1.00s/it]"
     ]
    },
    {
     "name": "stdout",
     "output_type": "stream",
     "text": [
      "val_loss 1.0339492758115132\n",
      "val_acc 72.13541666666667\n"
     ]
    },
    {
     "name": "stderr",
     "output_type": "stream",
     "text": [
      "\r",
      " 79%|█████████████████████████████████▏        | 79/100 [01:22<00:23,  1.11s/it]"
     ]
    },
    {
     "name": "stdout",
     "output_type": "stream",
     "text": [
      "val_loss 1.0433433254559834\n",
      "val_acc 72.0703125\n"
     ]
    },
    {
     "name": "stderr",
     "output_type": "stream",
     "text": [
      "\r",
      " 80%|█████████████████████████████████▌        | 80/100 [01:23<00:21,  1.07s/it]"
     ]
    },
    {
     "name": "stdout",
     "output_type": "stream",
     "text": [
      "val_loss 1.0358987053235371\n",
      "val_acc 72.78645833333333\n"
     ]
    },
    {
     "name": "stderr",
     "output_type": "stream",
     "text": [
      "\r",
      " 81%|██████████████████████████████████        | 81/100 [01:25<00:23,  1.21s/it]"
     ]
    },
    {
     "name": "stdout",
     "output_type": "stream",
     "text": [
      "val_loss 1.0570435126622517\n",
      "val_acc 72.33072916666667\n"
     ]
    },
    {
     "name": "stderr",
     "output_type": "stream",
     "text": [
      "\r",
      " 81%|██████████████████████████████████        | 81/100 [01:26<00:20,  1.07s/it]"
     ]
    },
    {
     "name": "stdout",
     "output_type": "stream",
     "text": [
      "val_loss 1.0462886492411296\n",
      "val_acc 72.0703125\n"
     ]
    },
    {
     "name": "stderr",
     "output_type": "stream",
     "text": [
      "\n"
     ]
    }
   ],
   "source": [
    "import tqdm\n",
    "\n",
    "# 에포크만큼\n",
    "for epoch in tqdm.tqdm(range(num_epochs)):\n",
    "\n",
    "#     print('epoch',epoch)\n",
    "#     print(train_state['epoch_index']) \n",
    "    train_state['epoch_index'] +=1 \n",
    "\n",
    "    running_loss = 0.0\n",
    "    running_acc = 0.0\n",
    "\n",
    "\n",
    "#     모델을 학습 모드로 설정 -> 드롭아웃 및 배치 정규화와 같은 학습 중에만 적용되는 기법들이 활성화\n",
    "#     모델을 평가 모드로 전환하려면 classifier.eval()을 사용\n",
    "    classifier.train()\n",
    "# 배치 만큼\n",
    "    for batch_idx, batch_data in enumerate(Traindataloader):\n",
    "        \n",
    "\n",
    "#       1. 옵티마이저 그레디언트 0으로 초기화\n",
    "        optimizer.zero_grad()\n",
    "#       2. 모델에 데이터 넣어서 출력받기\n",
    "        y_pred = classifier(x_in=batch_data['surname'])\n",
    "#       3. loss 계산하기\n",
    "        loss =  loss_func(y_pred, batch_data['nationality'])\n",
    "    \n",
    "#       tensor(0.3190) -> 0.3190, item()으로 스칼라 값만 추출\n",
    "        loss_t = loss.item()\n",
    "\n",
    "#       배치에서의 평균 loss 구하기\n",
    "        running_loss += (loss_t - running_loss) / (batch_idx + 1)\n",
    "\n",
    "#       4. gradient 계산하기\n",
    "        loss.backward()\n",
    "\n",
    "#       5. 옵티마이저 가중치 업데이트\n",
    "        optimizer.step()\n",
    "\n",
    "#       Accuracy 계산\n",
    "        acc_t = compute_accuracy(y_pred, batch_data['nationality'])\n",
    "        running_acc += (acc_t - running_acc) / (batch_idx + 1)\n",
    "\n",
    "\n",
    "\n",
    "    train_state['train_loss'].append(running_loss)\n",
    "    train_state['train_acc'].append(running_acc)\n",
    "\n",
    "\n",
    "#   valid에 대한 계산\n",
    "\n",
    "    running_loss = 0.0\n",
    "    running_acc = 0.0\n",
    "\n",
    "    classifier.eval() # 모델 파라미터를 수정하지 못 하게 비활성화\n",
    "\n",
    "    for batch_idx, batch_data in enumerate(Validdataloader):\n",
    "\n",
    "#       1. 모델의 출력값(y_pred)계산\n",
    "        y_pred = classifier(x_in=batch_data['surname'])\n",
    "\n",
    "#       2. loss 계산\n",
    "        loss = loss_func(y_pred,batch_data['nationality'])\n",
    "        loss_t = loss.item()\n",
    "        running_loss += (loss_t - running_loss) / (batch_idx + 1)\n",
    "\n",
    "#       3. Accuracy 계산\n",
    "        acc_t = compute_accuracy(y_pred,batch_data['nationality'])\n",
    "        running_acc += (acc_t - running_acc) / (batch_idx + 1)\n",
    "    \n",
    "    print(\"val_loss\",running_loss)\n",
    "    print(\"val_acc\",running_acc)\n",
    "\n",
    "    train_state['val_loss'].append(running_loss)\n",
    "    train_state['val_acc'].append(running_acc)\n",
    "    \n",
    "\n",
    "#   전체 loss, acc 저장\n",
    "    train_state = update_train_state(model=classifier,\n",
    "                                     train_state=train_state)\n",
    "#   early stop해라고 했으면 학습 멈추기    \n",
    "    if train_state['stop_early']:\n",
    "        break\n",
    "\n"
   ]
  },
  {
   "cell_type": "markdown",
   "id": "81148c1c",
   "metadata": {},
   "source": [
    "### Test 진행"
   ]
  },
  {
   "cell_type": "code",
   "execution_count": 40,
   "id": "c570a681",
   "metadata": {},
   "outputs": [],
   "source": [
    "# 가장 좋은 모델을 사용해 테스트 세트의 손실과 정확도를 계산합니다\n",
    "\n",
    "classifier.load_state_dict(torch.load(train_state['model_filename']))\n",
    "\n",
    "running_loss = 0.0\n",
    "running_acc = 0.0\n",
    "\n",
    "# 가중치 업데이트 하지 못 하게\n",
    "classifier.eval()\n",
    "\n",
    "for batch_idx, batch_data in enumerate(Testdataloader):\n",
    "    \n",
    "    y_pred = classifier(x_in=batch_data['surname'])\n",
    "    loss = loss_func(y_pred,batch_data['nationality'])\n",
    "    loss_t = loss.item()\n",
    "    running_loss += (loss_t - running_loss) / (batch_idx + 1)\n",
    "    \n",
    "    acc_t = compute_accuracy(y_pred, batch_data['nationality'])\n",
    "    running_acc += (acc_t - running_acc) / (batch_idx + 1)\n",
    "\n",
    "train_state['test_loss'] = running_loss\n",
    "train_state['test_acc'] = running_acc"
   ]
  },
  {
   "cell_type": "markdown",
   "id": "0d4b8a59",
   "metadata": {},
   "source": [
    "### MLP 보다 30%의 Accuracy 향상"
   ]
  },
  {
   "cell_type": "code",
   "execution_count": 41,
   "id": "4576ed1a",
   "metadata": {},
   "outputs": [
    {
     "name": "stdout",
     "output_type": "stream",
     "text": [
      "테스트 손실: 1.049\n",
      "테스트 정확도: 71.16\n"
     ]
    }
   ],
   "source": [
    "print(\"테스트 손실: {:.3f}\".format(train_state['test_loss']))\n",
    "print(\"테스트 정확도: {:.2f}\".format(train_state['test_acc']))"
   ]
  },
  {
   "cell_type": "code",
   "execution_count": 42,
   "id": "64e5655b",
   "metadata": {},
   "outputs": [
    {
     "data": {
      "text/plain": [
       "{'stop_early': True,\n",
       " 'early_stopping_step': 10,\n",
       " 'early_stopping_best_val': 0.9835207263628641,\n",
       " 'early_stopping_criteria': 10,\n",
       " 'epoch_index': 82,\n",
       " 'train_loss': [2.5587686697642007,\n",
       "  2.252599716186524,\n",
       "  2.1958210945129393,\n",
       "  2.1378581047058103,\n",
       "  2.0014691988627114,\n",
       "  1.8231967846552528,\n",
       "  1.6801792224248249,\n",
       "  1.577084747950236,\n",
       "  1.5090062300364178,\n",
       "  1.4615716298421222,\n",
       "  1.4177862564722696,\n",
       "  1.3828231414159138,\n",
       "  1.3572803735733032,\n",
       "  1.326089866956075,\n",
       "  1.2966793855031333,\n",
       "  1.2672155777613323,\n",
       "  1.2340983867645263,\n",
       "  1.2058131138483683,\n",
       "  1.170122210184733,\n",
       "  1.1371918916702268,\n",
       "  1.1104252258936564,\n",
       "  1.084042231241862,\n",
       "  1.059811254342397,\n",
       "  1.0383695165316262,\n",
       "  1.017719495296478,\n",
       "  0.9993720253308613,\n",
       "  0.975432042280833,\n",
       "  0.9597695390383402,\n",
       "  0.9454202612241109,\n",
       "  0.9282543261845906,\n",
       "  0.9154825647672017,\n",
       "  0.9017051498095195,\n",
       "  0.8910457094510396,\n",
       "  0.8761918743451436,\n",
       "  0.8599290529886882,\n",
       "  0.8513031840324402,\n",
       "  0.8438669721285502,\n",
       "  0.8377117196718852,\n",
       "  0.8199725111325582,\n",
       "  0.8097407301266988,\n",
       "  0.8014978607495625,\n",
       "  0.7916411916414897,\n",
       "  0.780849313735962,\n",
       "  0.7675776521364849,\n",
       "  0.7604909420013428,\n",
       "  0.7522221803665161,\n",
       "  0.7446878552436829,\n",
       "  0.735853958129883,\n",
       "  0.7237864772478739,\n",
       "  0.7155926783879598,\n",
       "  0.7090094804763794,\n",
       "  0.6971723516782126,\n",
       "  0.6899076422055562,\n",
       "  0.6852670828501384,\n",
       "  0.6766812841097514,\n",
       "  0.6711315115292867,\n",
       "  0.6537182887395222,\n",
       "  0.6491920351982118,\n",
       "  0.6400892853736878,\n",
       "  0.6360037883122762,\n",
       "  0.6292042414347331,\n",
       "  0.621230177084605,\n",
       "  0.6135366717974345,\n",
       "  0.6090545852979025,\n",
       "  0.597764492034912,\n",
       "  0.5887957056363423,\n",
       "  0.581037175655365,\n",
       "  0.576851244767507,\n",
       "  0.5768981019655863,\n",
       "  0.5665732304255167,\n",
       "  0.5548939545949302,\n",
       "  0.5466835300127666,\n",
       "  0.5453318536281586,\n",
       "  0.5358935356140138,\n",
       "  0.5290243128935497,\n",
       "  0.5217858056227366,\n",
       "  0.5123565892378489,\n",
       "  0.5085471014181773,\n",
       "  0.5050642172495524,\n",
       "  0.496607901652654,\n",
       "  0.49209440747896827,\n",
       "  0.4844736278057098],\n",
       " 'train_acc': [23.671875,\n",
       "  27.083333333333332,\n",
       "  29.205729166666668,\n",
       "  38.203125,\n",
       "  40.807291666666664,\n",
       "  48.02083333333333,\n",
       "  52.20052083333333,\n",
       "  55.96354166666667,\n",
       "  57.22656249999999,\n",
       "  58.033854166666664,\n",
       "  58.828125,\n",
       "  59.739583333333336,\n",
       "  60.52083333333333,\n",
       "  61.341145833333336,\n",
       "  62.65625,\n",
       "  62.98177083333333,\n",
       "  64.34895833333333,\n",
       "  65.29947916666667,\n",
       "  66.00260416666667,\n",
       "  67.09635416666667,\n",
       "  67.66927083333333,\n",
       "  68.34635416666667,\n",
       "  69.33593749999999,\n",
       "  69.6484375,\n",
       "  69.92187500000001,\n",
       "  70.75520833333331,\n",
       "  71.5625,\n",
       "  71.65364583333333,\n",
       "  72.25260416666666,\n",
       "  72.59114583333333,\n",
       "  72.92968750000001,\n",
       "  73.52864583333333,\n",
       "  73.47656249999999,\n",
       "  73.91927083333334,\n",
       "  74.53125000000001,\n",
       "  74.66145833333334,\n",
       "  74.67447916666666,\n",
       "  74.90885416666667,\n",
       "  75.390625,\n",
       "  75.41666666666667,\n",
       "  75.89843749999999,\n",
       "  76.06770833333333,\n",
       "  76.36718750000001,\n",
       "  76.69270833333336,\n",
       "  76.60156249999999,\n",
       "  76.90104166666667,\n",
       "  77.1875,\n",
       "  77.34375,\n",
       "  77.89062500000001,\n",
       "  77.86458333333333,\n",
       "  77.98177083333333,\n",
       "  78.32031249999999,\n",
       "  78.73697916666667,\n",
       "  78.59374999999999,\n",
       "  78.85416666666666,\n",
       "  78.99739583333334,\n",
       "  79.83072916666667,\n",
       "  79.81770833333333,\n",
       "  79.89583333333334,\n",
       "  80.07812500000001,\n",
       "  80.16927083333334,\n",
       "  80.48177083333333,\n",
       "  80.78124999999999,\n",
       "  80.71614583333333,\n",
       "  81.26302083333333,\n",
       "  81.67968750000001,\n",
       "  81.61458333333333,\n",
       "  81.7578125,\n",
       "  81.87499999999999,\n",
       "  81.90104166666666,\n",
       "  82.36979166666667,\n",
       "  82.74739583333331,\n",
       "  82.92968749999999,\n",
       "  83.09895833333333,\n",
       "  83.046875,\n",
       "  83.46354166666666,\n",
       "  83.85416666666667,\n",
       "  83.91927083333333,\n",
       "  83.98437499999999,\n",
       "  84.03645833333334,\n",
       "  84.40104166666667,\n",
       "  84.62239583333334],\n",
       " 'val_loss': [2.2941468556722007,\n",
       "  2.2031826972961426,\n",
       "  2.1640730698903403,\n",
       "  2.080089489618937,\n",
       "  1.9209178288777669,\n",
       "  1.7434579531351726,\n",
       "  1.6590429941813152,\n",
       "  1.5907117923100789,\n",
       "  1.5388100147247314,\n",
       "  1.5057705243428547,\n",
       "  1.4711943070093791,\n",
       "  1.4463011423746746,\n",
       "  1.439347743988037,\n",
       "  1.4116290012995403,\n",
       "  1.3848724762598674,\n",
       "  1.351871093114217,\n",
       "  1.3333966334660847,\n",
       "  1.2968440850575764,\n",
       "  1.2819708983103435,\n",
       "  1.240401268005371,\n",
       "  1.2250923713048298,\n",
       "  1.2027342716852825,\n",
       "  1.192394455273946,\n",
       "  1.1770106951395671,\n",
       "  1.1697304248809814,\n",
       "  1.1684833367665608,\n",
       "  1.1270057360331218,\n",
       "  1.116470495859782,\n",
       "  1.1222044626871746,\n",
       "  1.102547526359558,\n",
       "  1.0906385978062947,\n",
       "  1.092143177986145,\n",
       "  1.0988272825876872,\n",
       "  1.0755671461423237,\n",
       "  1.0658969084421794,\n",
       "  1.0569876829783122,\n",
       "  1.0730501413345337,\n",
       "  1.06015145778656,\n",
       "  1.0604577859242756,\n",
       "  1.0662401914596558,\n",
       "  1.064160664876302,\n",
       "  1.0468943516413372,\n",
       "  1.0348653594652812,\n",
       "  1.0292507608731587,\n",
       "  1.0218332211176555,\n",
       "  1.0221168796221416,\n",
       "  1.0502192775408428,\n",
       "  1.019181231657664,\n",
       "  1.022276798884074,\n",
       "  1.007240653038025,\n",
       "  1.026952823003133,\n",
       "  1.0062974492708843,\n",
       "  1.0101464192072551,\n",
       "  1.0179474353790283,\n",
       "  0.9937800168991089,\n",
       "  1.0029486219088237,\n",
       "  0.9977965354919434,\n",
       "  1.0039403637250264,\n",
       "  1.0075672467549641,\n",
       "  1.0233927567799885,\n",
       "  1.002232591311137,\n",
       "  0.9899790485699972,\n",
       "  0.9939115246136984,\n",
       "  0.9867205818494161,\n",
       "  1.0019646286964417,\n",
       "  1.0090186198552449,\n",
       "  1.0121209621429443,\n",
       "  1.0076925158500671,\n",
       "  1.002161681652069,\n",
       "  0.9887951612472534,\n",
       "  1.0070250630378723,\n",
       "  0.9835207263628641,\n",
       "  1.0136265556017559,\n",
       "  1.0162049531936646,\n",
       "  0.9984452923138937,\n",
       "  1.0084959864616394,\n",
       "  1.017244021097819,\n",
       "  1.0339492758115132,\n",
       "  1.0433433254559834,\n",
       "  1.0358987053235371,\n",
       "  1.0570435126622517,\n",
       "  1.0462886492411296],\n",
       " 'val_acc': [26.953125,\n",
       "  27.278645833333332,\n",
       "  35.286458333333336,\n",
       "  37.434895833333336,\n",
       "  42.903645833333336,\n",
       "  50.520833333333336,\n",
       "  52.669270833333336,\n",
       "  54.947916666666664,\n",
       "  56.119791666666664,\n",
       "  56.966145833333336,\n",
       "  57.942708333333336,\n",
       "  58.919270833333336,\n",
       "  58.333333333333336,\n",
       "  59.765625,\n",
       "  60.15625,\n",
       "  62.174479166666664,\n",
       "  61.848958333333336,\n",
       "  62.174479166666664,\n",
       "  62.955729166666664,\n",
       "  63.606770833333336,\n",
       "  64.453125,\n",
       "  66.2109375,\n",
       "  65.69010416666667,\n",
       "  66.40625,\n",
       "  66.6015625,\n",
       "  66.66666666666667,\n",
       "  68.48958333333333,\n",
       "  68.42447916666667,\n",
       "  68.1640625,\n",
       "  69.01041666666667,\n",
       "  69.40104166666667,\n",
       "  69.3359375,\n",
       "  68.1640625,\n",
       "  69.66145833333333,\n",
       "  70.5078125,\n",
       "  70.37760416666667,\n",
       "  69.59635416666667,\n",
       "  69.7265625,\n",
       "  70.05208333333333,\n",
       "  69.46614583333333,\n",
       "  69.20572916666667,\n",
       "  69.921875,\n",
       "  70.24739583333333,\n",
       "  70.18229166666667,\n",
       "  70.18229166666667,\n",
       "  70.3125,\n",
       "  69.46614583333333,\n",
       "  71.15885416666667,\n",
       "  70.1171875,\n",
       "  70.44270833333333,\n",
       "  70.8984375,\n",
       "  71.74479166666667,\n",
       "  71.02864583333333,\n",
       "  70.5078125,\n",
       "  71.74479166666667,\n",
       "  71.484375,\n",
       "  71.41927083333333,\n",
       "  70.96354166666667,\n",
       "  71.15885416666667,\n",
       "  70.57291666666667,\n",
       "  71.74479166666667,\n",
       "  72.0703125,\n",
       "  71.74479166666667,\n",
       "  72.59114583333333,\n",
       "  71.875,\n",
       "  71.484375,\n",
       "  71.09375,\n",
       "  72.0703125,\n",
       "  72.00520833333333,\n",
       "  72.39583333333333,\n",
       "  71.41927083333333,\n",
       "  72.65625,\n",
       "  73.17708333333333,\n",
       "  72.4609375,\n",
       "  73.11197916666667,\n",
       "  72.13541666666667,\n",
       "  71.54947916666667,\n",
       "  72.13541666666667,\n",
       "  72.0703125,\n",
       "  72.78645833333333,\n",
       "  72.33072916666667,\n",
       "  72.0703125],\n",
       " 'test_loss': 1.0493301153182983,\n",
       " 'test_acc': 71.15885416666667,\n",
       " 'model_filename': 'model.pth'}"
      ]
     },
     "execution_count": 42,
     "metadata": {},
     "output_type": "execute_result"
    }
   ],
   "source": [
    "train_state"
   ]
  },
  {
   "cell_type": "markdown",
   "id": "a501556c",
   "metadata": {},
   "source": [
    "### 추론"
   ]
  },
  {
   "cell_type": "code",
   "execution_count": 43,
   "id": "5da50566",
   "metadata": {},
   "outputs": [],
   "source": [
    "new_surname = \"Suzuki\""
   ]
  },
  {
   "cell_type": "code",
   "execution_count": 44,
   "id": "a4260192",
   "metadata": {},
   "outputs": [
    {
     "data": {
      "text/plain": [
       "tensor([[0., 0., 0.,  ..., 0., 0., 0.],\n",
       "        [0., 0., 0.,  ..., 0., 0., 0.],\n",
       "        [0., 0., 0.,  ..., 0., 0., 0.],\n",
       "        ...,\n",
       "        [0., 0., 0.,  ..., 0., 0., 0.],\n",
       "        [0., 0., 0.,  ..., 0., 0., 0.],\n",
       "        [0., 0., 0.,  ..., 0., 0., 0.]])"
      ]
     },
     "execution_count": 44,
     "metadata": {},
     "output_type": "execute_result"
    }
   ],
   "source": [
    "# 벡터화 + 텐서화\n",
    "\n",
    "vectorized_surname = torch.tensor(vectorize(charater_vocab,max_surname_length,new_surname))\n",
    "vectorized_surname"
   ]
  },
  {
   "cell_type": "code",
   "execution_count": 45,
   "id": "d7ac8fc7",
   "metadata": {},
   "outputs": [
    {
     "name": "stdout",
     "output_type": "stream",
     "text": [
      "torch.Size([85, 17])\n"
     ]
    }
   ],
   "source": [
    "print(vectorized_surname.shape)"
   ]
  },
  {
   "cell_type": "code",
   "execution_count": 46,
   "id": "4d3e581d",
   "metadata": {},
   "outputs": [
    {
     "name": "stdout",
     "output_type": "stream",
     "text": [
      "torch.Size([1, 1445])\n"
     ]
    }
   ],
   "source": [
    "# 이전에는 view(1,-1) 사용했으나 \n",
    "before = vectorized_surname.view(1, -1)\n",
    "print(before.shape)"
   ]
  },
  {
   "cell_type": "code",
   "execution_count": 47,
   "id": "cfaf2487",
   "metadata": {},
   "outputs": [
    {
     "name": "stdout",
     "output_type": "stream",
     "text": [
      "torch.Size([1, 85, 17])\n"
     ]
    },
    {
     "name": "stderr",
     "output_type": "stream",
     "text": [
      "/var/folders/bz/1fkmkxnn70gbzvvkys2cw_k40000gn/T/ipykernel_34776/2053227548.py:2: UserWarning: To copy construct from a tensor, it is recommended to use sourceTensor.clone().detach() or sourceTensor.clone().detach().requires_grad_(True), rather than torch.tensor(sourceTensor).\n",
      "  x_data = torch.tensor(vectorized_surname).unsqueeze(0)\n"
     ]
    }
   ],
   "source": [
    "# CNN에는 unsqueeze(0)을 통해서 차원을 하나 늘려준다. \n",
    "x_data = torch.tensor(vectorized_surname).unsqueeze(0)\n",
    "print(x_data.shape)"
   ]
  },
  {
   "cell_type": "code",
   "execution_count": 48,
   "id": "33855a0b",
   "metadata": {},
   "outputs": [
    {
     "name": "stdout",
     "output_type": "stream",
     "text": [
      "tensor([[2.7602e-10, 4.7359e-11, 4.9214e-02, 2.3482e-06, 3.8571e-07, 1.4107e-07,\n",
      "         1.0961e-06, 1.2776e-05, 3.8232e-07, 1.1281e-08, 9.4579e-01, 6.8485e-08,\n",
      "         3.2575e-03, 1.0687e-08, 1.7236e-03, 2.6550e-09, 7.6680e-07, 6.2029e-10]],\n",
      "       grad_fn=<SoftmaxBackward0>)\n"
     ]
    },
    {
     "name": "stderr",
     "output_type": "stream",
     "text": [
      "[W NNPACK.cpp:51] Could not initialize NNPACK! Reason: Unsupported hardware.\n"
     ]
    }
   ],
   "source": [
    "# 모델에 test 데이터 넣어주기\n",
    "result = classifier(x_data,apply_softmax=True)\n",
    "print(result)"
   ]
  },
  {
   "cell_type": "code",
   "execution_count": 49,
   "id": "071d7992",
   "metadata": {},
   "outputs": [
    {
     "data": {
      "text/plain": [
       "tensor(0.9458, grad_fn=<MaxBackward1>)"
      ]
     },
     "execution_count": 49,
     "metadata": {},
     "output_type": "execute_result"
    }
   ],
   "source": [
    "result.max()"
   ]
  },
  {
   "cell_type": "code",
   "execution_count": 50,
   "id": "3be11b38",
   "metadata": {},
   "outputs": [
    {
     "name": "stdout",
     "output_type": "stream",
     "text": [
      "probability_value tensor([0.9458], grad_fn=<MaxBackward0>)\n",
      "indices tensor([10])\n"
     ]
    }
   ],
   "source": [
    "probability_value, indices = result.max(dim=1)\n",
    "\n",
    "print(\"probability_value\",probability_value)\n",
    "print(\"indices\",indices)"
   ]
  },
  {
   "cell_type": "code",
   "execution_count": 51,
   "id": "a3a3b0bb",
   "metadata": {},
   "outputs": [
    {
     "name": "stdout",
     "output_type": "stream",
     "text": [
      "새로운 데이터에 대해 추론한 label 10\n"
     ]
    }
   ],
   "source": [
    "print(\"새로운 데이터에 대해 추론한 label\",indices.item())"
   ]
  },
  {
   "cell_type": "code",
   "execution_count": 52,
   "id": "f78ba3db",
   "metadata": {},
   "outputs": [
    {
     "data": {
      "text/plain": [
       "'Japanese'"
      ]
     },
     "execution_count": 52,
     "metadata": {},
     "output_type": "execute_result"
    }
   ],
   "source": [
    "prediction = lookup_index(nation_vocab,indices.item())\n",
    "prediction"
   ]
  },
  {
   "cell_type": "code",
   "execution_count": 53,
   "id": "e4dc3563",
   "metadata": {},
   "outputs": [
    {
     "name": "stdout",
     "output_type": "stream",
     "text": [
      "Suzuki -> Japanese\n"
     ]
    }
   ],
   "source": [
    "print(\"{} -> {}\".format(new_surname, prediction))"
   ]
  },
  {
   "cell_type": "code",
   "execution_count": null,
   "id": "fa48c364",
   "metadata": {},
   "outputs": [],
   "source": []
  },
  {
   "cell_type": "code",
   "execution_count": null,
   "id": "edd9d68b",
   "metadata": {},
   "outputs": [],
   "source": []
  }
 ],
 "metadata": {
  "kernelspec": {
   "display_name": "nlp",
   "language": "python",
   "name": "nlp"
  },
  "language_info": {
   "codemirror_mode": {
    "name": "ipython",
    "version": 3
   },
   "file_extension": ".py",
   "mimetype": "text/x-python",
   "name": "python",
   "nbconvert_exporter": "python",
   "pygments_lexer": "ipython3",
   "version": "3.8.17"
  }
 },
 "nbformat": 4,
 "nbformat_minor": 5
}
