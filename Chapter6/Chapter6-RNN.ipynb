{
 "cells": [
  {
   "cell_type": "markdown",
   "id": "6fbacd7c",
   "metadata": {},
   "source": [
    "## 엘만 RNN 구현해보기"
   ]
  },
  {
   "cell_type": "code",
   "execution_count": 1,
   "id": "07d8ec56",
   "metadata": {},
   "outputs": [],
   "source": [
    "import torch.nn as nn\n",
    "\n",
    "class ElmanRNN(nn.Module):\n",
    "    def __init__(self, input_size, hidden_size, batch_first=False):\n",
    "        \n",
    "        super(ElmanRNN,self).__init__()\n",
    "        \n",
    "#       RNN 셀을 정의\n",
    "        self.rnn_cell = nn.RNNCell(input_size, hidden_size)\n",
    "        \n",
    "        self.batch_first = batch_first\n",
    "        self.hidden_size = hidden_size\n",
    "        \n",
    "#       hidden state를 초기화\n",
    "#       batch_size * hidden_size 차원을 가진 torch tensor로 초기화 \n",
    "    def _initial_hidden(self, batch_size):\n",
    "        return torch.zeros((batch_size, self.hidden_size)) # 초기 initial_hidden\n",
    "    \n",
    "    def forward(self, x_in, initial_hidden=None):\n",
    "        \n",
    "#       batch_first 역할 : 신경망에 입력되는 텐서의 첫번째 차원값이 batch_size가 된다. \n",
    "        if self.batch_first: \n",
    "            batch_size, seq_size, feat_size = x_in.size()\n",
    "            x_in = x_in.permute(1,0,2) # 순서 바꿔주기 seq_size, batch_size, feat_size\n",
    "        else:\n",
    "            seq_size, batch_size, feat_size = x_in.size()\n",
    "            \n",
    "#       hidden state를 저장할 리스트       \n",
    "        hiddens=[]\n",
    "        \n",
    "        if initial_hidden is None:\n",
    "            initial_hidden = self._initial_hidden(batch_size)\n",
    "#             initial_hidden = initial_hidden.to(x_in.device)\n",
    "        hidden_t = initial_hidden\n",
    "        \n",
    "#       각 sequence 대해 순회\n",
    "        for t in range(seq_size):\n",
    "#       현재의 input과 hidden state를 RNN 셀에 전달하여 다음 숨겨진 상태를 계산\n",
    "            hidden_t = self.rnn_cell(x_in[t], hidden_t)\n",
    "            hiddens.append(hidden_t)\n",
    "            \n",
    "        hiddens = torch.stack(hiddens) # 리스트로부터 텐서를 생성\n",
    "        \n",
    "        if self.batch_first: # batch_size, seq_size, feat_size\n",
    "            hiddens = hiddens.permute(1,0,2) # 순서 바꿔주기 seq_size, batch_size, feat_size\n",
    "            \n",
    "        return hiddens # output으로 hidden state list를 다시 RNN으로 보내줌\n",
    "            "
   ]
  },
  {
   "cell_type": "markdown",
   "id": "e9ea6299",
   "metadata": {},
   "source": [
    "# 예제: RNN으로 성씨 국적 분류하기"
   ]
  },
  {
   "cell_type": "markdown",
   "id": "b2f3ad79",
   "metadata": {},
   "source": [
    "## 1. 데이터 로드"
   ]
  },
  {
   "cell_type": "code",
   "execution_count": 2,
   "id": "addc8199",
   "metadata": {},
   "outputs": [
    {
     "data": {
      "text/html": [
       "<div>\n",
       "<style scoped>\n",
       "    .dataframe tbody tr th:only-of-type {\n",
       "        vertical-align: middle;\n",
       "    }\n",
       "\n",
       "    .dataframe tbody tr th {\n",
       "        vertical-align: top;\n",
       "    }\n",
       "\n",
       "    .dataframe thead th {\n",
       "        text-align: right;\n",
       "    }\n",
       "</style>\n",
       "<table border=\"1\" class=\"dataframe\">\n",
       "  <thead>\n",
       "    <tr style=\"text-align: right;\">\n",
       "      <th></th>\n",
       "      <th>nationality</th>\n",
       "      <th>nationality_index</th>\n",
       "      <th>split</th>\n",
       "      <th>surname</th>\n",
       "    </tr>\n",
       "  </thead>\n",
       "  <tbody>\n",
       "    <tr>\n",
       "      <th>0</th>\n",
       "      <td>Arabic</td>\n",
       "      <td>15</td>\n",
       "      <td>train</td>\n",
       "      <td>Totah</td>\n",
       "    </tr>\n",
       "    <tr>\n",
       "      <th>1</th>\n",
       "      <td>Arabic</td>\n",
       "      <td>15</td>\n",
       "      <td>train</td>\n",
       "      <td>Abboud</td>\n",
       "    </tr>\n",
       "    <tr>\n",
       "      <th>2</th>\n",
       "      <td>Arabic</td>\n",
       "      <td>15</td>\n",
       "      <td>train</td>\n",
       "      <td>Fakhoury</td>\n",
       "    </tr>\n",
       "    <tr>\n",
       "      <th>3</th>\n",
       "      <td>Arabic</td>\n",
       "      <td>15</td>\n",
       "      <td>train</td>\n",
       "      <td>Srour</td>\n",
       "    </tr>\n",
       "    <tr>\n",
       "      <th>4</th>\n",
       "      <td>Arabic</td>\n",
       "      <td>15</td>\n",
       "      <td>train</td>\n",
       "      <td>Sayegh</td>\n",
       "    </tr>\n",
       "    <tr>\n",
       "      <th>...</th>\n",
       "      <td>...</td>\n",
       "      <td>...</td>\n",
       "      <td>...</td>\n",
       "      <td>...</td>\n",
       "    </tr>\n",
       "    <tr>\n",
       "      <th>10975</th>\n",
       "      <td>Vietnamese</td>\n",
       "      <td>11</td>\n",
       "      <td>test</td>\n",
       "      <td>Dinh</td>\n",
       "    </tr>\n",
       "    <tr>\n",
       "      <th>10976</th>\n",
       "      <td>Vietnamese</td>\n",
       "      <td>11</td>\n",
       "      <td>test</td>\n",
       "      <td>Phung</td>\n",
       "    </tr>\n",
       "    <tr>\n",
       "      <th>10977</th>\n",
       "      <td>Vietnamese</td>\n",
       "      <td>11</td>\n",
       "      <td>test</td>\n",
       "      <td>Quang</td>\n",
       "    </tr>\n",
       "    <tr>\n",
       "      <th>10978</th>\n",
       "      <td>Vietnamese</td>\n",
       "      <td>11</td>\n",
       "      <td>test</td>\n",
       "      <td>Vu</td>\n",
       "    </tr>\n",
       "    <tr>\n",
       "      <th>10979</th>\n",
       "      <td>Vietnamese</td>\n",
       "      <td>11</td>\n",
       "      <td>test</td>\n",
       "      <td>Ha</td>\n",
       "    </tr>\n",
       "  </tbody>\n",
       "</table>\n",
       "<p>10980 rows × 4 columns</p>\n",
       "</div>"
      ],
      "text/plain": [
       "      nationality  nationality_index  split   surname\n",
       "0          Arabic                 15  train     Totah\n",
       "1          Arabic                 15  train    Abboud\n",
       "2          Arabic                 15  train  Fakhoury\n",
       "3          Arabic                 15  train     Srour\n",
       "4          Arabic                 15  train    Sayegh\n",
       "...           ...                ...    ...       ...\n",
       "10975  Vietnamese                 11   test      Dinh\n",
       "10976  Vietnamese                 11   test     Phung\n",
       "10977  Vietnamese                 11   test     Quang\n",
       "10978  Vietnamese                 11   test        Vu\n",
       "10979  Vietnamese                 11   test        Ha\n",
       "\n",
       "[10980 rows x 4 columns]"
      ]
     },
     "execution_count": 2,
     "metadata": {},
     "output_type": "execute_result"
    }
   ],
   "source": [
    "import pandas as pd\n",
    "\n",
    "df = pd.read_csv(\"../../data/surnames_with_splits.csv\")\n",
    "df\n"
   ]
  },
  {
   "cell_type": "code",
   "execution_count": 3,
   "id": "efc84a0c",
   "metadata": {},
   "outputs": [
    {
     "data": {
      "text/plain": [
       "split\n",
       "train    7680\n",
       "test     1660\n",
       "val      1640\n",
       "Name: count, dtype: int64"
      ]
     },
     "execution_count": 3,
     "metadata": {},
     "output_type": "execute_result"
    }
   ],
   "source": [
    "df['split'].value_counts()"
   ]
  },
  {
   "cell_type": "markdown",
   "id": "511670de",
   "metadata": {},
   "source": [
    "### 데이터 split(train/valid/test)"
   ]
  },
  {
   "cell_type": "code",
   "execution_count": 4,
   "id": "3cfed999",
   "metadata": {},
   "outputs": [],
   "source": [
    "# 데이터를 다시 train/valid/test로 나눠줌\n",
    "\n",
    "# train 데이터 \n",
    "train_df = df[df.split=='train']\n",
    "train_size = len(train_df)\n",
    "\n",
    "# valid 데이터 \n",
    "val_df = df[df.split=='val']\n",
    "val_size = len(val_df)\n",
    "\n",
    "# test 데이터 \n",
    "test_df = df[df.split=='test']\n",
    "test_size = len(test_df)"
   ]
  },
  {
   "cell_type": "markdown",
   "id": "04e85389",
   "metadata": {},
   "source": [
    "## 2. Vocabulary"
   ]
  },
  {
   "cell_type": "code",
   "execution_count": 5,
   "id": "bd6972c1",
   "metadata": {},
   "outputs": [],
   "source": [
    "# 1. _token_to_idx 생성\n",
    "# 2. _idx_to_token 생성\n",
    "\n",
    "class Vocabulary(object):\n",
    "    \n",
    "    def __init__(self, token_to_idx=None):\n",
    "#         token_to_idx (dict): 기존 토큰-인덱스 매핑 딕셔너리\n",
    "        \n",
    "        if token_to_idx is None:\n",
    "            token_to_idx = {}\n",
    "        self._token_to_idx = token_to_idx\n",
    "\n",
    "        self._idx_to_token = {idx: token \n",
    "                              for token, idx in self._token_to_idx.items()}\n",
    "        \n",
    "    def add_token(self, token):\n",
    "\n",
    "        if token in self._token_to_idx:\n",
    "            index = self._token_to_idx[token]\n",
    "        else:\n",
    "            index = len(self._token_to_idx)\n",
    "            self._token_to_idx[token] = index\n",
    "            self._idx_to_token[index] = token\n",
    "            \n",
    "        return index"
   ]
  },
  {
   "cell_type": "code",
   "execution_count": 6,
   "id": "4529a2b3",
   "metadata": {},
   "outputs": [],
   "source": [
    "class SequenceVocabulary(Vocabulary):        \n",
    "    def __init__(self, token_to_idx=None,\n",
    "                 unk_token=\"<UNK>\",\n",
    "                  mask_token=\"<MASK>\", \n",
    "                  begin_seq_token=\"<BEGIN>\",\n",
    "                  end_seq_token=\"<END>\"):\n",
    "        \n",
    "        super(SequenceVocabulary, self).__init__(token_to_idx) #부모 클래스의 생성자를 호출\n",
    "        \n",
    "#       여러 토큰 추가\n",
    "        self._mask_token = mask_token\n",
    "        self._unk_token = unk_token\n",
    "        self._begin_seq_token = begin_seq_token\n",
    "        self._end_seq_token = end_seq_token\n",
    "\n",
    "        self.mask_index = self.add_token(self._mask_token)\n",
    "        self.unk_index = self.add_token(self._unk_token)\n",
    "        self.begin_seq_index = self.add_token(self._begin_seq_token)\n",
    "        self.end_seq_index = self.add_token(self._end_seq_token)\n",
    "\n",
    "#         def add_token(self, token): -> 부모꺼 사용"
   ]
  },
  {
   "cell_type": "code",
   "execution_count": 7,
   "id": "a922bbd7",
   "metadata": {},
   "outputs": [],
   "source": [
    "char_vocab = SequenceVocabulary() \n",
    "nationality_vocab = Vocabulary() # label은 위와 달리 기본 Vocabulary 사용 (중요)\n",
    "\n",
    "\n",
    "# vocabulary에 추가\n",
    "for index, row in df.iterrows():\n",
    "    for char in row.surname:\n",
    "        char_vocab.add_token(char)\n",
    "    nationality_vocab.add_token(row.nationality)\n"
   ]
  },
  {
   "cell_type": "markdown",
   "id": "e7aa7b21",
   "metadata": {},
   "source": [
    "### char vocab"
   ]
  },
  {
   "cell_type": "code",
   "execution_count": 54,
   "id": "77ad0150",
   "metadata": {},
   "outputs": [
    {
     "name": "stdout",
     "output_type": "stream",
     "text": [
      "88\n"
     ]
    }
   ],
   "source": [
    "print(len(char_vocab._token_to_idx))"
   ]
  },
  {
   "cell_type": "code",
   "execution_count": 8,
   "id": "90c3f997",
   "metadata": {},
   "outputs": [
    {
     "name": "stdout",
     "output_type": "stream",
     "text": [
      "{'<MASK>': 0, '<UNK>': 1, '<BEGIN>': 2, '<END>': 3, 'T': 4, 'o': 5, 't': 6, 'a': 7, 'h': 8, 'A': 9}\n"
     ]
    }
   ],
   "source": [
    "print(dict(list(char_vocab._token_to_idx.items())[:10]))"
   ]
  },
  {
   "cell_type": "code",
   "execution_count": 9,
   "id": "18acf4ca",
   "metadata": {
    "scrolled": true
   },
   "outputs": [
    {
     "name": "stdout",
     "output_type": "stream",
     "text": [
      "{0: '<MASK>', 1: '<UNK>', 2: '<BEGIN>', 3: '<END>', 4: 'T', 5: 'o', 6: 't', 7: 'a', 8: 'h', 9: 'A'}\n"
     ]
    }
   ],
   "source": [
    "print(dict(list(char_vocab._idx_to_token.items())[:10]))"
   ]
  },
  {
   "cell_type": "markdown",
   "id": "45e0782c",
   "metadata": {},
   "source": [
    "### nationality vocab"
   ]
  },
  {
   "cell_type": "code",
   "execution_count": 55,
   "id": "e1ca1cc9",
   "metadata": {},
   "outputs": [
    {
     "name": "stdout",
     "output_type": "stream",
     "text": [
      "18\n"
     ]
    }
   ],
   "source": [
    "print(len(nationality_vocab._token_to_idx))"
   ]
  },
  {
   "cell_type": "code",
   "execution_count": 10,
   "id": "f57abb19",
   "metadata": {},
   "outputs": [
    {
     "name": "stdout",
     "output_type": "stream",
     "text": [
      "{'Arabic': 0, 'Chinese': 1, 'Czech': 2, 'Dutch': 3, 'English': 4, 'French': 5, 'German': 6, 'Greek': 7, 'Irish': 8, 'Italian': 9}\n"
     ]
    }
   ],
   "source": [
    "print(dict(list(nationality_vocab._token_to_idx.items())[:10]))"
   ]
  },
  {
   "cell_type": "code",
   "execution_count": 11,
   "id": "d7ae62fa",
   "metadata": {
    "scrolled": true
   },
   "outputs": [
    {
     "name": "stdout",
     "output_type": "stream",
     "text": [
      "{0: 'Arabic', 1: 'Chinese', 2: 'Czech', 3: 'Dutch', 4: 'English', 5: 'French', 6: 'German', 7: 'Greek', 8: 'Irish', 9: 'Italian'}\n"
     ]
    }
   ],
   "source": [
    "print(dict(list(nationality_vocab._idx_to_token.items())[:10]))"
   ]
  },
  {
   "cell_type": "markdown",
   "id": "1ada30ee",
   "metadata": {},
   "source": [
    "## 3. vectorize"
   ]
  },
  {
   "cell_type": "code",
   "execution_count": 12,
   "id": "051abc53",
   "metadata": {},
   "outputs": [],
   "source": [
    "# 주어진 토큰에 대응하는 인덱스 반환\n",
    "\n",
    "def lookup_token(voca, token):\n",
    "        return voca._token_to_idx[token]"
   ]
  },
  {
   "cell_type": "code",
   "execution_count": 13,
   "id": "03d01639",
   "metadata": {},
   "outputs": [],
   "source": [
    "# 주어진 인덱스에 대응하는 토큰 반환\n",
    "def lookup_index(voca, index):\n",
    "        if index not in voca._idx_to_token:\n",
    "            raise KeyError(\"the index (%d) is not in the Vocabulary\" % index)\n",
    "        return voca._idx_to_token[index]"
   ]
  },
  {
   "cell_type": "markdown",
   "id": "d43edcd5",
   "metadata": {},
   "source": [
    "### 텍스트(surname)에 대한 원 핫 인코딩"
   ]
  },
  {
   "cell_type": "code",
   "execution_count": 14,
   "id": "b267e18c",
   "metadata": {},
   "outputs": [
    {
     "name": "stdout",
     "output_type": "stream",
     "text": [
      "2로 시작, 3으로 끝나는 토큰 생성\n",
      "(array([ 2, 43,  8,  5, 23, 19,  5, 11, 25,  3,  0,  0,  0,  0,  0,  0,  0,\n",
      "        0,  0,  0]), 10)\n"
     ]
    }
   ],
   "source": [
    "import numpy as np\n",
    "def vectorize(surname, vector_length=-1):\n",
    "        \"\"\"\n",
    "        매개변수:\n",
    "            title (str): 문자열\n",
    "            vector_length (int): 인덱스 벡터의 길이를 맞추기 위한 매개변수\n",
    "        \"\"\"\n",
    "#       begin 토큰 추가\n",
    "        indices = [char_vocab.begin_seq_index]\n",
    "    \n",
    "#       char에 대한 인덱스 추가\n",
    "        indices.extend(lookup_token(char_vocab,token) \n",
    "                       for token in surname)\n",
    "#       end 토큰 추가\n",
    "        indices.append(char_vocab.end_seq_index)\n",
    "\n",
    "        if vector_length < 0:\n",
    "            vector_length = len(indices)\n",
    "\n",
    "        out_vector = np.zeros(vector_length, dtype=np.int64)         \n",
    "        out_vector[:len(indices)] = indices\n",
    "#       문장 길이가 작아서 padding 진행하면 해당 부분 mask 처리\n",
    "        out_vector[len(indices):] = char_vocab.mask_index\n",
    "        \n",
    "        return out_vector, len(indices)\n",
    "\n",
    "print(\"2로 시작, 3으로 끝나는 토큰 생성\")\n",
    "print(vectorize(\"choigoun\",vector_length=20))"
   ]
  },
  {
   "cell_type": "markdown",
   "id": "d89ded0e",
   "metadata": {},
   "source": [
    "## 4. Dataset class"
   ]
  },
  {
   "cell_type": "code",
   "execution_count": 15,
   "id": "e3696d00",
   "metadata": {},
   "outputs": [],
   "source": [
    "import torch\n",
    "from torch.utils.data import Dataset\n",
    "\n",
    "class SurnameDataset(Dataset):\n",
    "    def __init__(self, surname_df):\n",
    "        \n",
    "        self.surname_df = surname_df\n",
    "#       max 시퀀스 길이 구해주기 (padding)\n",
    "        self.max_seq_length = max(map(len, surname_df.surname))+2 #시작 및 끝 토큰 고려\n",
    "\n",
    "    def __len__(self):\n",
    "        return len(self.surname_df)\n",
    "\n",
    "    def __getitem__(self, index):\n",
    "        \n",
    "        row = self.surname_df.iloc[index]\n",
    "        \n",
    "        surname_vector, vec_length = vectorize(row.surname, self.max_seq_length)\n",
    "        nationality_index = lookup_token(nationality_vocab,row.nationality)\n",
    "\n",
    "        return {'x_data': surname_vector,\n",
    "                'y_target': nationality_index,\n",
    "                'x_length': vec_length} # vec_length 추가로 return\n",
    "    "
   ]
  },
  {
   "cell_type": "code",
   "execution_count": 16,
   "id": "d59f3248",
   "metadata": {},
   "outputs": [
    {
     "data": {
      "text/plain": [
       "<__main__.SurnameDataset at 0x7fcdf29b6040>"
      ]
     },
     "execution_count": 16,
     "metadata": {},
     "output_type": "execute_result"
    }
   ],
   "source": [
    "# 데이터셋을 인스턴스화 해주어야 로더에 넣어줄 수 있다. \n",
    "\n",
    "train_dataset = SurnameDataset(train_df)\n",
    "train_dataset\n",
    "\n",
    "valid_dataset = SurnameDataset(val_df)\n",
    "valid_dataset\n",
    "\n",
    "test_dataset = SurnameDataset(test_df)\n",
    "test_dataset\n"
   ]
  },
  {
   "cell_type": "code",
   "execution_count": 56,
   "id": "d34b6b18",
   "metadata": {},
   "outputs": [
    {
     "data": {
      "text/plain": [
       "19"
      ]
     },
     "execution_count": 56,
     "metadata": {},
     "output_type": "execute_result"
    }
   ],
   "source": [
    "train_dataset.max_seq_length"
   ]
  },
  {
   "cell_type": "code",
   "execution_count": 17,
   "id": "75d00c33",
   "metadata": {},
   "outputs": [],
   "source": [
    "# 데이터 로더 설정\n",
    "from torch.utils.data import DataLoader\n",
    "\n",
    "# drop_last=True -> 배치 사이즈보다 over하면 drop\n",
    "\n",
    "Traindataloader = DataLoader(dataset=train_dataset, batch_size=512,\n",
    "                            shuffle=True, drop_last=True)\n",
    "\n",
    "Validdataloader = DataLoader(dataset=valid_dataset, batch_size=512,\n",
    "                            shuffle=False, drop_last=True)\n",
    "\n",
    "Testdataloader = DataLoader(dataset=test_dataset, batch_size=512,\n",
    "                            shuffle=False, drop_last=True)\n"
   ]
  },
  {
   "cell_type": "code",
   "execution_count": 18,
   "id": "0c3cba90",
   "metadata": {},
   "outputs": [
    {
     "name": "stdout",
     "output_type": "stream",
     "text": [
      "7680 15\n"
     ]
    }
   ],
   "source": [
    "print(len(train_dataset),len(Traindataloader))"
   ]
  },
  {
   "cell_type": "code",
   "execution_count": 53,
   "id": "c17eeae6",
   "metadata": {},
   "outputs": [
    {
     "name": "stdout",
     "output_type": "stream",
     "text": [
      "3\n",
      "{'x_data': tensor([[ 2,  9, 36,  ...,  0,  0,  0],\n",
      "        [ 2, 44,  7,  ...,  0,  0,  0],\n",
      "        [ 2,  4, 27,  ...,  0,  0,  0],\n",
      "        ...,\n",
      "        [ 2, 29,  5,  ...,  0,  0,  0],\n",
      "        [ 2, 30, 23,  ...,  0,  0,  0],\n",
      "        [ 2, 24,  5,  ...,  0,  0,  0]]), 'y_target': tensor([ 0, 14, 14,  0,  4,  4, 12,  4,  7,  0,  0, 12,  0, 14, 14,  9,  4, 14,\n",
      "        12,  4,  6,  4,  4, 14,  6, 14,  4,  5, 16,  4,  4, 14, 14,  4,  0, 14,\n",
      "         4,  0, 14,  5,  9,  0, 10, 14,  9,  0,  0, 14,  9,  4, 14, 16,  6,  4,\n",
      "         6, 14,  5,  4,  4,  1, 14,  0,  4,  4,  9,  0,  3,  7,  4,  4, 10,  9,\n",
      "        14, 10,  0,  0, 14,  6,  9,  4,  0,  0, 10, 14,  4,  5, 10,  4, 14,  4,\n",
      "         2,  0, 14, 10,  4,  9,  4,  9, 10, 14, 14, 10, 14, 16,  0,  8,  7,  1,\n",
      "         5,  4,  4,  9, 16,  4,  8,  0,  0,  9,  9,  4, 14,  0, 14, 14,  7,  5,\n",
      "        14, 10,  0,  7,  4,  4,  4,  0,  0,  9, 10,  8, 10, 14,  0,  9, 14, 14,\n",
      "         0,  4, 14, 14, 14,  4,  5,  0,  4,  0, 14, 14, 14,  5,  4,  4, 12,  9,\n",
      "         4,  4,  9, 11,  0, 10, 10,  4, 14, 14, 14,  4,  0,  4,  4,  4,  0,  6,\n",
      "         4,  0, 14, 11, 12,  0,  0,  0,  2, 14, 14, 14,  0,  3, 14,  2,  4,  4,\n",
      "        10,  3,  0,  0, 14, 14,  4,  0,  4,  4,  0, 14, 14,  2, 10,  0, 11, 10,\n",
      "        10,  4, 11,  9, 14,  4, 11,  0, 14,  4,  8, 14,  4,  4,  4,  9,  4,  4,\n",
      "         3,  2, 16,  4,  4,  9,  9,  0,  4,  2,  0, 14, 14,  0, 14,  0, 14,  3,\n",
      "         6,  4, 14,  7,  4,  1,  7,  4, 14,  4, 10, 14,  0,  4,  4,  4, 17,  2,\n",
      "         0, 10, 10,  4,  0,  4, 14,  0, 14,  0, 13,  4, 15,  9, 14, 16, 14, 11,\n",
      "         9, 10,  0, 14, 14,  0,  6,  3,  4,  4,  4,  4,  4,  4,  9, 14,  4,  2,\n",
      "         4,  9, 14, 14,  2, 14,  4,  4,  4,  1, 17,  4,  4,  4,  0,  4,  3,  0,\n",
      "        14,  0,  4,  4,  4,  4,  4,  2,  4,  4,  4, 14,  4,  6, 17,  4, 10,  4,\n",
      "         4,  0, 14, 10,  0, 14,  4,  8, 10,  7,  4,  9, 13, 14, 14,  1, 10,  4,\n",
      "         4,  1,  4,  4,  4, 12,  9,  2,  0,  7,  4, 10, 14,  4, 14,  3, 14,  9,\n",
      "         4, 14, 14, 13,  9,  4,  9,  5,  0,  9, 14,  0, 14, 14,  4,  0, 14, 10,\n",
      "         2,  1, 14,  4,  4,  4,  9,  4, 14, 14,  8, 14, 10, 14, 11, 17,  4,  8,\n",
      "         0,  4, 14, 10,  2,  4,  4,  4, 14, 14,  4,  0,  1,  4, 15,  6, 14,  2,\n",
      "         4, 14,  9,  0,  4,  4,  4,  0,  2,  2, 14, 14,  0,  4, 10,  0, 14,  6,\n",
      "         4,  4,  0,  0,  0,  4,  9,  4,  4,  4, 14, 16,  2,  4,  4,  0,  4,  4,\n",
      "         4, 10,  4,  4,  4,  4, 10,  4,  4, 17,  4,  6, 14,  4,  0,  2,  4,  2,\n",
      "         0,  0, 14, 10, 14, 14,  2, 14,  4,  5, 14, 14,  6,  0, 14, 14,  6,  4,\n",
      "         4, 14, 14,  6, 11, 12, 10, 12]), 'x_length': tensor([ 6,  7, 10,  9, 10,  7,  9,  6,  8,  9,  9,  8,  8,  9, 10,  9, 11,  8,\n",
      "         5,  8, 10, 10,  8, 10,  6, 10,  7,  6,  6,  8,  9,  5,  8,  8,  7,  8,\n",
      "        11,  7, 11,  9,  6,  7,  9,  9,  7,  8,  7,  8,  8,  6, 10,  8, 10,  8,\n",
      "         8, 10, 11, 11,  6,  5, 10,  6,  6,  8,  9,  8,  7, 13,  9,  7,  8, 10,\n",
      "        10,  8,  6, 10, 10, 10, 10,  8, 10,  6, 11,  7,  8,  9,  8,  9, 10, 10,\n",
      "         7,  8, 13,  6, 10, 11,  9,  8,  8, 10,  8,  9,  8,  9,  9, 13, 17,  5,\n",
      "        11,  7, 10, 10,  9,  8,  9,  7,  7,  4,  6,  8, 12,  9, 12,  9, 14,  8,\n",
      "         9, 10,  8, 16,  8,  7,  9,  8,  6,  8,  8,  8, 10,  9,  6,  9, 10, 14,\n",
      "         7, 11,  5, 10,  8,  9, 10,  8,  9,  9, 12, 15, 10,  7,  7,  8,  7, 10,\n",
      "         8,  9, 10,  4,  7,  8, 10,  9, 14,  9, 11,  7,  5,  7,  9, 11,  8,  8,\n",
      "        10,  8,  9,  5, 11,  7,  8,  7, 10, 11,  9, 13,  8,  8, 11,  7,  9,  7,\n",
      "         7, 10,  8,  8, 10,  8,  7,  6, 11,  9,  6, 12,  7,  8,  9,  8,  5,  6,\n",
      "         7,  6,  6, 11, 10,  9,  5,  6,  9,  7, 10, 11,  7,  7, 11,  7,  9,  9,\n",
      "         8,  8,  8,  8, 12,  8,  6,  8, 12,  5,  8,  9, 12,  5,  8,  7,  9,  9,\n",
      "         9,  9, 11,  8, 10,  6, 11,  9, 11, 11, 10, 11,  7,  9,  7,  6,  5,  6,\n",
      "         8,  7,  6,  8,  6,  7,  9,  6,  8,  8,  9,  7,  6, 12, 12,  8, 11,  4,\n",
      "         6, 12,  7, 12,  9,  8, 12, 13,  9,  7, 11, 10,  8,  8,  9, 12,  5,  7,\n",
      "         9, 10, 12, 10,  9, 10,  8,  8,  7,  5,  8, 10,  9,  9,  9,  6, 16, 10,\n",
      "         7,  8, 10,  7,  7,  7,  7,  8, 13,  6,  8, 10,  9,  8,  5,  7,  8,  9,\n",
      "         8,  8, 12, 11,  6, 10,  8, 10,  5,  9,  8,  8,  9,  9,  6,  7, 12,  7,\n",
      "         9,  5,  7, 14,  9,  8, 10,  8,  7,  9,  6, 11,  9,  9, 13,  6,  9, 13,\n",
      "         8, 10,  7,  8, 12,  9,  9,  8,  6, 12,  9,  6,  8,  5, 11,  6, 12,  9,\n",
      "         9,  6, 10,  8,  7, 10,  9,  6, 13,  8,  8, 11,  5,  9,  6,  6,  8,  8,\n",
      "         7,  9, 14,  7, 11,  8,  7,  8,  6, 12, 10,  7,  6,  9,  7, 13, 10,  9,\n",
      "         8, 15,  7,  9,  9,  7,  9,  7,  8,  9,  9, 11,  9, 11, 10,  8, 12,  9,\n",
      "        10,  8,  9,  7,  8, 10, 10,  7,  8,  8, 12,  8,  9, 10,  8,  7, 10,  8,\n",
      "         8,  6,  6,  8,  9,  7, 13, 10,  8,  7,  9,  9,  9, 11,  7, 11, 10,  7,\n",
      "         8,  8, 12,  9, 10, 11, 14, 10,  6, 12, 12,  7, 13,  7, 10, 13,  8,  9,\n",
      "        10,  9,  7,  9,  6,  9,  9,  8])}\n"
     ]
    }
   ],
   "source": [
    "for batch_index, batch_dict in enumerate(Traindataloader):\n",
    "#     print(batch_index)\n",
    "    print(len(batch_dict))     # x_in.size()\n",
    "    print(batch_dict)\n",
    "\n",
    "\n",
    "    break\n",
    "    "
   ]
  },
  {
   "cell_type": "markdown",
   "id": "5f714900",
   "metadata": {},
   "source": [
    "## 5. 모델 정의 및 옵티마이저, loss func 설정"
   ]
  },
  {
   "cell_type": "code",
   "execution_count": 20,
   "id": "b97df797",
   "metadata": {},
   "outputs": [],
   "source": [
    "# 사전 정의 함수\n",
    "# 주어진 배치의 각 데이터 포인트에 대해 시퀀스의 마지막 벡터를 추출\n",
    "# => y_out에 있는 각 데이터 포인트에서 마지막 벡터 추출\n",
    "def column_gather(y_out, x_lengths):\n",
    "    \n",
    "#     x_lengths = x_lengths.long().detach().cpu().numpy() - 1\n",
    "    x_lengths = x_lengths-1\n",
    "    out = []\n",
    "    for batch_index, length in enumerate(x_lengths):\n",
    "        out.append(y_out[batch_index, length])\n",
    "\n",
    "    return torch.stack(out)"
   ]
  },
  {
   "cell_type": "markdown",
   "id": "1ef631a7",
   "metadata": {},
   "source": [
    "### column_gather 출력예시"
   ]
  },
  {
   "cell_type": "code",
   "execution_count": 21,
   "id": "a9d49655",
   "metadata": {},
   "outputs": [
    {
     "name": "stdout",
     "output_type": "stream",
     "text": [
      "tensor([[ 7,  8,  9],\n",
      "        [16, 17, 18]])\n"
     ]
    }
   ],
   "source": [
    "import torch\n",
    "\n",
    "# 가상의 입력 데이터\n",
    "y_out = torch.tensor([\n",
    "    [[1, 2, 3], [4, 5, 6], [7, 8, 9]],  # 첫 번째 시퀀스: 길이 3\n",
    "    [[10, 11, 12], [13, 14, 15], [16, 17, 18]],  # 두 번째 시퀀스: 길이 3 (길이를 맞춤)\n",
    "])\n",
    "\n",
    "x_lengths = torch.tensor([3, 3])  # 각 시퀀스의 길이 (동일하게 맞춤)\n",
    "# column_gather 함수 호출\n",
    "result = column_gather(y_out, x_lengths)\n",
    "print(result)"
   ]
  },
  {
   "cell_type": "code",
   "execution_count": null,
   "id": "7633d951",
   "metadata": {},
   "outputs": [],
   "source": []
  },
  {
   "cell_type": "code",
   "execution_count": 22,
   "id": "ec6f205c",
   "metadata": {},
   "outputs": [],
   "source": [
    "import torch.nn as nn\n",
    "\n",
    "class ElmanRNN(nn.Module):\n",
    "    def __init__(self, input_size, hidden_size, batch_first=False):\n",
    "        \n",
    "        super(ElmanRNN,self).__init__()\n",
    "        \n",
    "#       RNN 셀을 정의\n",
    "        self.rnn_cell = nn.RNNCell(input_size, hidden_size)\n",
    "        \n",
    "        self.batch_first = batch_first\n",
    "        self.hidden_size = hidden_size\n",
    "        \n",
    "#       hidden state를 초기화\n",
    "#       batch_size * hidden_size 차원을 가진 torch tensor로 초기화 \n",
    "    def _initial_hidden(self, batch_size):\n",
    "        return torch.zeros((batch_size, self.hidden_size)) # 초기 initial_hidden\n",
    "    \n",
    "    def forward(self, x_in, initial_hidden=None):\n",
    "        \n",
    "#       batch_first 역할 : 신경망에 입력되는 텐서의 첫번째 차원값이 batch_size가 된다. \n",
    "        if self.batch_first: \n",
    "            batch_size, seq_size, feat_size = x_in.size()\n",
    "            x_in = x_in.permute(1,0,2) # 순서 바꿔주기 seq_size, batch_size, feat_size\n",
    "        else:\n",
    "            seq_size, batch_size, feat_size = x_in.size()\n",
    "            \n",
    "#       hidden state를 저장할 리스트       \n",
    "        hiddens=[]\n",
    "        \n",
    "        if initial_hidden is None:\n",
    "            initial_hidden = self._initial_hidden(batch_size)\n",
    "#             initial_hidden =. initial_hidden.to(x_in.device)\n",
    "        hidden_t = initial_hidden\n",
    "        \n",
    "#       각 sequence 대해 순회\n",
    "        for t in range(seq_size):\n",
    "#       현재의 input과 hidden state를 RNN 셀에 전달하여 다음 숨겨진 상태를 계산\n",
    "            hidden_t = self.rnn_cell(x_in[t], hidden_t)\n",
    "            hiddens.append(hidden_t)\n",
    "            \n",
    "        hiddens = torch.stack(hiddens) # 리스트로부터 텐서를 생성\n",
    "        \n",
    "        if self.batch_first: # batch_size, seq_size, feat_size\n",
    "            hiddens = hiddens.permute(1,0,2) # 순서 바꿔주기 seq_size, batch_size, feat_size\n",
    "            \n",
    "        return hiddens \n",
    "            "
   ]
  },
  {
   "cell_type": "code",
   "execution_count": 57,
   "id": "55d1f467",
   "metadata": {},
   "outputs": [],
   "source": [
    "# RNN으로 특성 추출 -> MLP로 분류 모델(Transfer Learning)\n",
    "import torch.nn.functional as F \n",
    "class SurnameClassifier(nn.Module):\n",
    "    def __init__(self, embedding_size, num_embeddings, num_classes,\n",
    "                rnn_hidden_size, batch_first=True, padding_idx=0):\n",
    "        \n",
    "        super(SurnameClassifier, self).__init__()\n",
    "        \n",
    "        self.emb = nn.Embedding(num_embeddings = num_embeddings,\n",
    "                               embedding_dim = embedding_size,\n",
    "                               padding_idx = padding_idx)\n",
    "        self.rnn = ElmanRNN(input_size = embedding_size, # 100\n",
    "                           hidden_size = rnn_hidden_size, # 64 * \n",
    "                           batch_first = batch_first)\n",
    "        self.fc1 = nn.Linear(in_features = rnn_hidden_size,\n",
    "                            out_features = rnn_hidden_size)\n",
    "        self.fc2 = nn.Linear(in_features = rnn_hidden_size,\n",
    "                            out_features = num_classes)\n",
    "        \n",
    "    def forward(self, x_in, x_lengths=None, apply_softmax=False):\n",
    "#         x_lengths, 각 시퀀스의 길이 (시퀀스의 마지막 벡터를 찾는데 사용)\n",
    "        \n",
    "        x_embedded = self.emb(x_in) # 19(max length) * 512(input)\n",
    "#         x_embedded -> 512 * 100\n",
    "        y_out = self.rnn(x_embedded) \n",
    "#         y_out -> batch_size * seq_size * hidden_size\n",
    "#                  \n",
    "        if x_lengths is not None:\n",
    "            y_out = column_gather(y_out, x_lengths)\n",
    "        else:\n",
    "            y_out = y_out[:, -1, :] # 각 데이터 포인트의 마지막 시간 스텝에 해당하는 벡터를 추출\n",
    "\n",
    "#       y_out -> batch_size * hidden_size # seq_size에서 마지막 요소만 들고올 것이다. -> y_out[:, -1, :]\n",
    "        y_out = F.relu(self.fc1(F.dropout(y_out, 0.5)))\n",
    "#       batch_size * hidden_size(64)\n",
    "        y_out = self.fc2(F.dropout(y_out, 0.5))\n",
    "#       batch_size * hidden_size(18)\n",
    "        if apply_softmax:\n",
    "            y_out = F.softmax(y_out, dim=1)\n",
    "            # batch_size * output_dim(18), 활성화 함수는 차원을 건들이지 않는다 !⭐️\n",
    "        return y_out # tensor.shape는 (batch, output_dim) \n",
    "    "
   ]
  },
  {
   "cell_type": "code",
   "execution_count": 24,
   "id": "7515a35d",
   "metadata": {},
   "outputs": [
    {
     "data": {
      "text/plain": [
       "SurnameClassifier(\n",
       "  (emb): Embedding(88, 100, padding_idx=0)\n",
       "  (rnn): ElmanRNN(\n",
       "    (rnn_cell): RNNCell(100, 64)\n",
       "  )\n",
       "  (fc1): Linear(in_features=64, out_features=64, bias=True)\n",
       "  (fc2): Linear(in_features=64, out_features=18, bias=True)\n",
       ")"
      ]
     },
     "execution_count": 24,
     "metadata": {},
     "output_type": "execute_result"
    }
   ],
   "source": [
    "char_embedding_size = 100\n",
    "rnn_hidden_size = 64\n",
    "\n",
    "classifier = SurnameClassifier(embedding_size=char_embedding_size, \n",
    "                               num_embeddings=len(char_vocab._token_to_idx),\n",
    "                               num_classes=len(nationality_vocab._token_to_idx),\n",
    "                               rnn_hidden_size=rnn_hidden_size,\n",
    "                               padding_idx=char_vocab.mask_index)\n",
    "\n",
    "classifier"
   ]
  },
  {
   "cell_type": "markdown",
   "id": "98b90ffa",
   "metadata": {},
   "source": [
    "### 옵티마이저, loss function"
   ]
  },
  {
   "cell_type": "code",
   "execution_count": 25,
   "id": "149ef414",
   "metadata": {},
   "outputs": [],
   "source": [
    "lr = 0.001\n",
    "num_epochs = 100"
   ]
  },
  {
   "cell_type": "code",
   "execution_count": 26,
   "id": "a1bbbc95",
   "metadata": {},
   "outputs": [
    {
     "data": {
      "text/plain": [
       "Adam (\n",
       "Parameter Group 0\n",
       "    amsgrad: False\n",
       "    betas: (0.9, 0.999)\n",
       "    capturable: False\n",
       "    eps: 1e-08\n",
       "    foreach: None\n",
       "    lr: 0.001\n",
       "    maximize: False\n",
       "    weight_decay: 0\n",
       ")"
      ]
     },
     "execution_count": 26,
     "metadata": {},
     "output_type": "execute_result"
    }
   ],
   "source": [
    "# 옵티마이저\n",
    "import torch.optim as optim\n",
    "\n",
    "optimizer = optim.Adam(classifier.parameters(), lr = lr)\n",
    "optimizer\n"
   ]
  },
  {
   "cell_type": "code",
   "execution_count": 27,
   "id": "9a8d9ffa",
   "metadata": {},
   "outputs": [
    {
     "data": {
      "text/plain": [
       "CrossEntropyLoss()"
      ]
     },
     "execution_count": 27,
     "metadata": {},
     "output_type": "execute_result"
    }
   ],
   "source": [
    "loss_func = nn.CrossEntropyLoss()\n",
    "loss_func"
   ]
  },
  {
   "cell_type": "markdown",
   "id": "7f0e6914",
   "metadata": {},
   "source": [
    "## Train"
   ]
  },
  {
   "cell_type": "code",
   "execution_count": 28,
   "id": "0cd84d8e",
   "metadata": {},
   "outputs": [],
   "source": [
    "def compute_accuracy(y_pred, y_target):\n",
    "#      예측값과 타겟값을 비교하여 일치하는 개수를 계산\n",
    "    _, y_pred_indices = y_pred.max(dim=1)\n",
    "    n_correct = torch.eq(y_pred_indices, y_target).sum().item()\n",
    "    return n_correct / len(y_pred_indices) * 100\n",
    "   "
   ]
  },
  {
   "cell_type": "code",
   "execution_count": 29,
   "id": "34716371",
   "metadata": {},
   "outputs": [],
   "source": [
    "# Train state 초기화 \n",
    "def make_train_state():\n",
    "    return {\n",
    "        'stop_early':False,\n",
    "        'early_stopping_step':0,\n",
    "        'early_stopping_best_val':1e8,\n",
    "        'early_stopping_criteria' : 10,\n",
    "        'epoch_index' : 0,\n",
    "        'train_loss': [], \n",
    "        'train_acc' :[], \n",
    "        'val_loss' : [],\n",
    "        'val_acc' : [], \n",
    "        'test_loss' : [],\n",
    "        'test_acc' : [],\n",
    "         \n",
    "#       모델 저장파일\n",
    "        'model_filename' : 'model.pth'\n",
    "    } \n",
    "\n",
    "\n",
    "# Train update \n",
    "def update_train_state(model, train_state):\n",
    "    \n",
    "#   학습시작하면 초기에 모델 저장하기 \n",
    "    \n",
    "    if train_state['epoch_index'] == 0:\n",
    "        torch.save(model.state_dict(),train_state['model_filename'])\n",
    "        \n",
    "#   모델 성능이 향상되면 모델 저장(valid loss가 더 낮아지면)\n",
    "    elif train_state['epoch_index'] >=1 :\n",
    "        loss_t = train_state['val_loss'][-1]\n",
    "#        loss가 나빠지면 early stop step 업데이트\n",
    "        if loss_t >= train_state['early_stopping_best_val']:\n",
    "            train_state['early_stopping_step']+=1\n",
    "            \n",
    "#        loss가 좋아지면   \n",
    "        else:\n",
    "#            early stop step 0으로 다시 초기화        \n",
    "            train_state['early_stopping_step']=0\n",
    "    \n",
    "#           최저 loss이면 모델 저장 \n",
    "            if loss_t < train_state['early_stopping_best_val']:\n",
    "                train_state['early_stopping_best_val'] = loss_t\n",
    "                torch.save(model.state_dict(),train_state['model_filename'])\n",
    "\n",
    "#       기준점 넘으면 early stop \n",
    "        if train_state['early_stopping_step'] >= train_state['early_stopping_criteria']:\n",
    "            train_state['stop_early'] = True\n",
    "        \n",
    "        return train_state\n"
   ]
  },
  {
   "cell_type": "code",
   "execution_count": 30,
   "id": "303fffb5",
   "metadata": {},
   "outputs": [
    {
     "data": {
      "text/plain": [
       "{'stop_early': False,\n",
       " 'early_stopping_step': 0,\n",
       " 'early_stopping_best_val': 100000000.0,\n",
       " 'early_stopping_criteria': 10,\n",
       " 'epoch_index': 0,\n",
       " 'train_loss': [],\n",
       " 'train_acc': [],\n",
       " 'val_loss': [],\n",
       " 'val_acc': [],\n",
       " 'test_loss': [],\n",
       " 'test_acc': [],\n",
       " 'model_filename': 'model.pth'}"
      ]
     },
     "execution_count": 30,
     "metadata": {},
     "output_type": "execute_result"
    }
   ],
   "source": [
    "# 모델 진행 상황 함수 초기화\n",
    "train_state = make_train_state()\n",
    "train_state"
   ]
  },
  {
   "cell_type": "code",
   "execution_count": 31,
   "id": "c5d044de",
   "metadata": {},
   "outputs": [
    {
     "name": "stderr",
     "output_type": "stream",
     "text": [
      "  1%|▍                                          | 1/100 [00:02<03:26,  2.08s/it]"
     ]
    },
    {
     "name": "stdout",
     "output_type": "stream",
     "text": [
      "val_loss 2.467093070348104\n",
      "val_acc 28.645833333333336\n"
     ]
    },
    {
     "name": "stderr",
     "output_type": "stream",
     "text": [
      "\r",
      "  2%|▊                                          | 2/100 [00:02<02:13,  1.36s/it]"
     ]
    },
    {
     "name": "stdout",
     "output_type": "stream",
     "text": [
      "val_loss 2.320603291193644\n",
      "val_acc 21.2890625\n"
     ]
    },
    {
     "name": "stderr",
     "output_type": "stream",
     "text": [
      "\r",
      "  3%|█▎                                         | 3/100 [00:03<01:52,  1.16s/it]"
     ]
    },
    {
     "name": "stdout",
     "output_type": "stream",
     "text": [
      "val_loss 2.244600852330526\n",
      "val_acc 29.036458333333336\n"
     ]
    },
    {
     "name": "stderr",
     "output_type": "stream",
     "text": [
      "\r",
      "  4%|█▋                                         | 4/100 [00:04<01:42,  1.07s/it]"
     ]
    },
    {
     "name": "stdout",
     "output_type": "stream",
     "text": [
      "val_loss 2.2516547044118247\n",
      "val_acc 24.8046875\n"
     ]
    },
    {
     "name": "stderr",
     "output_type": "stream",
     "text": [
      "\r",
      "  5%|██▏                                        | 5/100 [00:05<01:35,  1.01s/it]"
     ]
    },
    {
     "name": "stdout",
     "output_type": "stream",
     "text": [
      "val_loss 2.2337876160939536\n",
      "val_acc 26.432291666666668\n"
     ]
    },
    {
     "name": "stderr",
     "output_type": "stream",
     "text": [
      "\r",
      "  6%|██▌                                        | 6/100 [00:06<01:32,  1.02it/s]"
     ]
    },
    {
     "name": "stdout",
     "output_type": "stream",
     "text": [
      "val_loss 2.220968723297119\n",
      "val_acc 27.408854166666664\n"
     ]
    },
    {
     "name": "stderr",
     "output_type": "stream",
     "text": [
      "\r",
      "  7%|███                                        | 7/100 [00:07<01:31,  1.01it/s]"
     ]
    },
    {
     "name": "stdout",
     "output_type": "stream",
     "text": [
      "val_loss 2.1808332602183023\n",
      "val_acc 28.3203125\n"
     ]
    },
    {
     "name": "stderr",
     "output_type": "stream",
     "text": [
      "\r",
      "  8%|███▍                                       | 8/100 [00:08<01:34,  1.03s/it]"
     ]
    },
    {
     "name": "stdout",
     "output_type": "stream",
     "text": [
      "val_loss 2.1571085453033447\n",
      "val_acc 27.34375\n"
     ]
    },
    {
     "name": "stderr",
     "output_type": "stream",
     "text": [
      "\r",
      "  9%|███▊                                       | 9/100 [00:09<01:29,  1.01it/s]"
     ]
    },
    {
     "name": "stdout",
     "output_type": "stream",
     "text": [
      "val_loss 2.12507164478302\n",
      "val_acc 32.161458333333336\n"
     ]
    },
    {
     "name": "stderr",
     "output_type": "stream",
     "text": [
      "\r",
      " 10%|████▏                                     | 10/100 [00:10<01:27,  1.03it/s]"
     ]
    },
    {
     "name": "stdout",
     "output_type": "stream",
     "text": [
      "val_loss 2.0280267794926963\n",
      "val_acc 32.03125\n"
     ]
    },
    {
     "name": "stderr",
     "output_type": "stream",
     "text": [
      "\r",
      " 11%|████▌                                     | 11/100 [00:11<01:24,  1.05it/s]"
     ]
    },
    {
     "name": "stdout",
     "output_type": "stream",
     "text": [
      "val_loss 1.9843840599060059\n",
      "val_acc 33.203125\n"
     ]
    },
    {
     "name": "stderr",
     "output_type": "stream",
     "text": [
      "\r",
      " 12%|█████                                     | 12/100 [00:12<01:23,  1.06it/s]"
     ]
    },
    {
     "name": "stdout",
     "output_type": "stream",
     "text": [
      "val_loss 1.9524056514104207\n",
      "val_acc 32.096354166666664\n"
     ]
    },
    {
     "name": "stderr",
     "output_type": "stream",
     "text": [
      "\r",
      " 13%|█████▍                                    | 13/100 [00:13<01:20,  1.08it/s]"
     ]
    },
    {
     "name": "stdout",
     "output_type": "stream",
     "text": [
      "val_loss 1.92887544631958\n",
      "val_acc 33.268229166666664\n"
     ]
    },
    {
     "name": "stderr",
     "output_type": "stream",
     "text": [
      "\r",
      " 14%|█████▉                                    | 14/100 [00:14<01:19,  1.08it/s]"
     ]
    },
    {
     "name": "stdout",
     "output_type": "stream",
     "text": [
      "val_loss 1.8980967998504639\n",
      "val_acc 32.161458333333336\n"
     ]
    },
    {
     "name": "stderr",
     "output_type": "stream",
     "text": [
      "\r",
      " 15%|██████▎                                   | 15/100 [00:15<01:17,  1.10it/s]"
     ]
    },
    {
     "name": "stdout",
     "output_type": "stream",
     "text": [
      "val_loss 1.925618569056193\n",
      "val_acc 34.765625\n"
     ]
    },
    {
     "name": "stderr",
     "output_type": "stream",
     "text": [
      "\r",
      " 16%|██████▋                                   | 16/100 [00:16<01:16,  1.09it/s]"
     ]
    },
    {
     "name": "stdout",
     "output_type": "stream",
     "text": [
      "val_loss 1.868672768274943\n",
      "val_acc 36.328125\n"
     ]
    },
    {
     "name": "stderr",
     "output_type": "stream",
     "text": [
      "\r",
      " 17%|███████▏                                  | 17/100 [00:16<01:16,  1.09it/s]"
     ]
    },
    {
     "name": "stdout",
     "output_type": "stream",
     "text": [
      "val_loss 1.8321406443913777\n",
      "val_acc 40.364583333333336\n"
     ]
    },
    {
     "name": "stderr",
     "output_type": "stream",
     "text": [
      "\r",
      " 18%|███████▌                                  | 18/100 [00:17<01:14,  1.10it/s]"
     ]
    },
    {
     "name": "stdout",
     "output_type": "stream",
     "text": [
      "val_loss 1.8007342020670574\n",
      "val_acc 45.833333333333336\n"
     ]
    },
    {
     "name": "stderr",
     "output_type": "stream",
     "text": [
      "\r",
      " 19%|███████▉                                  | 19/100 [00:18<01:14,  1.09it/s]"
     ]
    },
    {
     "name": "stdout",
     "output_type": "stream",
     "text": [
      "val_loss 1.7428789933522542\n",
      "val_acc 48.177083333333336\n"
     ]
    },
    {
     "name": "stderr",
     "output_type": "stream",
     "text": [
      "\r",
      " 20%|████████▍                                 | 20/100 [00:19<01:12,  1.10it/s]"
     ]
    },
    {
     "name": "stdout",
     "output_type": "stream",
     "text": [
      "val_loss 1.6933106184005737\n",
      "val_acc 50.325520833333336\n"
     ]
    },
    {
     "name": "stderr",
     "output_type": "stream",
     "text": [
      "\r",
      " 21%|████████▊                                 | 21/100 [00:20<01:11,  1.10it/s]"
     ]
    },
    {
     "name": "stdout",
     "output_type": "stream",
     "text": [
      "val_loss 1.7144356568654378\n",
      "val_acc 51.041666666666664\n"
     ]
    },
    {
     "name": "stderr",
     "output_type": "stream",
     "text": [
      "\r",
      " 22%|█████████▏                                | 22/100 [00:21<01:10,  1.10it/s]"
     ]
    },
    {
     "name": "stdout",
     "output_type": "stream",
     "text": [
      "val_loss 1.6887750228246052\n",
      "val_acc 50.065104166666664\n"
     ]
    },
    {
     "name": "stderr",
     "output_type": "stream",
     "text": [
      "\r",
      " 23%|█████████▋                                | 23/100 [00:22<01:09,  1.11it/s]"
     ]
    },
    {
     "name": "stdout",
     "output_type": "stream",
     "text": [
      "val_loss 1.6398818095525105\n",
      "val_acc 51.041666666666664\n"
     ]
    },
    {
     "name": "stderr",
     "output_type": "stream",
     "text": [
      "\r",
      " 24%|██████████                                | 24/100 [00:23<01:08,  1.11it/s]"
     ]
    },
    {
     "name": "stdout",
     "output_type": "stream",
     "text": [
      "val_loss 1.603166937828064\n",
      "val_acc 54.1015625\n"
     ]
    },
    {
     "name": "stderr",
     "output_type": "stream",
     "text": [
      "\r",
      " 25%|██████████▌                               | 25/100 [00:24<01:09,  1.07it/s]"
     ]
    },
    {
     "name": "stdout",
     "output_type": "stream",
     "text": [
      "val_loss 1.5928110281626384\n",
      "val_acc 53.385416666666664\n"
     ]
    },
    {
     "name": "stderr",
     "output_type": "stream",
     "text": [
      "\r",
      " 26%|██████████▉                               | 26/100 [00:25<01:10,  1.05it/s]"
     ]
    },
    {
     "name": "stdout",
     "output_type": "stream",
     "text": [
      "val_loss 1.6243962446848552\n",
      "val_acc 55.078125\n"
     ]
    },
    {
     "name": "stderr",
     "output_type": "stream",
     "text": [
      "\r",
      " 27%|███████████▎                              | 27/100 [00:26<01:10,  1.04it/s]"
     ]
    },
    {
     "name": "stdout",
     "output_type": "stream",
     "text": [
      "val_loss 1.5719356934229534\n",
      "val_acc 55.338541666666664\n"
     ]
    },
    {
     "name": "stderr",
     "output_type": "stream",
     "text": [
      "\r",
      " 28%|███████████▊                              | 28/100 [00:27<01:10,  1.01it/s]"
     ]
    },
    {
     "name": "stdout",
     "output_type": "stream",
     "text": [
      "val_loss 1.570383628209432\n",
      "val_acc 54.6875\n"
     ]
    },
    {
     "name": "stderr",
     "output_type": "stream",
     "text": [
      "\r",
      " 29%|████████████▏                             | 29/100 [00:28<01:10,  1.01it/s]"
     ]
    },
    {
     "name": "stdout",
     "output_type": "stream",
     "text": [
      "val_loss 1.5534924666086833\n",
      "val_acc 56.119791666666664\n"
     ]
    },
    {
     "name": "stderr",
     "output_type": "stream",
     "text": [
      "\r",
      " 30%|████████████▌                             | 30/100 [00:29<01:09,  1.00it/s]"
     ]
    },
    {
     "name": "stdout",
     "output_type": "stream",
     "text": [
      "val_loss 1.5692803462346394\n",
      "val_acc 54.752604166666664\n"
     ]
    },
    {
     "name": "stderr",
     "output_type": "stream",
     "text": [
      "\r",
      " 31%|█████████████                             | 31/100 [00:30<01:09,  1.01s/it]"
     ]
    },
    {
     "name": "stdout",
     "output_type": "stream",
     "text": [
      "val_loss 1.5437227884928386\n",
      "val_acc 55.46875\n"
     ]
    },
    {
     "name": "stderr",
     "output_type": "stream",
     "text": [
      "\r",
      " 32%|█████████████▍                            | 32/100 [00:31<01:08,  1.01s/it]"
     ]
    },
    {
     "name": "stdout",
     "output_type": "stream",
     "text": [
      "val_loss 1.5349803765614827\n",
      "val_acc 56.770833333333336\n"
     ]
    },
    {
     "name": "stderr",
     "output_type": "stream",
     "text": [
      "\r",
      " 33%|█████████████▊                            | 33/100 [00:32<01:07,  1.00s/it]"
     ]
    },
    {
     "name": "stdout",
     "output_type": "stream",
     "text": [
      "val_loss 1.4940434694290161\n",
      "val_acc 57.291666666666664\n"
     ]
    },
    {
     "name": "stderr",
     "output_type": "stream",
     "text": [
      "\r",
      " 34%|██████████████▎                           | 34/100 [00:33<01:06,  1.00s/it]"
     ]
    },
    {
     "name": "stdout",
     "output_type": "stream",
     "text": [
      "val_loss 1.4717923005421956\n",
      "val_acc 58.203125\n"
     ]
    },
    {
     "name": "stderr",
     "output_type": "stream",
     "text": [
      "\r",
      " 35%|██████████████▋                           | 35/100 [00:34<01:04,  1.01it/s]"
     ]
    },
    {
     "name": "stdout",
     "output_type": "stream",
     "text": [
      "val_loss 1.4800435304641724\n",
      "val_acc 58.072916666666664\n"
     ]
    },
    {
     "name": "stderr",
     "output_type": "stream",
     "text": [
      "\r",
      " 36%|███████████████                           | 36/100 [00:35<01:03,  1.01it/s]"
     ]
    },
    {
     "name": "stdout",
     "output_type": "stream",
     "text": [
      "val_loss 1.475186785062154\n",
      "val_acc 57.6171875\n"
     ]
    },
    {
     "name": "stderr",
     "output_type": "stream",
     "text": [
      "\r",
      " 37%|███████████████▌                          | 37/100 [00:36<01:03,  1.01s/it]"
     ]
    },
    {
     "name": "stdout",
     "output_type": "stream",
     "text": [
      "val_loss 1.4835165739059448\n",
      "val_acc 57.096354166666664\n"
     ]
    },
    {
     "name": "stderr",
     "output_type": "stream",
     "text": [
      "\r",
      " 38%|███████████████▉                          | 38/100 [00:37<01:02,  1.01s/it]"
     ]
    },
    {
     "name": "stdout",
     "output_type": "stream",
     "text": [
      "val_loss 1.4277714093526204\n",
      "val_acc 59.505208333333336\n"
     ]
    },
    {
     "name": "stderr",
     "output_type": "stream",
     "text": [
      "\r",
      " 39%|████████████████▍                         | 39/100 [00:38<01:02,  1.03s/it]"
     ]
    },
    {
     "name": "stdout",
     "output_type": "stream",
     "text": [
      "val_loss 1.4065616925557454\n",
      "val_acc 60.221354166666664\n"
     ]
    },
    {
     "name": "stderr",
     "output_type": "stream",
     "text": [
      "\r",
      " 40%|████████████████▊                         | 40/100 [00:39<01:02,  1.04s/it]"
     ]
    },
    {
     "name": "stdout",
     "output_type": "stream",
     "text": [
      "val_loss 1.441463828086853\n",
      "val_acc 58.268229166666664\n"
     ]
    },
    {
     "name": "stderr",
     "output_type": "stream",
     "text": [
      "\r",
      " 41%|█████████████████▏                        | 41/100 [00:40<01:01,  1.04s/it]"
     ]
    },
    {
     "name": "stdout",
     "output_type": "stream",
     "text": [
      "val_loss 1.4810031652450562\n",
      "val_acc 57.8125\n"
     ]
    },
    {
     "name": "stderr",
     "output_type": "stream",
     "text": [
      "\r",
      " 42%|█████████████████▋                        | 42/100 [00:41<01:00,  1.04s/it]"
     ]
    },
    {
     "name": "stdout",
     "output_type": "stream",
     "text": [
      "val_loss 1.4045114119847615\n",
      "val_acc 59.5703125\n"
     ]
    },
    {
     "name": "stderr",
     "output_type": "stream",
     "text": [
      "\r",
      " 43%|██████████████████                        | 43/100 [00:42<01:00,  1.06s/it]"
     ]
    },
    {
     "name": "stdout",
     "output_type": "stream",
     "text": [
      "val_loss 1.3920566240946453\n",
      "val_acc 60.416666666666664\n"
     ]
    },
    {
     "name": "stderr",
     "output_type": "stream",
     "text": [
      "\r",
      " 44%|██████████████████▍                       | 44/100 [00:43<00:57,  1.04s/it]"
     ]
    },
    {
     "name": "stdout",
     "output_type": "stream",
     "text": [
      "val_loss 1.3886419137318928\n",
      "val_acc 61.067708333333336\n"
     ]
    },
    {
     "name": "stderr",
     "output_type": "stream",
     "text": [
      "\r",
      " 45%|██████████████████▉                       | 45/100 [00:44<00:57,  1.05s/it]"
     ]
    },
    {
     "name": "stdout",
     "output_type": "stream",
     "text": [
      "val_loss 1.35954749584198\n",
      "val_acc 61.1328125\n"
     ]
    },
    {
     "name": "stderr",
     "output_type": "stream",
     "text": [
      "\r",
      " 46%|███████████████████▎                      | 46/100 [00:45<00:55,  1.02s/it]"
     ]
    },
    {
     "name": "stdout",
     "output_type": "stream",
     "text": [
      "val_loss 1.3834171295166016\n",
      "val_acc 60.9375\n"
     ]
    },
    {
     "name": "stderr",
     "output_type": "stream",
     "text": [
      "\r",
      " 47%|███████████████████▋                      | 47/100 [00:46<00:54,  1.03s/it]"
     ]
    },
    {
     "name": "stdout",
     "output_type": "stream",
     "text": [
      "val_loss 1.3761032025019329\n",
      "val_acc 59.765625\n"
     ]
    },
    {
     "name": "stderr",
     "output_type": "stream",
     "text": [
      "\r",
      " 48%|████████████████████▏                     | 48/100 [00:47<00:53,  1.03s/it]"
     ]
    },
    {
     "name": "stdout",
     "output_type": "stream",
     "text": [
      "val_loss 1.3662521839141846\n",
      "val_acc 61.002604166666664\n"
     ]
    },
    {
     "name": "stderr",
     "output_type": "stream",
     "text": [
      "\r",
      " 49%|████████████████████▌                     | 49/100 [00:48<00:51,  1.00s/it]"
     ]
    },
    {
     "name": "stdout",
     "output_type": "stream",
     "text": [
      "val_loss 1.4216807683308919\n",
      "val_acc 59.700520833333336\n"
     ]
    },
    {
     "name": "stderr",
     "output_type": "stream",
     "text": [
      "\r",
      " 50%|█████████████████████                     | 50/100 [00:49<00:50,  1.01s/it]"
     ]
    },
    {
     "name": "stdout",
     "output_type": "stream",
     "text": [
      "val_loss 1.3389455874760945\n",
      "val_acc 62.760416666666664\n"
     ]
    },
    {
     "name": "stderr",
     "output_type": "stream",
     "text": [
      "\r",
      " 51%|█████████████████████▍                    | 51/100 [00:50<00:50,  1.03s/it]"
     ]
    },
    {
     "name": "stdout",
     "output_type": "stream",
     "text": [
      "val_loss 1.3390223979949951\n",
      "val_acc 62.825520833333336\n"
     ]
    },
    {
     "name": "stderr",
     "output_type": "stream",
     "text": [
      "\r",
      " 52%|█████████████████████▊                    | 52/100 [00:51<00:50,  1.05s/it]"
     ]
    },
    {
     "name": "stdout",
     "output_type": "stream",
     "text": [
      "val_loss 1.3468927542368572\n",
      "val_acc 62.3046875\n"
     ]
    },
    {
     "name": "stderr",
     "output_type": "stream",
     "text": [
      "\r",
      " 53%|██████████████████████▎                   | 53/100 [00:52<00:48,  1.02s/it]"
     ]
    },
    {
     "name": "stdout",
     "output_type": "stream",
     "text": [
      "val_loss 1.3579210837682087\n",
      "val_acc 62.239583333333336\n"
     ]
    },
    {
     "name": "stderr",
     "output_type": "stream",
     "text": [
      "\r",
      " 54%|██████████████████████▋                   | 54/100 [00:53<00:46,  1.02s/it]"
     ]
    },
    {
     "name": "stdout",
     "output_type": "stream",
     "text": [
      "val_loss 1.3900660673777263\n",
      "val_acc 59.9609375\n"
     ]
    },
    {
     "name": "stderr",
     "output_type": "stream",
     "text": [
      "\r",
      " 55%|███████████████████████                   | 55/100 [00:54<00:46,  1.04s/it]"
     ]
    },
    {
     "name": "stdout",
     "output_type": "stream",
     "text": [
      "val_loss 1.3357168833414714\n",
      "val_acc 61.9140625\n"
     ]
    },
    {
     "name": "stderr",
     "output_type": "stream",
     "text": [
      "\r",
      " 56%|███████████████████████▌                  | 56/100 [00:55<00:44,  1.02s/it]"
     ]
    },
    {
     "name": "stdout",
     "output_type": "stream",
     "text": [
      "val_loss 1.355055848757426\n",
      "val_acc 61.1328125\n"
     ]
    },
    {
     "name": "stderr",
     "output_type": "stream",
     "text": [
      "\r",
      " 57%|███████████████████████▉                  | 57/100 [00:56<00:43,  1.01s/it]"
     ]
    },
    {
     "name": "stdout",
     "output_type": "stream",
     "text": [
      "val_loss 1.4399052858352661\n",
      "val_acc 59.635416666666664\n"
     ]
    },
    {
     "name": "stderr",
     "output_type": "stream",
     "text": [
      "\r",
      " 58%|████████████████████████▎                 | 58/100 [00:57<00:42,  1.01s/it]"
     ]
    },
    {
     "name": "stdout",
     "output_type": "stream",
     "text": [
      "val_loss 1.32172429561615\n",
      "val_acc 63.020833333333336\n"
     ]
    },
    {
     "name": "stderr",
     "output_type": "stream",
     "text": [
      "\r",
      " 59%|████████████████████████▊                 | 59/100 [00:58<00:41,  1.00s/it]"
     ]
    },
    {
     "name": "stdout",
     "output_type": "stream",
     "text": [
      "val_loss 1.3093653519948323\n",
      "val_acc 63.0859375\n"
     ]
    },
    {
     "name": "stderr",
     "output_type": "stream",
     "text": [
      "\r",
      " 60%|█████████████████████████▏                | 60/100 [01:00<00:41,  1.04s/it]"
     ]
    },
    {
     "name": "stdout",
     "output_type": "stream",
     "text": [
      "val_loss 1.295585036277771\n",
      "val_acc 64.12760416666667\n"
     ]
    },
    {
     "name": "stderr",
     "output_type": "stream",
     "text": [
      "\r",
      " 61%|█████████████████████████▌                | 61/100 [01:01<00:39,  1.02s/it]"
     ]
    },
    {
     "name": "stdout",
     "output_type": "stream",
     "text": [
      "val_loss 1.3259456555048625\n",
      "val_acc 63.0859375\n"
     ]
    },
    {
     "name": "stderr",
     "output_type": "stream",
     "text": [
      "\r",
      " 62%|██████████████████████████                | 62/100 [01:02<00:39,  1.04s/it]"
     ]
    },
    {
     "name": "stdout",
     "output_type": "stream",
     "text": [
      "val_loss 1.2992665370305378\n",
      "val_acc 64.0625\n"
     ]
    },
    {
     "name": "stderr",
     "output_type": "stream",
     "text": [
      "\r",
      " 63%|██████████████████████████▍               | 63/100 [01:03<00:38,  1.04s/it]"
     ]
    },
    {
     "name": "stdout",
     "output_type": "stream",
     "text": [
      "val_loss 1.3260613679885864\n",
      "val_acc 62.630208333333336\n"
     ]
    },
    {
     "name": "stderr",
     "output_type": "stream",
     "text": [
      "\r",
      " 64%|██████████████████████████▉               | 64/100 [01:04<00:37,  1.04s/it]"
     ]
    },
    {
     "name": "stdout",
     "output_type": "stream",
     "text": [
      "val_loss 1.3193140029907227\n",
      "val_acc 63.606770833333336\n"
     ]
    },
    {
     "name": "stderr",
     "output_type": "stream",
     "text": [
      "\r",
      " 65%|███████████████████████████▎              | 65/100 [01:05<00:36,  1.03s/it]"
     ]
    },
    {
     "name": "stdout",
     "output_type": "stream",
     "text": [
      "val_loss 1.2746777137120564\n",
      "val_acc 64.19270833333333\n"
     ]
    },
    {
     "name": "stderr",
     "output_type": "stream",
     "text": [
      "\r",
      " 66%|███████████████████████████▋              | 66/100 [01:06<00:34,  1.02s/it]"
     ]
    },
    {
     "name": "stdout",
     "output_type": "stream",
     "text": [
      "val_loss 1.2791197299957275\n",
      "val_acc 64.38802083333333\n"
     ]
    },
    {
     "name": "stderr",
     "output_type": "stream",
     "text": [
      "\r",
      " 67%|████████████████████████████▏             | 67/100 [01:07<00:34,  1.06s/it]"
     ]
    },
    {
     "name": "stdout",
     "output_type": "stream",
     "text": [
      "val_loss 1.2659575541814168\n",
      "val_acc 65.234375\n"
     ]
    },
    {
     "name": "stderr",
     "output_type": "stream",
     "text": [
      "\r",
      " 68%|████████████████████████████▌             | 68/100 [01:08<00:33,  1.03s/it]"
     ]
    },
    {
     "name": "stdout",
     "output_type": "stream",
     "text": [
      "val_loss 1.3139220078786213\n",
      "val_acc 63.671875\n"
     ]
    },
    {
     "name": "stderr",
     "output_type": "stream",
     "text": [
      "\r",
      " 69%|████████████████████████████▉             | 69/100 [01:09<00:31,  1.03s/it]"
     ]
    },
    {
     "name": "stdout",
     "output_type": "stream",
     "text": [
      "val_loss 1.2709432045618694\n",
      "val_acc 65.36458333333333\n"
     ]
    },
    {
     "name": "stderr",
     "output_type": "stream",
     "text": [
      "\r",
      " 70%|█████████████████████████████▍            | 70/100 [01:10<00:31,  1.04s/it]"
     ]
    },
    {
     "name": "stdout",
     "output_type": "stream",
     "text": [
      "val_loss 1.2843952576319377\n",
      "val_acc 64.84375\n"
     ]
    },
    {
     "name": "stderr",
     "output_type": "stream",
     "text": [
      "\r",
      " 71%|█████████████████████████████▊            | 71/100 [01:11<00:29,  1.03s/it]"
     ]
    },
    {
     "name": "stdout",
     "output_type": "stream",
     "text": [
      "val_loss 1.2756272157033284\n",
      "val_acc 63.932291666666664\n"
     ]
    },
    {
     "name": "stderr",
     "output_type": "stream",
     "text": [
      "\r",
      " 72%|██████████████████████████████▏           | 72/100 [01:12<00:28,  1.02s/it]"
     ]
    },
    {
     "name": "stdout",
     "output_type": "stream",
     "text": [
      "val_loss 1.251684546470642\n",
      "val_acc 65.36458333333333\n"
     ]
    },
    {
     "name": "stderr",
     "output_type": "stream",
     "text": [
      "\r",
      " 73%|██████████████████████████████▋           | 73/100 [01:13<00:27,  1.01s/it]"
     ]
    },
    {
     "name": "stdout",
     "output_type": "stream",
     "text": [
      "val_loss 1.245513916015625\n",
      "val_acc 66.14583333333333\n"
     ]
    },
    {
     "name": "stderr",
     "output_type": "stream",
     "text": [
      "\r",
      " 74%|███████████████████████████████           | 74/100 [01:14<00:25,  1.02it/s]"
     ]
    },
    {
     "name": "stdout",
     "output_type": "stream",
     "text": [
      "val_loss 1.2909352382024128\n",
      "val_acc 64.32291666666667\n"
     ]
    },
    {
     "name": "stderr",
     "output_type": "stream",
     "text": [
      "\r",
      " 75%|███████████████████████████████▌          | 75/100 [01:15<00:25,  1.00s/it]"
     ]
    },
    {
     "name": "stdout",
     "output_type": "stream",
     "text": [
      "val_loss 1.2475098768870037\n",
      "val_acc 64.97395833333333\n"
     ]
    },
    {
     "name": "stderr",
     "output_type": "stream",
     "text": [
      "\r",
      " 76%|███████████████████████████████▉          | 76/100 [01:16<00:24,  1.03s/it]"
     ]
    },
    {
     "name": "stdout",
     "output_type": "stream",
     "text": [
      "val_loss 1.248478849728902\n",
      "val_acc 65.8203125\n"
     ]
    },
    {
     "name": "stderr",
     "output_type": "stream",
     "text": [
      "\r",
      " 77%|████████████████████████████████▎         | 77/100 [01:17<00:23,  1.02s/it]"
     ]
    },
    {
     "name": "stdout",
     "output_type": "stream",
     "text": [
      "val_loss 1.2425848245620728\n",
      "val_acc 66.86197916666667\n"
     ]
    },
    {
     "name": "stderr",
     "output_type": "stream",
     "text": [
      "\r",
      " 78%|████████████████████████████████▊         | 78/100 [01:18<00:22,  1.03s/it]"
     ]
    },
    {
     "name": "stdout",
     "output_type": "stream",
     "text": [
      "val_loss 1.2763192256291707\n",
      "val_acc 66.40625\n"
     ]
    },
    {
     "name": "stderr",
     "output_type": "stream",
     "text": [
      "\r",
      " 79%|█████████████████████████████████▏        | 79/100 [01:19<00:21,  1.01s/it]"
     ]
    },
    {
     "name": "stdout",
     "output_type": "stream",
     "text": [
      "val_loss 1.2496333916982014\n",
      "val_acc 64.38802083333333\n"
     ]
    },
    {
     "name": "stderr",
     "output_type": "stream",
     "text": [
      "\r",
      " 80%|█████████████████████████████████▌        | 80/100 [01:20<00:20,  1.00s/it]"
     ]
    },
    {
     "name": "stdout",
     "output_type": "stream",
     "text": [
      "val_loss 1.259058952331543\n",
      "val_acc 65.49479166666667\n"
     ]
    },
    {
     "name": "stderr",
     "output_type": "stream",
     "text": [
      "\r",
      " 81%|██████████████████████████████████        | 81/100 [01:21<00:19,  1.00s/it]"
     ]
    },
    {
     "name": "stdout",
     "output_type": "stream",
     "text": [
      "val_loss 1.224747935930888\n",
      "val_acc 66.92708333333333\n"
     ]
    },
    {
     "name": "stderr",
     "output_type": "stream",
     "text": [
      "\r",
      " 82%|██████████████████████████████████▍       | 82/100 [01:22<00:17,  1.00it/s]"
     ]
    },
    {
     "name": "stdout",
     "output_type": "stream",
     "text": [
      "val_loss 1.2868573069572449\n",
      "val_acc 63.932291666666664\n"
     ]
    },
    {
     "name": "stderr",
     "output_type": "stream",
     "text": [
      "\r",
      " 83%|██████████████████████████████████▊       | 83/100 [01:23<00:17,  1.01s/it]"
     ]
    },
    {
     "name": "stdout",
     "output_type": "stream",
     "text": [
      "val_loss 1.2776494820912678\n",
      "val_acc 66.34114583333333\n"
     ]
    },
    {
     "name": "stderr",
     "output_type": "stream",
     "text": [
      "\r",
      " 84%|███████████████████████████████████▎      | 84/100 [01:24<00:16,  1.02s/it]"
     ]
    },
    {
     "name": "stdout",
     "output_type": "stream",
     "text": [
      "val_loss 1.275307059288025\n",
      "val_acc 65.75520833333333\n"
     ]
    },
    {
     "name": "stderr",
     "output_type": "stream",
     "text": [
      "\r",
      " 85%|███████████████████████████████████▋      | 85/100 [01:25<00:15,  1.02s/it]"
     ]
    },
    {
     "name": "stdout",
     "output_type": "stream",
     "text": [
      "val_loss 1.2635083198547363\n",
      "val_acc 65.8203125\n"
     ]
    },
    {
     "name": "stderr",
     "output_type": "stream",
     "text": [
      "\r",
      " 86%|████████████████████████████████████      | 86/100 [01:26<00:14,  1.02s/it]"
     ]
    },
    {
     "name": "stdout",
     "output_type": "stream",
     "text": [
      "val_loss 1.2199093103408813\n",
      "val_acc 66.34114583333333\n"
     ]
    },
    {
     "name": "stderr",
     "output_type": "stream",
     "text": [
      "\r",
      " 87%|████████████████████████████████████▌     | 87/100 [01:27<00:13,  1.00s/it]"
     ]
    },
    {
     "name": "stdout",
     "output_type": "stream",
     "text": [
      "val_loss 1.199521541595459\n",
      "val_acc 67.578125\n"
     ]
    },
    {
     "name": "stderr",
     "output_type": "stream",
     "text": [
      "\r",
      " 88%|████████████████████████████████████▉     | 88/100 [01:28<00:11,  1.00it/s]"
     ]
    },
    {
     "name": "stdout",
     "output_type": "stream",
     "text": [
      "val_loss 1.224696159362793\n",
      "val_acc 66.40625\n"
     ]
    },
    {
     "name": "stderr",
     "output_type": "stream",
     "text": [
      "\r",
      " 89%|█████████████████████████████████████▍    | 89/100 [01:29<00:11,  1.00s/it]"
     ]
    },
    {
     "name": "stdout",
     "output_type": "stream",
     "text": [
      "val_loss 1.1850648323694866\n",
      "val_acc 67.83854166666667\n"
     ]
    },
    {
     "name": "stderr",
     "output_type": "stream",
     "text": [
      "\r",
      " 90%|█████████████████████████████████████▊    | 90/100 [01:30<00:10,  1.01s/it]"
     ]
    },
    {
     "name": "stdout",
     "output_type": "stream",
     "text": [
      "val_loss 1.2093619505564372\n",
      "val_acc 67.3828125\n"
     ]
    },
    {
     "name": "stderr",
     "output_type": "stream",
     "text": [
      "\r",
      " 91%|██████████████████████████████████████▏   | 91/100 [01:31<00:09,  1.00s/it]"
     ]
    },
    {
     "name": "stdout",
     "output_type": "stream",
     "text": [
      "val_loss 1.2785049279530842\n",
      "val_acc 65.234375\n"
     ]
    },
    {
     "name": "stderr",
     "output_type": "stream",
     "text": [
      "\r",
      " 92%|██████████████████████████████████████▋   | 92/100 [01:32<00:08,  1.01s/it]"
     ]
    },
    {
     "name": "stdout",
     "output_type": "stream",
     "text": [
      "val_loss 1.242878754933675\n",
      "val_acc 66.796875\n"
     ]
    },
    {
     "name": "stderr",
     "output_type": "stream",
     "text": [
      "\r",
      " 93%|███████████████████████████████████████   | 93/100 [01:33<00:06,  1.00it/s]"
     ]
    },
    {
     "name": "stdout",
     "output_type": "stream",
     "text": [
      "val_loss 1.203527847925822\n",
      "val_acc 66.86197916666667\n"
     ]
    },
    {
     "name": "stderr",
     "output_type": "stream",
     "text": [
      "\r",
      " 94%|███████████████████████████████████████▍  | 94/100 [01:34<00:06,  1.00s/it]"
     ]
    },
    {
     "name": "stdout",
     "output_type": "stream",
     "text": [
      "val_loss 1.1859810749689739\n",
      "val_acc 68.81510416666667\n"
     ]
    },
    {
     "name": "stderr",
     "output_type": "stream",
     "text": [
      "\r",
      " 95%|███████████████████████████████████████▉  | 95/100 [01:35<00:04,  1.01it/s]"
     ]
    },
    {
     "name": "stdout",
     "output_type": "stream",
     "text": [
      "val_loss 1.247092644373576\n",
      "val_acc 66.66666666666667\n"
     ]
    },
    {
     "name": "stderr",
     "output_type": "stream",
     "text": [
      "\r",
      " 96%|████████████████████████████████████████▎ | 96/100 [01:36<00:04,  1.03s/it]"
     ]
    },
    {
     "name": "stdout",
     "output_type": "stream",
     "text": [
      "val_loss 1.1984477639198303\n",
      "val_acc 67.25260416666667\n"
     ]
    },
    {
     "name": "stderr",
     "output_type": "stream",
     "text": [
      "\r",
      " 97%|████████████████████████████████████████▋ | 97/100 [01:37<00:03,  1.03s/it]"
     ]
    },
    {
     "name": "stdout",
     "output_type": "stream",
     "text": [
      "val_loss 1.2083359162012737\n",
      "val_acc 66.47135416666667\n"
     ]
    },
    {
     "name": "stderr",
     "output_type": "stream",
     "text": [
      "\r",
      " 98%|█████████████████████████████████████████▏| 98/100 [01:38<00:02,  1.06s/it]"
     ]
    },
    {
     "name": "stdout",
     "output_type": "stream",
     "text": [
      "val_loss 1.1952077349026997\n",
      "val_acc 67.31770833333333\n"
     ]
    },
    {
     "name": "stderr",
     "output_type": "stream",
     "text": [
      "\r",
      " 98%|█████████████████████████████████████████▏| 98/100 [01:40<00:02,  1.02s/it]"
     ]
    },
    {
     "name": "stdout",
     "output_type": "stream",
     "text": [
      "val_loss 1.2099319696426392\n",
      "val_acc 67.70833333333333\n"
     ]
    },
    {
     "name": "stderr",
     "output_type": "stream",
     "text": [
      "\n"
     ]
    }
   ],
   "source": [
    "import tqdm\n",
    "\n",
    "# 에포크만큼\n",
    "for epoch in tqdm.tqdm(range(num_epochs)):\n",
    "\n",
    "#     print('epoch',epoch)\n",
    "#     print(train_state['epoch_index']) \n",
    "    train_state['epoch_index'] +=1 \n",
    "\n",
    "    running_loss = 0.0\n",
    "    running_acc = 0.0\n",
    "\n",
    "\n",
    "#     모델을 학습 모드로 설정 -> 드롭아웃 및 배치 정규화와 같은 학습 중에만 적용되는 기법들이 활성화\n",
    "#     모델을 평가 모드로 전환하려면 classifier.eval()을 사용\n",
    "    classifier.train()\n",
    "# 배치 만큼\n",
    "    for batch_idx, batch_data in enumerate(Traindataloader):\n",
    "\n",
    "        \n",
    "\n",
    "#       1. 옵티마이저 그레디언트 0으로 초기화\n",
    "        optimizer.zero_grad()\n",
    "#       2. 모델에 데이터 넣어서 출력받기\n",
    "        y_pred = classifier(x_in=batch_data['x_data'])\n",
    "#       3. loss 계산하기\n",
    "        loss =  loss_func(y_pred, batch_data['y_target'])\n",
    "    \n",
    "#       tensor(0.3190) -> 0.3190, item()으로 스칼라 값만 추출\n",
    "        loss_t = loss.item()\n",
    "\n",
    "#       배치에서의 평균 loss 구하기\n",
    "        running_loss += (loss_t - running_loss) / (batch_idx + 1)\n",
    "\n",
    "#       4. gradient 계산하기\n",
    "        loss.backward()\n",
    "\n",
    "#       5. 옵티마이저 가중치 업데이트\n",
    "        optimizer.step()\n",
    "\n",
    "#       Accuracy 계산\n",
    "        acc_t = compute_accuracy(y_pred, batch_data['y_target'])\n",
    "        running_acc += (acc_t - running_acc) / (batch_idx + 1)\n",
    "\n",
    "\n",
    "\n",
    "    train_state['train_loss'].append(running_loss)\n",
    "    train_state['train_acc'].append(running_acc)\n",
    "\n",
    "\n",
    "#   valid에 대한 계산\n",
    "\n",
    "    running_loss = 0.0\n",
    "    running_acc = 0.0\n",
    "\n",
    "    classifier.eval() # 모델 파라미터를 수정하지 못 하게 비활성화\n",
    "\n",
    "    for batch_idx, batch_data in enumerate(Validdataloader):\n",
    "\n",
    "#       1. 모델의 출력값(y_pred)계산\n",
    "        y_pred = classifier(x_in=batch_data['x_data'])\n",
    "\n",
    "#       2. loss 계산\n",
    "        loss = loss_func(y_pred,batch_data['y_target'])\n",
    "        loss_t = loss.item()\n",
    "        running_loss += (loss_t - running_loss) / (batch_idx + 1)\n",
    "\n",
    "#       3. Accuracy 계산\n",
    "        acc_t = compute_accuracy(y_pred,batch_data['y_target'])\n",
    "        running_acc += (acc_t - running_acc) / (batch_idx + 1)\n",
    "    \n",
    "    print(\"val_loss\",running_loss)\n",
    "    print(\"val_acc\",running_acc)\n",
    "\n",
    "    train_state['val_loss'].append(running_loss)\n",
    "    train_state['val_acc'].append(running_acc)\n",
    "    \n",
    "\n",
    "#   전체 loss, acc 저장\n",
    "    train_state = update_train_state(model=classifier,\n",
    "                                     train_state=train_state)\n",
    "#   early stop해라고 했으면 학습 멈추기    \n",
    "    if train_state['stop_early']:\n",
    "        break\n",
    "\n"
   ]
  },
  {
   "cell_type": "markdown",
   "id": "89505c42",
   "metadata": {},
   "source": [
    "### Test 진행"
   ]
  },
  {
   "cell_type": "code",
   "execution_count": 34,
   "id": "9d163036",
   "metadata": {},
   "outputs": [],
   "source": [
    "# 가장 좋은 모델을 사용해 테스트 세트의 손실과 정확도를 계산합니다\n",
    "\n",
    "classifier.load_state_dict(torch.load(train_state['model_filename']))\n",
    "\n",
    "running_loss = 0.0\n",
    "running_acc = 0.0\n",
    "\n",
    "# 가중치 업데이트 하지 못 하게\n",
    "classifier.eval()\n",
    "\n",
    "for batch_idx, batch_data in enumerate(Testdataloader):\n",
    "    \n",
    "    y_pred = classifier(x_in=batch_data['x_data'])\n",
    "    loss = loss_func(y_pred,batch_data['y_target'])\n",
    "    loss_t = loss.item()\n",
    "    running_loss += (loss_t - running_loss) / (batch_idx + 1)\n",
    "    \n",
    "    acc_t = compute_accuracy(y_pred, batch_data['y_target'])\n",
    "    running_acc += (acc_t - running_acc) / (batch_idx + 1)\n",
    "\n",
    "train_state['test_loss'] = running_loss\n",
    "train_state['test_acc'] = running_acc"
   ]
  },
  {
   "cell_type": "code",
   "execution_count": 35,
   "id": "2ceba6d9",
   "metadata": {},
   "outputs": [
    {
     "name": "stdout",
     "output_type": "stream",
     "text": [
      "테스트 손실: 1.428\n",
      "테스트 정확도: 61.00\n"
     ]
    }
   ],
   "source": [
    "print(\"테스트 손실: {:.3f}\".format(train_state['test_loss']))\n",
    "print(\"테스트 정확도: {:.2f}\".format(train_state['test_acc']))"
   ]
  },
  {
   "cell_type": "code",
   "execution_count": 36,
   "id": "33b1cbdb",
   "metadata": {},
   "outputs": [
    {
     "data": {
      "text/plain": [
       "{'stop_early': True,\n",
       " 'early_stopping_step': 10,\n",
       " 'early_stopping_best_val': 1.1850648323694866,\n",
       " 'early_stopping_criteria': 10,\n",
       " 'epoch_index': 99,\n",
       " 'train_loss': [2.7951792240142823,\n",
       "  2.407435099283854,\n",
       "  2.334129889806112,\n",
       "  2.301321776707967,\n",
       "  2.2955955664316816,\n",
       "  2.278027407328288,\n",
       "  2.244572480519613,\n",
       "  2.2203129768371586,\n",
       "  2.186063543955485,\n",
       "  2.1220308462778728,\n",
       "  2.03430503209432,\n",
       "  2.0013904651006063,\n",
       "  1.9797150770823158,\n",
       "  1.954682397842407,\n",
       "  1.937115732828776,\n",
       "  1.9110198815663657,\n",
       "  1.885982131958008,\n",
       "  1.8544119834899901,\n",
       "  1.7949352423350016,\n",
       "  1.732702994346619,\n",
       "  1.6998157103856404,\n",
       "  1.6906292597452797,\n",
       "  1.667766523361206,\n",
       "  1.6324763139088947,\n",
       "  1.5971126556396482,\n",
       "  1.6109055519104003,\n",
       "  1.5660906314849854,\n",
       "  1.5333666642506918,\n",
       "  1.5267679532368978,\n",
       "  1.5142848412195842,\n",
       "  1.495674673716227,\n",
       "  1.50391906897227,\n",
       "  1.4682870388031006,\n",
       "  1.4551185131072997,\n",
       "  1.4667138894399008,\n",
       "  1.4279104868570964,\n",
       "  1.4173740228017173,\n",
       "  1.413165275255839,\n",
       "  1.389571555455526,\n",
       "  1.3769809484481812,\n",
       "  1.3817410707473756,\n",
       "  1.3608415365219118,\n",
       "  1.3418648640314739,\n",
       "  1.3481651624043784,\n",
       "  1.3248816569646202,\n",
       "  1.3215022246042887,\n",
       "  1.3002642869949341,\n",
       "  1.3372875134150188,\n",
       "  1.3291680574417113,\n",
       "  1.2990616639455157,\n",
       "  1.2859164555867515,\n",
       "  1.2819605668385825,\n",
       "  1.2796581665674844,\n",
       "  1.2737202962239582,\n",
       "  1.2937069098154705,\n",
       "  1.255663243929545,\n",
       "  1.2831126928329468,\n",
       "  1.2642103910446167,\n",
       "  1.2226545015970864,\n",
       "  1.2033870379130045,\n",
       "  1.1894476811091106,\n",
       "  1.1935537338256836,\n",
       "  1.208673389752706,\n",
       "  1.2085569222768144,\n",
       "  1.1888856967290244,\n",
       "  1.1755736668904622,\n",
       "  1.1722910165786742,\n",
       "  1.1628080129623413,\n",
       "  1.168239212036133,\n",
       "  1.153458873430888,\n",
       "  1.1672828992207847,\n",
       "  1.1471002340316772,\n",
       "  1.1490622758865356,\n",
       "  1.1455971797307334,\n",
       "  1.131498074531555,\n",
       "  1.1292826414108277,\n",
       "  1.1040544271469115,\n",
       "  1.113984537124634,\n",
       "  1.109610970815023,\n",
       "  1.0889480511347454,\n",
       "  1.102733556429545,\n",
       "  1.0866779486338298,\n",
       "  1.1057382186253866,\n",
       "  1.121024445692698,\n",
       "  1.141883818308512,\n",
       "  1.132506974538167,\n",
       "  1.091291332244873,\n",
       "  1.0916134238243103,\n",
       "  1.0650247852007546,\n",
       "  1.0512300451596577,\n",
       "  1.0557963927586873,\n",
       "  1.0690155506134034,\n",
       "  1.0656817873318989,\n",
       "  1.0528985659281414,\n",
       "  1.0215717514355978,\n",
       "  1.0351961692174276,\n",
       "  1.0495890657107037,\n",
       "  1.0411469856897992,\n",
       "  1.042052408059438],\n",
       " 'train_acc': [14.6484375,\n",
       "  25.690104166666668,\n",
       "  23.671874999999996,\n",
       "  25.078124999999996,\n",
       "  24.348958333333336,\n",
       "  26.315104166666664,\n",
       "  26.106770833333336,\n",
       "  26.510416666666664,\n",
       "  27.942708333333332,\n",
       "  30.716145833333332,\n",
       "  31.536458333333332,\n",
       "  31.770833333333332,\n",
       "  31.705729166666668,\n",
       "  31.549479166666668,\n",
       "  32.747395833333336,\n",
       "  33.072916666666664,\n",
       "  35.950520833333336,\n",
       "  39.752604166666664,\n",
       "  45.02604166666667,\n",
       "  47.630208333333336,\n",
       "  49.49218749999999,\n",
       "  49.62239583333333,\n",
       "  50.93749999999999,\n",
       "  51.770833333333336,\n",
       "  53.411458333333336,\n",
       "  53.2421875,\n",
       "  54.70052083333333,\n",
       "  55.92447916666667,\n",
       "  55.4296875,\n",
       "  56.40624999999999,\n",
       "  56.783854166666664,\n",
       "  56.197916666666664,\n",
       "  57.89062499999999,\n",
       "  57.65625000000001,\n",
       "  57.7734375,\n",
       "  58.828125,\n",
       "  58.854166666666664,\n",
       "  59.088541666666664,\n",
       "  59.75260416666667,\n",
       "  60.299479166666664,\n",
       "  59.7265625,\n",
       "  60.078125,\n",
       "  60.911458333333336,\n",
       "  60.66406249999999,\n",
       "  61.184895833333336,\n",
       "  61.067708333333336,\n",
       "  61.966145833333336,\n",
       "  61.02864583333332,\n",
       "  60.963541666666664,\n",
       "  61.74479166666667,\n",
       "  62.5,\n",
       "  62.73437500000001,\n",
       "  62.6953125,\n",
       "  62.8515625,\n",
       "  62.161458333333336,\n",
       "  63.424479166666664,\n",
       "  62.265625000000014,\n",
       "  62.994791666666664,\n",
       "  64.15364583333333,\n",
       "  64.81770833333333,\n",
       "  65.02604166666666,\n",
       "  64.89583333333333,\n",
       "  64.609375,\n",
       "  64.55729166666667,\n",
       "  64.93489583333334,\n",
       "  64.9609375,\n",
       "  65.09114583333333,\n",
       "  65.42968749999999,\n",
       "  65.48177083333334,\n",
       "  65.2734375,\n",
       "  65.63802083333333,\n",
       "  65.82031249999999,\n",
       "  65.390625,\n",
       "  66.015625,\n",
       "  66.1328125,\n",
       "  66.14583333333333,\n",
       "  66.5625,\n",
       "  66.78385416666667,\n",
       "  67.26562499999999,\n",
       "  66.90104166666667,\n",
       "  66.69270833333333,\n",
       "  67.20052083333333,\n",
       "  66.2890625,\n",
       "  66.09375,\n",
       "  66.41927083333333,\n",
       "  66.38020833333333,\n",
       "  66.70572916666667,\n",
       "  67.35677083333333,\n",
       "  67.69531250000001,\n",
       "  68.09895833333333,\n",
       "  68.54166666666666,\n",
       "  67.56510416666666,\n",
       "  67.86458333333333,\n",
       "  68.82812499999999,\n",
       "  68.89322916666667,\n",
       "  68.90625,\n",
       "  68.359375,\n",
       "  68.80208333333331,\n",
       "  68.22916666666666],\n",
       " 'val_loss': [2.467093070348104,\n",
       "  2.320603291193644,\n",
       "  2.244600852330526,\n",
       "  2.2516547044118247,\n",
       "  2.2337876160939536,\n",
       "  2.220968723297119,\n",
       "  2.1808332602183023,\n",
       "  2.1571085453033447,\n",
       "  2.12507164478302,\n",
       "  2.0280267794926963,\n",
       "  1.9843840599060059,\n",
       "  1.9524056514104207,\n",
       "  1.92887544631958,\n",
       "  1.8980967998504639,\n",
       "  1.925618569056193,\n",
       "  1.868672768274943,\n",
       "  1.8321406443913777,\n",
       "  1.8007342020670574,\n",
       "  1.7428789933522542,\n",
       "  1.6933106184005737,\n",
       "  1.7144356568654378,\n",
       "  1.6887750228246052,\n",
       "  1.6398818095525105,\n",
       "  1.603166937828064,\n",
       "  1.5928110281626384,\n",
       "  1.6243962446848552,\n",
       "  1.5719356934229534,\n",
       "  1.570383628209432,\n",
       "  1.5534924666086833,\n",
       "  1.5692803462346394,\n",
       "  1.5437227884928386,\n",
       "  1.5349803765614827,\n",
       "  1.4940434694290161,\n",
       "  1.4717923005421956,\n",
       "  1.4800435304641724,\n",
       "  1.475186785062154,\n",
       "  1.4835165739059448,\n",
       "  1.4277714093526204,\n",
       "  1.4065616925557454,\n",
       "  1.441463828086853,\n",
       "  1.4810031652450562,\n",
       "  1.4045114119847615,\n",
       "  1.3920566240946453,\n",
       "  1.3886419137318928,\n",
       "  1.35954749584198,\n",
       "  1.3834171295166016,\n",
       "  1.3761032025019329,\n",
       "  1.3662521839141846,\n",
       "  1.4216807683308919,\n",
       "  1.3389455874760945,\n",
       "  1.3390223979949951,\n",
       "  1.3468927542368572,\n",
       "  1.3579210837682087,\n",
       "  1.3900660673777263,\n",
       "  1.3357168833414714,\n",
       "  1.355055848757426,\n",
       "  1.4399052858352661,\n",
       "  1.32172429561615,\n",
       "  1.3093653519948323,\n",
       "  1.295585036277771,\n",
       "  1.3259456555048625,\n",
       "  1.2992665370305378,\n",
       "  1.3260613679885864,\n",
       "  1.3193140029907227,\n",
       "  1.2746777137120564,\n",
       "  1.2791197299957275,\n",
       "  1.2659575541814168,\n",
       "  1.3139220078786213,\n",
       "  1.2709432045618694,\n",
       "  1.2843952576319377,\n",
       "  1.2756272157033284,\n",
       "  1.251684546470642,\n",
       "  1.245513916015625,\n",
       "  1.2909352382024128,\n",
       "  1.2475098768870037,\n",
       "  1.248478849728902,\n",
       "  1.2425848245620728,\n",
       "  1.2763192256291707,\n",
       "  1.2496333916982014,\n",
       "  1.259058952331543,\n",
       "  1.224747935930888,\n",
       "  1.2868573069572449,\n",
       "  1.2776494820912678,\n",
       "  1.275307059288025,\n",
       "  1.2635083198547363,\n",
       "  1.2199093103408813,\n",
       "  1.199521541595459,\n",
       "  1.224696159362793,\n",
       "  1.1850648323694866,\n",
       "  1.2093619505564372,\n",
       "  1.2785049279530842,\n",
       "  1.242878754933675,\n",
       "  1.203527847925822,\n",
       "  1.1859810749689739,\n",
       "  1.247092644373576,\n",
       "  1.1984477639198303,\n",
       "  1.2083359162012737,\n",
       "  1.1952077349026997,\n",
       "  1.2099319696426392],\n",
       " 'val_acc': [28.645833333333336,\n",
       "  21.2890625,\n",
       "  29.036458333333336,\n",
       "  24.8046875,\n",
       "  26.432291666666668,\n",
       "  27.408854166666664,\n",
       "  28.3203125,\n",
       "  27.34375,\n",
       "  32.161458333333336,\n",
       "  32.03125,\n",
       "  33.203125,\n",
       "  32.096354166666664,\n",
       "  33.268229166666664,\n",
       "  32.161458333333336,\n",
       "  34.765625,\n",
       "  36.328125,\n",
       "  40.364583333333336,\n",
       "  45.833333333333336,\n",
       "  48.177083333333336,\n",
       "  50.325520833333336,\n",
       "  51.041666666666664,\n",
       "  50.065104166666664,\n",
       "  51.041666666666664,\n",
       "  54.1015625,\n",
       "  53.385416666666664,\n",
       "  55.078125,\n",
       "  55.338541666666664,\n",
       "  54.6875,\n",
       "  56.119791666666664,\n",
       "  54.752604166666664,\n",
       "  55.46875,\n",
       "  56.770833333333336,\n",
       "  57.291666666666664,\n",
       "  58.203125,\n",
       "  58.072916666666664,\n",
       "  57.6171875,\n",
       "  57.096354166666664,\n",
       "  59.505208333333336,\n",
       "  60.221354166666664,\n",
       "  58.268229166666664,\n",
       "  57.8125,\n",
       "  59.5703125,\n",
       "  60.416666666666664,\n",
       "  61.067708333333336,\n",
       "  61.1328125,\n",
       "  60.9375,\n",
       "  59.765625,\n",
       "  61.002604166666664,\n",
       "  59.700520833333336,\n",
       "  62.760416666666664,\n",
       "  62.825520833333336,\n",
       "  62.3046875,\n",
       "  62.239583333333336,\n",
       "  59.9609375,\n",
       "  61.9140625,\n",
       "  61.1328125,\n",
       "  59.635416666666664,\n",
       "  63.020833333333336,\n",
       "  63.0859375,\n",
       "  64.12760416666667,\n",
       "  63.0859375,\n",
       "  64.0625,\n",
       "  62.630208333333336,\n",
       "  63.606770833333336,\n",
       "  64.19270833333333,\n",
       "  64.38802083333333,\n",
       "  65.234375,\n",
       "  63.671875,\n",
       "  65.36458333333333,\n",
       "  64.84375,\n",
       "  63.932291666666664,\n",
       "  65.36458333333333,\n",
       "  66.14583333333333,\n",
       "  64.32291666666667,\n",
       "  64.97395833333333,\n",
       "  65.8203125,\n",
       "  66.86197916666667,\n",
       "  66.40625,\n",
       "  64.38802083333333,\n",
       "  65.49479166666667,\n",
       "  66.92708333333333,\n",
       "  63.932291666666664,\n",
       "  66.34114583333333,\n",
       "  65.75520833333333,\n",
       "  65.8203125,\n",
       "  66.34114583333333,\n",
       "  67.578125,\n",
       "  66.40625,\n",
       "  67.83854166666667,\n",
       "  67.3828125,\n",
       "  65.234375,\n",
       "  66.796875,\n",
       "  66.86197916666667,\n",
       "  68.81510416666667,\n",
       "  66.66666666666667,\n",
       "  67.25260416666667,\n",
       "  66.47135416666667,\n",
       "  67.31770833333333,\n",
       "  67.70833333333333],\n",
       " 'test_loss': 1.428122917811076,\n",
       " 'test_acc': 61.002604166666664,\n",
       " 'model_filename': 'model.pth'}"
      ]
     },
     "execution_count": 36,
     "metadata": {},
     "output_type": "execute_result"
    }
   ],
   "source": [
    "train_state"
   ]
  },
  {
   "cell_type": "markdown",
   "id": "3660da2e",
   "metadata": {},
   "source": [
    "### 추론"
   ]
  },
  {
   "cell_type": "code",
   "execution_count": 44,
   "id": "236ce0b5",
   "metadata": {},
   "outputs": [],
   "source": [
    "def predict_nationality(surname, classifier):\n",
    "    vectorized_surname, vec_length = vectorize(surname)\n",
    "    vectorized_surname = torch.tensor(vectorized_surname).unsqueeze(dim=0)\n",
    "    vec_length = torch.tensor([vec_length], dtype=torch.int64)\n",
    "    \n",
    "    result = classifier(vectorized_surname, vec_length, apply_softmax=True)\n",
    "    probability_values, indices = result.max(dim=1)\n",
    "    \n",
    "    index = indices.item()\n",
    "    prob_value = probability_values.item()\n",
    "\n",
    "    predicted_nationality = lookup_index(nationality_vocab,index)\n",
    "\n",
    "    return {'nationality': predicted_nationality, 'probability': prob_value, 'surname': surname}\n",
    "\n"
   ]
  },
  {
   "cell_type": "code",
   "execution_count": 45,
   "id": "051e4e90",
   "metadata": {},
   "outputs": [
    {
     "name": "stdout",
     "output_type": "stream",
     "text": [
      "{'nationality': 'Arabic', 'probability': 0.6438420414924622, 'surname': 'McMahan'}\n",
      "{'nationality': 'Arabic', 'probability': 0.8882786631584167, 'surname': 'Nakamoto'}\n",
      "{'nationality': 'Arabic', 'probability': 0.913679838180542, 'surname': 'Wan'}\n",
      "{'nationality': 'Arabic', 'probability': 0.9940536618232727, 'surname': 'Cho'}\n"
     ]
    }
   ],
   "source": [
    "classifier\n",
    "for surname in ['McMahan', 'Nakamoto', 'Wan', 'Cho']:\n",
    "    print(predict_nationality(surname, classifier))"
   ]
  },
  {
   "cell_type": "code",
   "execution_count": 47,
   "id": "aa877e15",
   "metadata": {},
   "outputs": [
    {
     "name": "stdout",
     "output_type": "stream",
     "text": [
      "Enter a surname: danaka\n",
      "{'nationality': 'Japanese', 'probability': 0.4318922758102417, 'surname': 'danaka'}\n"
     ]
    }
   ],
   "source": [
    "surname = input(\"Enter a surname: \")\n",
    "print(predict_nationality(surname, classifier))"
   ]
  },
  {
   "cell_type": "code",
   "execution_count": null,
   "id": "5ead9a25",
   "metadata": {},
   "outputs": [],
   "source": []
  }
 ],
 "metadata": {
  "kernelspec": {
   "display_name": "nlp",
   "language": "python",
   "name": "nlp"
  },
  "language_info": {
   "codemirror_mode": {
    "name": "ipython",
    "version": 3
   },
   "file_extension": ".py",
   "mimetype": "text/x-python",
   "name": "python",
   "nbconvert_exporter": "python",
   "pygments_lexer": "ipython3",
   "version": "3.8.17"
  }
 },
 "nbformat": 4,
 "nbformat_minor": 5
}
